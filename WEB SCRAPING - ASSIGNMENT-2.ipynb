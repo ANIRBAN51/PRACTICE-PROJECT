{
 "cells": [
  {
   "cell_type": "markdown",
   "id": "4dfc3bcf",
   "metadata": {},
   "source": [
    "#                                   WEB SCRAPING – ASSIGNMENT 2"
   ]
  },
  {
   "cell_type": "raw",
   "id": "7f05971b",
   "metadata": {},
   "source": [
    "Instructions\n",
    "WEB SCRAPING – ASSIGNMENT 2\n",
    "1. All the questions must be done in a single Jupyter notebook.\n",
    "2. There should be proper comments in code.\n"
   ]
  },
  {
   "cell_type": "markdown",
   "id": "64c023a2",
   "metadata": {},
   "source": [
    "Q1: Write a python program to scrape data for “Data Analyst” Job position in “Bangalore” location. You\n",
    "have to scrape the job-title, job-location, company_name, experience_required. You have to scrape first 10\n",
    "jobs data.\n",
    "This task will be done in following steps"
   ]
  },
  {
   "cell_type": "markdown",
   "id": "c8cdfb9a",
   "metadata": {},
   "source": [
    "# 1. First get the webpage https://www.naukri.com/\n"
   ]
  },
  {
   "cell_type": "code",
   "execution_count": 13,
   "id": "26f47c85",
   "metadata": {},
   "outputs": [],
   "source": [
    "import selenium\n",
    "import pandas as pd\n",
    "from selenium import webdriver\n",
    "import warnings\n",
    "warnings.filterwarnings(\"ignore\")\n",
    "import time"
   ]
  },
  {
   "cell_type": "code",
   "execution_count": 173,
   "id": "e9cf137f",
   "metadata": {},
   "outputs": [],
   "source": [
    "driver =webdriver.Chrome(r\"C:\\Users\\hp\\Downloads\\chromedriver_win32\\chromedriver.exe\")"
   ]
  },
  {
   "cell_type": "code",
   "execution_count": 174,
   "id": "0e698ccc",
   "metadata": {},
   "outputs": [],
   "source": [
    "driver=webdriver.Chrome(\"chromedriver.exe\")\n",
    "time.sleep(2)"
   ]
  },
  {
   "cell_type": "code",
   "execution_count": 18,
   "id": "5ee43b99",
   "metadata": {},
   "outputs": [],
   "source": [
    "driver.close()"
   ]
  },
  {
   "cell_type": "code",
   "execution_count": 98,
   "id": "1e970aa0",
   "metadata": {},
   "outputs": [],
   "source": [
    "driver.get(\" https://www.naukri.com/\")"
   ]
  },
  {
   "cell_type": "markdown",
   "id": "1b3fa0d9",
   "metadata": {},
   "source": [
    "2. Enter “Data Analyst” in “Skill, Designations, Companies” field and enter “Bangalore” in “enter the\n",
    "location” field."
   ]
  },
  {
   "cell_type": "code",
   "execution_count": 99,
   "id": "909c3807",
   "metadata": {},
   "outputs": [],
   "source": [
    "search_field_designation_companie=driver.find_element_by_class_name('suggestor-input')\n",
    "search_field_designation_companie.send_keys('Data Analyst')\n",
    "search_field_location=driver.find_element_by_xpath('/html/body/div/div[2]/div[3]/div/div/div[3]/div/div/div/input')\n",
    "search_field_location.send_keys('Bangalore')"
   ]
  },
  {
   "cell_type": "markdown",
   "id": "441a2691",
   "metadata": {},
   "source": [
    "3.Then click the search button."
   ]
  },
  {
   "cell_type": "code",
   "execution_count": 100,
   "id": "99f080f3",
   "metadata": {},
   "outputs": [],
   "source": [
    "search_button=driver.find_element_by_xpath('/html/body/div/div[2]/div[3]/div/div/div[6]')\n",
    "\n",
    "search_button.click()"
   ]
  },
  {
   "cell_type": "markdown",
   "id": "1035c391",
   "metadata": {},
   "source": [
    "4. Then scrape the data for the first 10 jobs results you get."
   ]
  },
  {
   "cell_type": "code",
   "execution_count": 101,
   "id": "edbab939",
   "metadata": {},
   "outputs": [],
   "source": [
    "url='https://www.naukri.com/data-analyst-jobs-in-bangalore?k=data%20analyst&l=bangalore'"
   ]
  },
  {
   "cell_type": "code",
   "execution_count": 102,
   "id": "50ea91ab",
   "metadata": {},
   "outputs": [],
   "source": [
    "driver.get(url)"
   ]
  },
  {
   "cell_type": "code",
   "execution_count": 103,
   "id": "487474fc",
   "metadata": {},
   "outputs": [],
   "source": [
    "job_titles=[]\n",
    "company_names=[]\n",
    "job_locations=[]\n",
    "experience_required=[]"
   ]
  },
  {
   "cell_type": "code",
   "execution_count": 104,
   "id": "6db03788",
   "metadata": {},
   "outputs": [
    {
     "data": {
      "text/plain": [
       "[<selenium.webdriver.remote.webelement.WebElement (session=\"88629aefc09bb7aaf6c2b75beed53027\", element=\"fe895e2d-4550-48d1-80c0-76c0bf1833a4\")>,\n",
       " <selenium.webdriver.remote.webelement.WebElement (session=\"88629aefc09bb7aaf6c2b75beed53027\", element=\"341ba0da-11d2-4330-a112-11522d98c36a\")>,\n",
       " <selenium.webdriver.remote.webelement.WebElement (session=\"88629aefc09bb7aaf6c2b75beed53027\", element=\"3e609c5c-7e4f-4beb-9ebc-5e18ac2eb493\")>,\n",
       " <selenium.webdriver.remote.webelement.WebElement (session=\"88629aefc09bb7aaf6c2b75beed53027\", element=\"f747601f-3fb2-45f4-a0ab-f64135a37f8a\")>,\n",
       " <selenium.webdriver.remote.webelement.WebElement (session=\"88629aefc09bb7aaf6c2b75beed53027\", element=\"9fbfb8dd-08cb-4f25-ba7b-3360a7c5eb4b\")>,\n",
       " <selenium.webdriver.remote.webelement.WebElement (session=\"88629aefc09bb7aaf6c2b75beed53027\", element=\"35cdd8f9-1420-46dd-9e1b-ada9463ce3b7\")>,\n",
       " <selenium.webdriver.remote.webelement.WebElement (session=\"88629aefc09bb7aaf6c2b75beed53027\", element=\"45f85be8-b376-47da-a3e4-ac04c101a0ba\")>,\n",
       " <selenium.webdriver.remote.webelement.WebElement (session=\"88629aefc09bb7aaf6c2b75beed53027\", element=\"b068ab5e-1377-445e-ae74-2d1c01f9e92b\")>,\n",
       " <selenium.webdriver.remote.webelement.WebElement (session=\"88629aefc09bb7aaf6c2b75beed53027\", element=\"54d0b90a-1435-4b97-9dc5-1438f51dba07\")>,\n",
       " <selenium.webdriver.remote.webelement.WebElement (session=\"88629aefc09bb7aaf6c2b75beed53027\", element=\"b61f7375-182d-4599-8fb0-16016fc76710\")>]"
      ]
     },
     "execution_count": 104,
     "metadata": {},
     "output_type": "execute_result"
    }
   ],
   "source": [
    "titles_tags=driver.find_elements_by_xpath('//a[@class=\"title fw500 ellipsis\"]')\n",
    "titles_tags[0:10]"
   ]
  },
  {
   "cell_type": "code",
   "execution_count": 105,
   "id": "33515f80",
   "metadata": {},
   "outputs": [
    {
     "data": {
      "text/plain": [
       "['Business and Data Analyst',\n",
       " 'SAS Analyst / data Analyst / Business analyst - Sas + SQL',\n",
       " 'Data Analyst I',\n",
       " 'Senior Data Analyst',\n",
       " 'Senior Data Analyst, Data & Analytics',\n",
       " 'Hiring - Zonal Data Analyst (Off Role) - Operations - Bangalore & Delh',\n",
       " 'Senior Data Analyst',\n",
       " 'Sr Domain Expert -Data Analysts',\n",
       " 'Data Analyst Sr',\n",
       " 'Data Analyst II']"
      ]
     },
     "execution_count": 105,
     "metadata": {},
     "output_type": "execute_result"
    }
   ],
   "source": [
    "for i in titles_tags:\n",
    "    title=i.text\n",
    "    job_titles.append(title)\n",
    "job_titles[0:10]"
   ]
  },
  {
   "cell_type": "code",
   "execution_count": 106,
   "id": "5c5e2f96",
   "metadata": {},
   "outputs": [
    {
     "data": {
      "text/plain": [
       "[<selenium.webdriver.remote.webelement.WebElement (session=\"88629aefc09bb7aaf6c2b75beed53027\", element=\"c6459dd0-6da6-424f-b88c-602dbe62dc5a\")>,\n",
       " <selenium.webdriver.remote.webelement.WebElement (session=\"88629aefc09bb7aaf6c2b75beed53027\", element=\"19e203d8-dd64-4ae0-b4d8-0e99300edfa7\")>,\n",
       " <selenium.webdriver.remote.webelement.WebElement (session=\"88629aefc09bb7aaf6c2b75beed53027\", element=\"91c6af47-fa1f-4358-bd00-bd8595c83bbf\")>,\n",
       " <selenium.webdriver.remote.webelement.WebElement (session=\"88629aefc09bb7aaf6c2b75beed53027\", element=\"8039f121-6511-4a07-92c3-a1cc6b921fec\")>,\n",
       " <selenium.webdriver.remote.webelement.WebElement (session=\"88629aefc09bb7aaf6c2b75beed53027\", element=\"c1ddff3c-d107-4e8e-aece-ca07db53754e\")>,\n",
       " <selenium.webdriver.remote.webelement.WebElement (session=\"88629aefc09bb7aaf6c2b75beed53027\", element=\"beec1fe9-a6fb-44ac-9108-81a14a70b560\")>,\n",
       " <selenium.webdriver.remote.webelement.WebElement (session=\"88629aefc09bb7aaf6c2b75beed53027\", element=\"76a2c434-da42-4163-8bcd-0bf96a6b8671\")>,\n",
       " <selenium.webdriver.remote.webelement.WebElement (session=\"88629aefc09bb7aaf6c2b75beed53027\", element=\"9a3d4f9c-9737-4dcf-89c1-d39b78d5b428\")>,\n",
       " <selenium.webdriver.remote.webelement.WebElement (session=\"88629aefc09bb7aaf6c2b75beed53027\", element=\"ead62ef6-9153-414a-9e7f-2f052b42070c\")>,\n",
       " <selenium.webdriver.remote.webelement.WebElement (session=\"88629aefc09bb7aaf6c2b75beed53027\", element=\"5d77b738-7fce-42ca-92a5-24f894e915b9\")>]"
      ]
     },
     "execution_count": 106,
     "metadata": {},
     "output_type": "execute_result"
    }
   ],
   "source": [
    "companies_tags=driver.find_elements_by_xpath('//a[@class=\"subTitle ellipsis fleft\"]')\n",
    "companies_tags[0:10]"
   ]
  },
  {
   "cell_type": "code",
   "execution_count": 107,
   "id": "0c68d012",
   "metadata": {},
   "outputs": [
    {
     "data": {
      "text/plain": [
       "['CAREERDOST ENTERPRISE',\n",
       " 'Leading US MNC into analytics',\n",
       " 'Bioclinica',\n",
       " 'Shell',\n",
       " 'ReSource Pro Operational Solutions Pvt Ltd.',\n",
       " 'Rupeek',\n",
       " 'LatentView',\n",
       " 'Siemens',\n",
       " 'Epsilon',\n",
       " 'Cerner']"
      ]
     },
     "execution_count": 107,
     "metadata": {},
     "output_type": "execute_result"
    }
   ],
   "source": [
    "for i in companies_tags:\n",
    "    company_name=i.text\n",
    "    company_names.append(company_name)\n",
    "company_names[0:10]"
   ]
  },
  {
   "cell_type": "code",
   "execution_count": 108,
   "id": "e9f6d40a",
   "metadata": {},
   "outputs": [
    {
     "data": {
      "text/plain": [
       "[<selenium.webdriver.remote.webelement.WebElement (session=\"88629aefc09bb7aaf6c2b75beed53027\", element=\"50a9bd82-cad1-4d2a-a75f-eed1ffa47cef\")>,\n",
       " <selenium.webdriver.remote.webelement.WebElement (session=\"88629aefc09bb7aaf6c2b75beed53027\", element=\"869f2e28-aed9-4783-a612-240eceeb721c\")>,\n",
       " <selenium.webdriver.remote.webelement.WebElement (session=\"88629aefc09bb7aaf6c2b75beed53027\", element=\"5ea411b5-d79d-4dd6-b03a-ac47bd60dec0\")>,\n",
       " <selenium.webdriver.remote.webelement.WebElement (session=\"88629aefc09bb7aaf6c2b75beed53027\", element=\"0ea44575-cbc8-45ac-a19e-b75b26d4c993\")>,\n",
       " <selenium.webdriver.remote.webelement.WebElement (session=\"88629aefc09bb7aaf6c2b75beed53027\", element=\"e5a773b5-e8bf-4348-8f20-3cf71f08e523\")>,\n",
       " <selenium.webdriver.remote.webelement.WebElement (session=\"88629aefc09bb7aaf6c2b75beed53027\", element=\"0d2f2537-94bc-42af-a23e-f5cce659af8c\")>,\n",
       " <selenium.webdriver.remote.webelement.WebElement (session=\"88629aefc09bb7aaf6c2b75beed53027\", element=\"a45ea015-a358-4db5-8134-8d12ebd82596\")>,\n",
       " <selenium.webdriver.remote.webelement.WebElement (session=\"88629aefc09bb7aaf6c2b75beed53027\", element=\"2edcc2e4-7b56-48ea-ac6a-e655d943944c\")>,\n",
       " <selenium.webdriver.remote.webelement.WebElement (session=\"88629aefc09bb7aaf6c2b75beed53027\", element=\"0ce6f8c6-10fe-4c2b-a887-64f375e4bd26\")>,\n",
       " <selenium.webdriver.remote.webelement.WebElement (session=\"88629aefc09bb7aaf6c2b75beed53027\", element=\"d70549ad-e6fc-4659-93b4-6e8fb65872d3\")>]"
      ]
     },
     "execution_count": 108,
     "metadata": {},
     "output_type": "execute_result"
    }
   ],
   "source": [
    "locations_tags=driver.find_elements_by_xpath('//li[@class=\"fleft grey-text br2 placeHolderLi location\"]/span[1]')\n",
    "locations_tags[0:10]"
   ]
  },
  {
   "cell_type": "code",
   "execution_count": 109,
   "id": "e046781d",
   "metadata": {},
   "outputs": [
    {
     "data": {
      "text/plain": [
       "['Bangalore/Bengaluru',\n",
       " 'Bangalore/Bengaluru, Delhi / NCR, Mumbai (All Areas)',\n",
       " 'Bangalore/Bengaluru',\n",
       " 'Bangalore/Bengaluru',\n",
       " 'Bangalore/Bengaluru',\n",
       " 'New Delhi, Bangalore/Bengaluru',\n",
       " 'Chennai, Bangalore/Bengaluru',\n",
       " 'Bangalore/Bengaluru',\n",
       " 'Bangalore/Bengaluru',\n",
       " 'Bangalore/Bengaluru']"
      ]
     },
     "execution_count": 109,
     "metadata": {},
     "output_type": "execute_result"
    }
   ],
   "source": [
    "for i in locations_tags:\n",
    "    location=i.text\n",
    "    job_locations.append(location)\n",
    "job_locations[0:10]"
   ]
  },
  {
   "cell_type": "code",
   "execution_count": 110,
   "id": "34e2f569",
   "metadata": {},
   "outputs": [
    {
     "data": {
      "text/plain": [
       "[<selenium.webdriver.remote.webelement.WebElement (session=\"88629aefc09bb7aaf6c2b75beed53027\", element=\"86908405-ef5f-4812-be79-3b79923d4fdb\")>,\n",
       " <selenium.webdriver.remote.webelement.WebElement (session=\"88629aefc09bb7aaf6c2b75beed53027\", element=\"d2613021-89d3-409a-aec7-236f8f5b95b9\")>,\n",
       " <selenium.webdriver.remote.webelement.WebElement (session=\"88629aefc09bb7aaf6c2b75beed53027\", element=\"79d80c92-bc3d-4a3d-ae0a-142dd3910d3b\")>,\n",
       " <selenium.webdriver.remote.webelement.WebElement (session=\"88629aefc09bb7aaf6c2b75beed53027\", element=\"30e72bff-eafd-4132-a4d7-25e312ba8919\")>,\n",
       " <selenium.webdriver.remote.webelement.WebElement (session=\"88629aefc09bb7aaf6c2b75beed53027\", element=\"89ad5b08-c80b-4435-80f8-1860185cfa2c\")>,\n",
       " <selenium.webdriver.remote.webelement.WebElement (session=\"88629aefc09bb7aaf6c2b75beed53027\", element=\"f4edb7b3-ac02-4b31-a9c6-87bcd6726f18\")>,\n",
       " <selenium.webdriver.remote.webelement.WebElement (session=\"88629aefc09bb7aaf6c2b75beed53027\", element=\"59f5c151-962f-4a72-9334-98923d20d827\")>,\n",
       " <selenium.webdriver.remote.webelement.WebElement (session=\"88629aefc09bb7aaf6c2b75beed53027\", element=\"70bd9d38-57ca-4347-8588-957eabdae27b\")>,\n",
       " <selenium.webdriver.remote.webelement.WebElement (session=\"88629aefc09bb7aaf6c2b75beed53027\", element=\"edc23521-0168-4a5f-9061-3ecaaabd6acb\")>,\n",
       " <selenium.webdriver.remote.webelement.WebElement (session=\"88629aefc09bb7aaf6c2b75beed53027\", element=\"47d9891d-c6dd-47a9-9dc0-0de34018ddc9\")>]"
      ]
     },
     "execution_count": 110,
     "metadata": {},
     "output_type": "execute_result"
    }
   ],
   "source": [
    "experience_tags=driver.find_elements_by_xpath('//li[@class=\"fleft grey-text br2 placeHolderLi experience\"]/span[1]')\n",
    "experience_tags[0:10]\n"
   ]
  },
  {
   "cell_type": "code",
   "execution_count": 111,
   "id": "f0111187",
   "metadata": {},
   "outputs": [
    {
     "data": {
      "text/plain": [
       "['0-5 Yrs',\n",
       " '2-7 Yrs',\n",
       " '0-3 Yrs',\n",
       " '10-12 Yrs',\n",
       " '3-5 Yrs',\n",
       " '2-7 Yrs',\n",
       " '3-6 Yrs',\n",
       " '0-10 Yrs',\n",
       " '5-7 Yrs',\n",
       " '6-10 Yrs']"
      ]
     },
     "execution_count": 111,
     "metadata": {},
     "output_type": "execute_result"
    }
   ],
   "source": [
    "for i in experience_tags:\n",
    "    experience=i.text\n",
    "    experience_required.append(experience)\n",
    "experience_required[0:10]\n",
    "    "
   ]
  },
  {
   "cell_type": "code",
   "execution_count": 112,
   "id": "ca9f108a",
   "metadata": {},
   "outputs": [
    {
     "name": "stdout",
     "output_type": "stream",
     "text": [
      "20 20 20 20\n"
     ]
    }
   ],
   "source": [
    "print(len(job_titles),len(company_names),len(job_locations),len(experience_required))"
   ]
  },
  {
   "cell_type": "raw",
   "id": "c212bfe3",
   "metadata": {},
   "source": [
    "5. Finally create a dataframe of the scraped data."
   ]
  },
  {
   "cell_type": "code",
   "execution_count": 113,
   "id": "a30b99fc",
   "metadata": {},
   "outputs": [],
   "source": [
    "jobs=pd.DataFrame({})\n",
    "jobs['job-title']=job_titles\n",
    "jobs['company_name']=company_names\n",
    "jobs['job_location']=job_locations\n",
    "jobs['experience_required']=experience_required"
   ]
  },
  {
   "cell_type": "code",
   "execution_count": 114,
   "id": "a44ab2fa",
   "metadata": {},
   "outputs": [
    {
     "data": {
      "text/html": [
       "<div>\n",
       "<style scoped>\n",
       "    .dataframe tbody tr th:only-of-type {\n",
       "        vertical-align: middle;\n",
       "    }\n",
       "\n",
       "    .dataframe tbody tr th {\n",
       "        vertical-align: top;\n",
       "    }\n",
       "\n",
       "    .dataframe thead th {\n",
       "        text-align: right;\n",
       "    }\n",
       "</style>\n",
       "<table border=\"1\" class=\"dataframe\">\n",
       "  <thead>\n",
       "    <tr style=\"text-align: right;\">\n",
       "      <th></th>\n",
       "      <th>job-title</th>\n",
       "      <th>company_name</th>\n",
       "      <th>job_location</th>\n",
       "      <th>experience_required</th>\n",
       "    </tr>\n",
       "  </thead>\n",
       "  <tbody>\n",
       "    <tr>\n",
       "      <th>0</th>\n",
       "      <td>Business and Data Analyst</td>\n",
       "      <td>CAREERDOST ENTERPRISE</td>\n",
       "      <td>Bangalore/Bengaluru</td>\n",
       "      <td>0-5 Yrs</td>\n",
       "    </tr>\n",
       "    <tr>\n",
       "      <th>1</th>\n",
       "      <td>SAS Analyst / data Analyst / Business analyst ...</td>\n",
       "      <td>Leading US MNC into analytics</td>\n",
       "      <td>Bangalore/Bengaluru, Delhi / NCR, Mumbai (All ...</td>\n",
       "      <td>2-7 Yrs</td>\n",
       "    </tr>\n",
       "    <tr>\n",
       "      <th>2</th>\n",
       "      <td>Data Analyst I</td>\n",
       "      <td>Bioclinica</td>\n",
       "      <td>Bangalore/Bengaluru</td>\n",
       "      <td>0-3 Yrs</td>\n",
       "    </tr>\n",
       "    <tr>\n",
       "      <th>3</th>\n",
       "      <td>Senior Data Analyst</td>\n",
       "      <td>Shell</td>\n",
       "      <td>Bangalore/Bengaluru</td>\n",
       "      <td>10-12 Yrs</td>\n",
       "    </tr>\n",
       "    <tr>\n",
       "      <th>4</th>\n",
       "      <td>Senior Data Analyst, Data &amp; Analytics</td>\n",
       "      <td>ReSource Pro Operational Solutions Pvt Ltd.</td>\n",
       "      <td>Bangalore/Bengaluru</td>\n",
       "      <td>3-5 Yrs</td>\n",
       "    </tr>\n",
       "    <tr>\n",
       "      <th>5</th>\n",
       "      <td>Hiring - Zonal Data Analyst (Off Role) - Opera...</td>\n",
       "      <td>Rupeek</td>\n",
       "      <td>New Delhi, Bangalore/Bengaluru</td>\n",
       "      <td>2-7 Yrs</td>\n",
       "    </tr>\n",
       "    <tr>\n",
       "      <th>6</th>\n",
       "      <td>Senior Data Analyst</td>\n",
       "      <td>LatentView</td>\n",
       "      <td>Chennai, Bangalore/Bengaluru</td>\n",
       "      <td>3-6 Yrs</td>\n",
       "    </tr>\n",
       "    <tr>\n",
       "      <th>7</th>\n",
       "      <td>Sr Domain Expert -Data Analysts</td>\n",
       "      <td>Siemens</td>\n",
       "      <td>Bangalore/Bengaluru</td>\n",
       "      <td>0-10 Yrs</td>\n",
       "    </tr>\n",
       "    <tr>\n",
       "      <th>8</th>\n",
       "      <td>Data Analyst Sr</td>\n",
       "      <td>Epsilon</td>\n",
       "      <td>Bangalore/Bengaluru</td>\n",
       "      <td>5-7 Yrs</td>\n",
       "    </tr>\n",
       "    <tr>\n",
       "      <th>9</th>\n",
       "      <td>Data Analyst II</td>\n",
       "      <td>Cerner</td>\n",
       "      <td>Bangalore/Bengaluru</td>\n",
       "      <td>6-10 Yrs</td>\n",
       "    </tr>\n",
       "    <tr>\n",
       "      <th>10</th>\n",
       "      <td>Senior Data Analyst II</td>\n",
       "      <td>Flipkart</td>\n",
       "      <td>Bangalore/Bengaluru</td>\n",
       "      <td>2-4 Yrs</td>\n",
       "    </tr>\n",
       "    <tr>\n",
       "      <th>11</th>\n",
       "      <td>Senior Data Analyst II</td>\n",
       "      <td>Flipkart</td>\n",
       "      <td>Bangalore/Bengaluru</td>\n",
       "      <td>3-6 Yrs</td>\n",
       "    </tr>\n",
       "    <tr>\n",
       "      <th>12</th>\n",
       "      <td>Senior Data Analyst - Logistics</td>\n",
       "      <td>Gojek</td>\n",
       "      <td>Bangalore/Bengaluru</td>\n",
       "      <td>4-10 Yrs</td>\n",
       "    </tr>\n",
       "    <tr>\n",
       "      <th>13</th>\n",
       "      <td>Financial Data Analyst - FIG</td>\n",
       "      <td>Moody's</td>\n",
       "      <td>Bangalore/Bengaluru</td>\n",
       "      <td>1-3 Yrs</td>\n",
       "    </tr>\n",
       "    <tr>\n",
       "      <th>14</th>\n",
       "      <td>Data Analyst</td>\n",
       "      <td>Cleartrip</td>\n",
       "      <td>Bangalore/Bengaluru</td>\n",
       "      <td>2-6 Yrs</td>\n",
       "    </tr>\n",
       "    <tr>\n",
       "      <th>15</th>\n",
       "      <td>Data Analysts with Business Analysis</td>\n",
       "      <td>Avanze Technologies India Pvt. Ltd.</td>\n",
       "      <td>Bangalore/Bengaluru</td>\n",
       "      <td>6-8 Yrs</td>\n",
       "    </tr>\n",
       "    <tr>\n",
       "      <th>16</th>\n",
       "      <td>Senior Data Analyst (Digital Services Analytics)</td>\n",
       "      <td>Dell Technologies</td>\n",
       "      <td>Bangalore/Bengaluru</td>\n",
       "      <td>1-6 Yrs</td>\n",
       "    </tr>\n",
       "    <tr>\n",
       "      <th>17</th>\n",
       "      <td>Data Analyst / Data Engineer</td>\n",
       "      <td>TALENT MAX HR &amp; MANAGEMENT CONSULTANTS</td>\n",
       "      <td>Indore, Pune, Bangalore/Bengaluru</td>\n",
       "      <td>8-13 Yrs</td>\n",
       "    </tr>\n",
       "    <tr>\n",
       "      <th>18</th>\n",
       "      <td>Lead Data Analyst - Risk Analytics</td>\n",
       "      <td>Gojek</td>\n",
       "      <td>Bangalore/Bengaluru</td>\n",
       "      <td>5-11 Yrs</td>\n",
       "    </tr>\n",
       "    <tr>\n",
       "      <th>19</th>\n",
       "      <td>Sr Data Management Analyst</td>\n",
       "      <td>Moody's</td>\n",
       "      <td>Bangalore/Bengaluru</td>\n",
       "      <td>3-6 Yrs</td>\n",
       "    </tr>\n",
       "  </tbody>\n",
       "</table>\n",
       "</div>"
      ],
      "text/plain": [
       "                                            job-title  \\\n",
       "0                           Business and Data Analyst   \n",
       "1   SAS Analyst / data Analyst / Business analyst ...   \n",
       "2                                      Data Analyst I   \n",
       "3                                 Senior Data Analyst   \n",
       "4               Senior Data Analyst, Data & Analytics   \n",
       "5   Hiring - Zonal Data Analyst (Off Role) - Opera...   \n",
       "6                                 Senior Data Analyst   \n",
       "7                     Sr Domain Expert -Data Analysts   \n",
       "8                                     Data Analyst Sr   \n",
       "9                                     Data Analyst II   \n",
       "10                             Senior Data Analyst II   \n",
       "11                             Senior Data Analyst II   \n",
       "12                    Senior Data Analyst - Logistics   \n",
       "13                       Financial Data Analyst - FIG   \n",
       "14                                       Data Analyst   \n",
       "15               Data Analysts with Business Analysis   \n",
       "16   Senior Data Analyst (Digital Services Analytics)   \n",
       "17                       Data Analyst / Data Engineer   \n",
       "18                 Lead Data Analyst - Risk Analytics   \n",
       "19                         Sr Data Management Analyst   \n",
       "\n",
       "                                   company_name  \\\n",
       "0                         CAREERDOST ENTERPRISE   \n",
       "1                 Leading US MNC into analytics   \n",
       "2                                    Bioclinica   \n",
       "3                                         Shell   \n",
       "4   ReSource Pro Operational Solutions Pvt Ltd.   \n",
       "5                                        Rupeek   \n",
       "6                                    LatentView   \n",
       "7                                       Siemens   \n",
       "8                                       Epsilon   \n",
       "9                                        Cerner   \n",
       "10                                     Flipkart   \n",
       "11                                     Flipkart   \n",
       "12                                        Gojek   \n",
       "13                                      Moody's   \n",
       "14                                    Cleartrip   \n",
       "15          Avanze Technologies India Pvt. Ltd.   \n",
       "16                            Dell Technologies   \n",
       "17       TALENT MAX HR & MANAGEMENT CONSULTANTS   \n",
       "18                                        Gojek   \n",
       "19                                      Moody's   \n",
       "\n",
       "                                         job_location experience_required  \n",
       "0                                 Bangalore/Bengaluru             0-5 Yrs  \n",
       "1   Bangalore/Bengaluru, Delhi / NCR, Mumbai (All ...             2-7 Yrs  \n",
       "2                                 Bangalore/Bengaluru             0-3 Yrs  \n",
       "3                                 Bangalore/Bengaluru           10-12 Yrs  \n",
       "4                                 Bangalore/Bengaluru             3-5 Yrs  \n",
       "5                      New Delhi, Bangalore/Bengaluru             2-7 Yrs  \n",
       "6                        Chennai, Bangalore/Bengaluru             3-6 Yrs  \n",
       "7                                 Bangalore/Bengaluru            0-10 Yrs  \n",
       "8                                 Bangalore/Bengaluru             5-7 Yrs  \n",
       "9                                 Bangalore/Bengaluru            6-10 Yrs  \n",
       "10                                Bangalore/Bengaluru             2-4 Yrs  \n",
       "11                                Bangalore/Bengaluru             3-6 Yrs  \n",
       "12                                Bangalore/Bengaluru            4-10 Yrs  \n",
       "13                                Bangalore/Bengaluru             1-3 Yrs  \n",
       "14                                Bangalore/Bengaluru             2-6 Yrs  \n",
       "15                                Bangalore/Bengaluru             6-8 Yrs  \n",
       "16                                Bangalore/Bengaluru             1-6 Yrs  \n",
       "17                  Indore, Pune, Bangalore/Bengaluru            8-13 Yrs  \n",
       "18                                Bangalore/Bengaluru            5-11 Yrs  \n",
       "19                                Bangalore/Bengaluru             3-6 Yrs  "
      ]
     },
     "execution_count": 114,
     "metadata": {},
     "output_type": "execute_result"
    }
   ],
   "source": [
    "jobs"
   ]
  },
  {
   "cell_type": "raw",
   "id": "af085da5",
   "metadata": {},
   "source": [
    "Q2: Write a python program to scrape data for “Data Scientist” Job position in “Bangalore” location. You\n",
    "have to scrape the job-title, job-location, company_name. You have to scrape first 10 jobs data.\n",
    "This task will be done in following steps:"
   ]
  },
  {
   "cell_type": "raw",
   "id": "6201dfaa",
   "metadata": {},
   "source": [
    "1. First get the webpage https://www.naukri.com/\n",
    "2. Enter “Data Scientist” in “Skill, Designations, Companies” field and enter “Bangalore” in “enter the\n",
    "location” field.\n",
    "3. Then click the search button.\n",
    "4. Then scrape the data for the first 10 jobs results you get.\n",
    "5. Finally create a dataframe of the scraped data"
   ]
  },
  {
   "cell_type": "code",
   "execution_count": 117,
   "id": "4518e9a3",
   "metadata": {},
   "outputs": [],
   "source": [
    "driver.get(\" https://www.naukri.com/\")"
   ]
  },
  {
   "cell_type": "code",
   "execution_count": 118,
   "id": "0226590c",
   "metadata": {},
   "outputs": [],
   "source": [
    "search_field_designation_companie=driver.find_element_by_class_name('suggestor-input')\n",
    "search_field_designation_companie.send_keys('Data Scientist')\n",
    "search_field_location=driver.find_element_by_xpath('/html/body/div/div[2]/div[3]/div/div/div[3]/div/div/div/input')\n",
    "search_field_location.send_keys('Bangalore')"
   ]
  },
  {
   "cell_type": "code",
   "execution_count": 119,
   "id": "1d39b4a3",
   "metadata": {},
   "outputs": [],
   "source": [
    "search_button=driver.find_element_by_xpath('/html/body/div/div[2]/div[3]/div/div/div[6]')\n",
    "\n",
    "search_button.click()"
   ]
  },
  {
   "cell_type": "code",
   "execution_count": 120,
   "id": "decad3b8",
   "metadata": {},
   "outputs": [],
   "source": [
    "url='https://www.naukri.com/data-scientist-jobs-in-bangalore?k=data%20scientist&l=bangalore'"
   ]
  },
  {
   "cell_type": "code",
   "execution_count": 121,
   "id": "b417ce70",
   "metadata": {},
   "outputs": [],
   "source": [
    "driver.get(url)"
   ]
  },
  {
   "cell_type": "code",
   "execution_count": 122,
   "id": "db7a794f",
   "metadata": {},
   "outputs": [],
   "source": [
    "job_titles=[]\n",
    "company_names=[]\n",
    "job_locations=[]"
   ]
  },
  {
   "cell_type": "code",
   "execution_count": 123,
   "id": "772ebf01",
   "metadata": {},
   "outputs": [
    {
     "data": {
      "text/plain": [
       "[<selenium.webdriver.remote.webelement.WebElement (session=\"0a6601163bf20753b9a9c8facf531c78\", element=\"1abd9eaf-b20b-4b49-919e-412b8d26c982\")>,\n",
       " <selenium.webdriver.remote.webelement.WebElement (session=\"0a6601163bf20753b9a9c8facf531c78\", element=\"b82735d3-2e42-4bac-8d12-8356d2aacc49\")>,\n",
       " <selenium.webdriver.remote.webelement.WebElement (session=\"0a6601163bf20753b9a9c8facf531c78\", element=\"aa75f88e-5bab-40d9-b781-33badba5bf56\")>,\n",
       " <selenium.webdriver.remote.webelement.WebElement (session=\"0a6601163bf20753b9a9c8facf531c78\", element=\"bd9702ac-7bcc-43bd-81aa-3466ef0f81f1\")>,\n",
       " <selenium.webdriver.remote.webelement.WebElement (session=\"0a6601163bf20753b9a9c8facf531c78\", element=\"2029e22e-eb18-4be1-98ba-5de11456069f\")>,\n",
       " <selenium.webdriver.remote.webelement.WebElement (session=\"0a6601163bf20753b9a9c8facf531c78\", element=\"3f8398e5-faa2-4fb2-9f3f-b02b46b85743\")>,\n",
       " <selenium.webdriver.remote.webelement.WebElement (session=\"0a6601163bf20753b9a9c8facf531c78\", element=\"7dfc333c-7129-46fe-aa84-ae963dd7875b\")>,\n",
       " <selenium.webdriver.remote.webelement.WebElement (session=\"0a6601163bf20753b9a9c8facf531c78\", element=\"82713b18-2d74-48e9-9463-26eb492c6d9f\")>,\n",
       " <selenium.webdriver.remote.webelement.WebElement (session=\"0a6601163bf20753b9a9c8facf531c78\", element=\"eae4a31c-b2e1-4301-adfc-f0691191aa75\")>,\n",
       " <selenium.webdriver.remote.webelement.WebElement (session=\"0a6601163bf20753b9a9c8facf531c78\", element=\"4f145dd9-def1-4d69-a99c-66820307e0cf\")>]"
      ]
     },
     "execution_count": 123,
     "metadata": {},
     "output_type": "execute_result"
    }
   ],
   "source": [
    "titles_tags=driver.find_elements_by_xpath('//a[@class=\"title fw500 ellipsis\"]')\n",
    "titles_tags[0:10]"
   ]
  },
  {
   "cell_type": "code",
   "execution_count": 124,
   "id": "d0e9ffd1",
   "metadata": {},
   "outputs": [
    {
     "data": {
      "text/plain": [
       "['Senior Data Scientist (IN4)',\n",
       " 'Senior Data Scientist',\n",
       " 'Senior Data Scientist',\n",
       " 'Senior Data Scientist',\n",
       " 'Staff Engineer Data Scientist',\n",
       " 'Data Scientist: Advanced Analytics',\n",
       " 'Data Scientist - IN3',\n",
       " 'Data Science - Data Scientist',\n",
       " 'FTE - Regional BI - Data Scientist',\n",
       " 'Data Scientist: Artificial Intelligence']"
      ]
     },
     "execution_count": 124,
     "metadata": {},
     "output_type": "execute_result"
    }
   ],
   "source": [
    "for i in titles_tags:\n",
    "    title=i.text\n",
    "    job_titles.append(title)\n",
    "job_titles[0:10]"
   ]
  },
  {
   "cell_type": "code",
   "execution_count": 125,
   "id": "cc10b6f7",
   "metadata": {},
   "outputs": [
    {
     "data": {
      "text/plain": [
       "[<selenium.webdriver.remote.webelement.WebElement (session=\"0a6601163bf20753b9a9c8facf531c78\", element=\"349e73db-145d-4e82-981f-80c400da0070\")>,\n",
       " <selenium.webdriver.remote.webelement.WebElement (session=\"0a6601163bf20753b9a9c8facf531c78\", element=\"58e646e2-0f22-4e00-beeb-d1fc07c9a58c\")>,\n",
       " <selenium.webdriver.remote.webelement.WebElement (session=\"0a6601163bf20753b9a9c8facf531c78\", element=\"d02bb688-b779-46c9-8631-29c35cbe5edc\")>,\n",
       " <selenium.webdriver.remote.webelement.WebElement (session=\"0a6601163bf20753b9a9c8facf531c78\", element=\"1964f032-5545-41c8-92c1-93b8e2b0bcb3\")>,\n",
       " <selenium.webdriver.remote.webelement.WebElement (session=\"0a6601163bf20753b9a9c8facf531c78\", element=\"11fda0e7-3a47-4e18-b920-3194a6d78990\")>,\n",
       " <selenium.webdriver.remote.webelement.WebElement (session=\"0a6601163bf20753b9a9c8facf531c78\", element=\"4231352c-d1c7-4316-9a6b-6c1c4e15b9d2\")>,\n",
       " <selenium.webdriver.remote.webelement.WebElement (session=\"0a6601163bf20753b9a9c8facf531c78\", element=\"893173b8-c104-45a1-9745-1596d0aacddc\")>,\n",
       " <selenium.webdriver.remote.webelement.WebElement (session=\"0a6601163bf20753b9a9c8facf531c78\", element=\"e56825f2-1e6a-4b77-8da4-d5f74f644671\")>,\n",
       " <selenium.webdriver.remote.webelement.WebElement (session=\"0a6601163bf20753b9a9c8facf531c78\", element=\"a2edfea6-41b0-4e28-996e-9d19365c44c7\")>,\n",
       " <selenium.webdriver.remote.webelement.WebElement (session=\"0a6601163bf20753b9a9c8facf531c78\", element=\"a718d7a5-7fce-434a-8d34-f05d4e1450ad\")>]"
      ]
     },
     "execution_count": 125,
     "metadata": {},
     "output_type": "execute_result"
    }
   ],
   "source": [
    "locations_tags=driver.find_elements_by_xpath('//li[@class=\"fleft grey-text br2 placeHolderLi location\"]/span[1]')\n",
    "locations_tags[0:10]"
   ]
  },
  {
   "cell_type": "code",
   "execution_count": 126,
   "id": "aaca2967",
   "metadata": {},
   "outputs": [
    {
     "data": {
      "text/plain": [
       "['Bangalore/Bengaluru',\n",
       " 'Bangalore/Bengaluru',\n",
       " 'Bangalore/Bengaluru',\n",
       " 'Bangalore/Bengaluru',\n",
       " 'Bangalore/Bengaluru',\n",
       " 'Bangalore/Bengaluru',\n",
       " 'Bangalore/Bengaluru',\n",
       " 'Pune, Bangalore/Bengaluru',\n",
       " 'Bangalore/Bengaluru',\n",
       " 'Bangalore/Bengaluru']"
      ]
     },
     "execution_count": 126,
     "metadata": {},
     "output_type": "execute_result"
    }
   ],
   "source": [
    "for i in locations_tags:\n",
    "    location=i.text\n",
    "    job_locations.append(location)\n",
    "job_locations[0:10]"
   ]
  },
  {
   "cell_type": "code",
   "execution_count": 127,
   "id": "ccc86fd4",
   "metadata": {},
   "outputs": [
    {
     "data": {
      "text/plain": [
       "[<selenium.webdriver.remote.webelement.WebElement (session=\"0a6601163bf20753b9a9c8facf531c78\", element=\"35eaf50a-d629-453e-ab4b-ea31dcc56d35\")>,\n",
       " <selenium.webdriver.remote.webelement.WebElement (session=\"0a6601163bf20753b9a9c8facf531c78\", element=\"0da2ed11-ceaf-4391-bbe7-a371ae5716ea\")>,\n",
       " <selenium.webdriver.remote.webelement.WebElement (session=\"0a6601163bf20753b9a9c8facf531c78\", element=\"79b53591-bcf4-4a7d-aab5-119e4a75464c\")>,\n",
       " <selenium.webdriver.remote.webelement.WebElement (session=\"0a6601163bf20753b9a9c8facf531c78\", element=\"b293d294-a278-4027-9e34-43b1cd165308\")>,\n",
       " <selenium.webdriver.remote.webelement.WebElement (session=\"0a6601163bf20753b9a9c8facf531c78\", element=\"c0b8ef46-9fa0-492a-9e35-6368dee6de38\")>,\n",
       " <selenium.webdriver.remote.webelement.WebElement (session=\"0a6601163bf20753b9a9c8facf531c78\", element=\"f2f9e337-8b40-4214-a40a-d3be87d8749a\")>,\n",
       " <selenium.webdriver.remote.webelement.WebElement (session=\"0a6601163bf20753b9a9c8facf531c78\", element=\"5e943bcf-b9dd-4826-8c6e-42d565c50ba1\")>,\n",
       " <selenium.webdriver.remote.webelement.WebElement (session=\"0a6601163bf20753b9a9c8facf531c78\", element=\"c06aa76a-9f38-41a3-bbda-494c668463a0\")>,\n",
       " <selenium.webdriver.remote.webelement.WebElement (session=\"0a6601163bf20753b9a9c8facf531c78\", element=\"4e084621-bf3e-446c-bc12-ca8508fac2ef\")>,\n",
       " <selenium.webdriver.remote.webelement.WebElement (session=\"0a6601163bf20753b9a9c8facf531c78\", element=\"7bfeb6a4-8ab2-4b1e-b9c3-f30d32340d94\")>]"
      ]
     },
     "execution_count": 127,
     "metadata": {},
     "output_type": "execute_result"
    }
   ],
   "source": [
    "companies_tags=driver.find_elements_by_xpath('//a[@class=\"subTitle ellipsis fleft\"]')\n",
    "companies_tags[0:10]"
   ]
  },
  {
   "cell_type": "code",
   "execution_count": 128,
   "id": "63cb14c2",
   "metadata": {},
   "outputs": [
    {
     "data": {
      "text/plain": [
       "['Walmart',\n",
       " 'Walmart',\n",
       " 'Ericsson Global Services',\n",
       " 'Truecaller',\n",
       " 'Infineon Technologies Pvt Ltd',\n",
       " 'IBM',\n",
       " 'Walmart',\n",
       " 'Paytm',\n",
       " 'Schneider Electric',\n",
       " 'IBM']"
      ]
     },
     "execution_count": 128,
     "metadata": {},
     "output_type": "execute_result"
    }
   ],
   "source": [
    "for i in companies_tags:\n",
    "    company_name=i.text\n",
    "    company_names.append(company_name)\n",
    "company_names[0:10]"
   ]
  },
  {
   "cell_type": "code",
   "execution_count": 129,
   "id": "ce106b9e",
   "metadata": {},
   "outputs": [
    {
     "name": "stdout",
     "output_type": "stream",
     "text": [
      "20 20 20\n"
     ]
    }
   ],
   "source": [
    "print(len(job_titles),len(company_names),len(job_locations))\n"
   ]
  },
  {
   "cell_type": "code",
   "execution_count": 130,
   "id": "486f0ed2",
   "metadata": {},
   "outputs": [],
   "source": [
    "jobs=pd.DataFrame({})\n",
    "jobs['job-title']=job_titles\n",
    "jobs['company_name']=company_names\n",
    "jobs['job_location']=job_locations"
   ]
  },
  {
   "cell_type": "code",
   "execution_count": 131,
   "id": "5dfcd409",
   "metadata": {},
   "outputs": [
    {
     "data": {
      "text/html": [
       "<div>\n",
       "<style scoped>\n",
       "    .dataframe tbody tr th:only-of-type {\n",
       "        vertical-align: middle;\n",
       "    }\n",
       "\n",
       "    .dataframe tbody tr th {\n",
       "        vertical-align: top;\n",
       "    }\n",
       "\n",
       "    .dataframe thead th {\n",
       "        text-align: right;\n",
       "    }\n",
       "</style>\n",
       "<table border=\"1\" class=\"dataframe\">\n",
       "  <thead>\n",
       "    <tr style=\"text-align: right;\">\n",
       "      <th></th>\n",
       "      <th>job-title</th>\n",
       "      <th>company_name</th>\n",
       "      <th>job_location</th>\n",
       "    </tr>\n",
       "  </thead>\n",
       "  <tbody>\n",
       "    <tr>\n",
       "      <th>0</th>\n",
       "      <td>Senior Data Scientist (IN4)</td>\n",
       "      <td>Walmart</td>\n",
       "      <td>Bangalore/Bengaluru</td>\n",
       "    </tr>\n",
       "    <tr>\n",
       "      <th>1</th>\n",
       "      <td>Senior Data Scientist</td>\n",
       "      <td>Walmart</td>\n",
       "      <td>Bangalore/Bengaluru</td>\n",
       "    </tr>\n",
       "    <tr>\n",
       "      <th>2</th>\n",
       "      <td>Senior Data Scientist</td>\n",
       "      <td>Ericsson Global Services</td>\n",
       "      <td>Bangalore/Bengaluru</td>\n",
       "    </tr>\n",
       "    <tr>\n",
       "      <th>3</th>\n",
       "      <td>Senior Data Scientist</td>\n",
       "      <td>Truecaller</td>\n",
       "      <td>Bangalore/Bengaluru</td>\n",
       "    </tr>\n",
       "    <tr>\n",
       "      <th>4</th>\n",
       "      <td>Staff Engineer Data Scientist</td>\n",
       "      <td>Infineon Technologies Pvt Ltd</td>\n",
       "      <td>Bangalore/Bengaluru</td>\n",
       "    </tr>\n",
       "    <tr>\n",
       "      <th>5</th>\n",
       "      <td>Data Scientist: Advanced Analytics</td>\n",
       "      <td>IBM</td>\n",
       "      <td>Bangalore/Bengaluru</td>\n",
       "    </tr>\n",
       "    <tr>\n",
       "      <th>6</th>\n",
       "      <td>Data Scientist - IN3</td>\n",
       "      <td>Walmart</td>\n",
       "      <td>Bangalore/Bengaluru</td>\n",
       "    </tr>\n",
       "    <tr>\n",
       "      <th>7</th>\n",
       "      <td>Data Science - Data Scientist</td>\n",
       "      <td>Paytm</td>\n",
       "      <td>Pune, Bangalore/Bengaluru</td>\n",
       "    </tr>\n",
       "    <tr>\n",
       "      <th>8</th>\n",
       "      <td>FTE - Regional BI - Data Scientist</td>\n",
       "      <td>Schneider Electric</td>\n",
       "      <td>Bangalore/Bengaluru</td>\n",
       "    </tr>\n",
       "    <tr>\n",
       "      <th>9</th>\n",
       "      <td>Data Scientist: Artificial Intelligence</td>\n",
       "      <td>IBM</td>\n",
       "      <td>Bangalore/Bengaluru</td>\n",
       "    </tr>\n",
       "    <tr>\n",
       "      <th>10</th>\n",
       "      <td>Analytics - Data Scientist</td>\n",
       "      <td>Schneider Electric</td>\n",
       "      <td>Bangalore/Bengaluru</td>\n",
       "    </tr>\n",
       "    <tr>\n",
       "      <th>11</th>\n",
       "      <td>Data Scientist</td>\n",
       "      <td>Ericsson Global Services</td>\n",
       "      <td>Bangalore/Bengaluru</td>\n",
       "    </tr>\n",
       "    <tr>\n",
       "      <th>12</th>\n",
       "      <td>Data Scientist</td>\n",
       "      <td>Applied Materials</td>\n",
       "      <td>Bangalore/Bengaluru</td>\n",
       "    </tr>\n",
       "    <tr>\n",
       "      <th>13</th>\n",
       "      <td>Urgent Hiring For AI Data Scientist</td>\n",
       "      <td>Ashkom Media India Private Limited</td>\n",
       "      <td>New Delhi, Bangalore/Bengaluru, Mumbai (All Ar...</td>\n",
       "    </tr>\n",
       "    <tr>\n",
       "      <th>14</th>\n",
       "      <td>Data Scientist/Senior Data Scientist - Python</td>\n",
       "      <td>ApicalGo Consultancy</td>\n",
       "      <td>Bangalore/Bengaluru</td>\n",
       "    </tr>\n",
       "    <tr>\n",
       "      <th>15</th>\n",
       "      <td>Senior Data Scientist - SQL/Python/Numpy</td>\n",
       "      <td>Serving Skill</td>\n",
       "      <td>Bangalore/Bengaluru</td>\n",
       "    </tr>\n",
       "    <tr>\n",
       "      <th>16</th>\n",
       "      <td>Lead Data Scientist</td>\n",
       "      <td>Groww</td>\n",
       "      <td>Bangalore/Bengaluru</td>\n",
       "    </tr>\n",
       "    <tr>\n",
       "      <th>17</th>\n",
       "      <td>Senior Data Scientist</td>\n",
       "      <td>PayU</td>\n",
       "      <td>Bangalore/Bengaluru</td>\n",
       "    </tr>\n",
       "    <tr>\n",
       "      <th>18</th>\n",
       "      <td>Senior Data Scientist</td>\n",
       "      <td>Gojek</td>\n",
       "      <td>Bangalore/Bengaluru</td>\n",
       "    </tr>\n",
       "    <tr>\n",
       "      <th>19</th>\n",
       "      <td>ASSOCIATE DATA SCIENTIST</td>\n",
       "      <td>Hinduja Global</td>\n",
       "      <td>Bangalore/Bengaluru</td>\n",
       "    </tr>\n",
       "  </tbody>\n",
       "</table>\n",
       "</div>"
      ],
      "text/plain": [
       "                                        job-title  \\\n",
       "0                     Senior Data Scientist (IN4)   \n",
       "1                           Senior Data Scientist   \n",
       "2                           Senior Data Scientist   \n",
       "3                           Senior Data Scientist   \n",
       "4                   Staff Engineer Data Scientist   \n",
       "5              Data Scientist: Advanced Analytics   \n",
       "6                            Data Scientist - IN3   \n",
       "7                   Data Science - Data Scientist   \n",
       "8              FTE - Regional BI - Data Scientist   \n",
       "9         Data Scientist: Artificial Intelligence   \n",
       "10                     Analytics - Data Scientist   \n",
       "11                                 Data Scientist   \n",
       "12                                 Data Scientist   \n",
       "13            Urgent Hiring For AI Data Scientist   \n",
       "14  Data Scientist/Senior Data Scientist - Python   \n",
       "15       Senior Data Scientist - SQL/Python/Numpy   \n",
       "16                            Lead Data Scientist   \n",
       "17                          Senior Data Scientist   \n",
       "18                          Senior Data Scientist   \n",
       "19                       ASSOCIATE DATA SCIENTIST   \n",
       "\n",
       "                          company_name  \\\n",
       "0                              Walmart   \n",
       "1                              Walmart   \n",
       "2             Ericsson Global Services   \n",
       "3                           Truecaller   \n",
       "4        Infineon Technologies Pvt Ltd   \n",
       "5                                  IBM   \n",
       "6                              Walmart   \n",
       "7                                Paytm   \n",
       "8                   Schneider Electric   \n",
       "9                                  IBM   \n",
       "10                  Schneider Electric   \n",
       "11            Ericsson Global Services   \n",
       "12                   Applied Materials   \n",
       "13  Ashkom Media India Private Limited   \n",
       "14                ApicalGo Consultancy   \n",
       "15                       Serving Skill   \n",
       "16                               Groww   \n",
       "17                                PayU   \n",
       "18                               Gojek   \n",
       "19                      Hinduja Global   \n",
       "\n",
       "                                         job_location  \n",
       "0                                 Bangalore/Bengaluru  \n",
       "1                                 Bangalore/Bengaluru  \n",
       "2                                 Bangalore/Bengaluru  \n",
       "3                                 Bangalore/Bengaluru  \n",
       "4                                 Bangalore/Bengaluru  \n",
       "5                                 Bangalore/Bengaluru  \n",
       "6                                 Bangalore/Bengaluru  \n",
       "7                           Pune, Bangalore/Bengaluru  \n",
       "8                                 Bangalore/Bengaluru  \n",
       "9                                 Bangalore/Bengaluru  \n",
       "10                                Bangalore/Bengaluru  \n",
       "11                                Bangalore/Bengaluru  \n",
       "12                                Bangalore/Bengaluru  \n",
       "13  New Delhi, Bangalore/Bengaluru, Mumbai (All Ar...  \n",
       "14                                Bangalore/Bengaluru  \n",
       "15                                Bangalore/Bengaluru  \n",
       "16                                Bangalore/Bengaluru  \n",
       "17                                Bangalore/Bengaluru  \n",
       "18                                Bangalore/Bengaluru  \n",
       "19                                Bangalore/Bengaluru  "
      ]
     },
     "execution_count": 131,
     "metadata": {},
     "output_type": "execute_result"
    }
   ],
   "source": [
    "jobs"
   ]
  },
  {
   "cell_type": "raw",
   "id": "9fbc6298",
   "metadata": {},
   "source": [
    "Q3: In this question you have to scrape data using the filters available on the webpage as shown below:\n",
    "        You have to use the location and salary filter.\n",
    "You have to scrape data for “Data Scientist” designation for first 10 job results.\n",
    "You have to scrape the job-title, job-location, company name, experience required.\n",
    "The location filter to be used is “Delhi/NCR”. The salary filter to be used is “3-6” lakhs"
   ]
  },
  {
   "cell_type": "raw",
   "id": "e258a685",
   "metadata": {},
   "source": [
    "The task will be done as shown in the below steps:\n",
    "1. first get the webpage https://www.naukri.com/\n",
    "2. Enter “Data Scientist” in “Skill, Designations, and Companies” field.\n",
    "3. Then click the search button.\n",
    "4. Then apply the location filter and salary filter by checking the respective boxes\n",
    "5. Then scrape the data for the first 10 jobs results you get.\n",
    "6. Finally create a dataframe of the scraped data."
   ]
  },
  {
   "cell_type": "code",
   "execution_count": 189,
   "id": "55351d8e",
   "metadata": {},
   "outputs": [],
   "source": [
    "driver.get(\" https://www.naukri.com/\")"
   ]
  },
  {
   "cell_type": "code",
   "execution_count": 190,
   "id": "c90d98c2",
   "metadata": {},
   "outputs": [],
   "source": [
    "search_field_designation=driver.find_element_by_class_name('suggestor-input')\n",
    "search_field_designation.send_keys('Data Scientist')\n"
   ]
  },
  {
   "cell_type": "code",
   "execution_count": 191,
   "id": "fa20d58b",
   "metadata": {},
   "outputs": [],
   "source": [
    "time.sleep(10)"
   ]
  },
  {
   "cell_type": "code",
   "execution_count": 192,
   "id": "e3470c77",
   "metadata": {},
   "outputs": [],
   "source": [
    "search_field_location=driver.find_element_by_xpath('/html/body/div/div[2]/div[3]/div/div/div[3]/div/div/div/input')\n",
    "search_field_location.send_keys('Delhi/NCR')\n",
    "\n",
    "\n",
    "time.sleep(10)"
   ]
  },
  {
   "cell_type": "code",
   "execution_count": 193,
   "id": "cdf42b96",
   "metadata": {},
   "outputs": [],
   "source": [
    "\n",
    "search_button=driver.find_element_by_xpath('/html/body/div/div[2]/div[3]/div/div/div[6]')\n",
    "\n",
    "search_button.click()\n",
    "\n",
    "time.sleep(10)"
   ]
  },
  {
   "cell_type": "code",
   "execution_count": 194,
   "id": "e61c6a9b",
   "metadata": {},
   "outputs": [],
   "source": [
    "search_button_Salary=driver.find_element_by_xpath('/html/body/div[1]/div[3]/div[2]/section[1]/div[2]/div[4]/div[2]/div[2]/label/p/span[1]')\n",
    "\n",
    "search_button_Salary.click()\n",
    "\n",
    "time.sleep(10)"
   ]
  },
  {
   "cell_type": "code",
   "execution_count": 197,
   "id": "2a1ecdad",
   "metadata": {},
   "outputs": [],
   "source": [
    "job_titles=[]\n",
    "job_location=[]\n",
    "company_name=[]\n",
    "experience_required=[]"
   ]
  },
  {
   "cell_type": "code",
   "execution_count": 198,
   "id": "ff63f7e3",
   "metadata": {},
   "outputs": [
    {
     "data": {
      "text/plain": [
       "[<selenium.webdriver.remote.webelement.WebElement (session=\"187bd4cde71b37757b5820e0427792af\", element=\"579418d9-18de-451a-96a1-27c4c8eb5549\")>,\n",
       " <selenium.webdriver.remote.webelement.WebElement (session=\"187bd4cde71b37757b5820e0427792af\", element=\"57909f3b-3824-4a1a-ac33-08148cd9b8fc\")>,\n",
       " <selenium.webdriver.remote.webelement.WebElement (session=\"187bd4cde71b37757b5820e0427792af\", element=\"6c06c6a6-4b3b-47d7-854d-452dad8d5f4a\")>,\n",
       " <selenium.webdriver.remote.webelement.WebElement (session=\"187bd4cde71b37757b5820e0427792af\", element=\"85ed0581-c285-45c1-a14e-7416c2517586\")>,\n",
       " <selenium.webdriver.remote.webelement.WebElement (session=\"187bd4cde71b37757b5820e0427792af\", element=\"8b086d4c-791c-4b13-98ed-2190fff02a4c\")>,\n",
       " <selenium.webdriver.remote.webelement.WebElement (session=\"187bd4cde71b37757b5820e0427792af\", element=\"c160a96f-a6dd-47dc-9508-65dec503f1e3\")>,\n",
       " <selenium.webdriver.remote.webelement.WebElement (session=\"187bd4cde71b37757b5820e0427792af\", element=\"55cd48f0-f3f8-4995-8358-c0bbb430e0f2\")>,\n",
       " <selenium.webdriver.remote.webelement.WebElement (session=\"187bd4cde71b37757b5820e0427792af\", element=\"63678f83-cba6-4bc7-b647-b99dc213c91e\")>,\n",
       " <selenium.webdriver.remote.webelement.WebElement (session=\"187bd4cde71b37757b5820e0427792af\", element=\"df639033-43cd-426c-b123-657e81b2e6ef\")>,\n",
       " <selenium.webdriver.remote.webelement.WebElement (session=\"187bd4cde71b37757b5820e0427792af\", element=\"b148cbc9-54db-4e8c-b489-d5fb22b6ad77\")>]"
      ]
     },
     "execution_count": 198,
     "metadata": {},
     "output_type": "execute_result"
    }
   ],
   "source": [
    "titles_tags=driver.find_elements_by_xpath('//a[@class=\"title fw500 ellipsis\"]')\n",
    "titles_tags[0:10]"
   ]
  },
  {
   "cell_type": "code",
   "execution_count": 199,
   "id": "62ca05f4",
   "metadata": {},
   "outputs": [
    {
     "data": {
      "text/plain": [
       "['Associate Data Scientist',\n",
       " 'Data Scientist (freelance)',\n",
       " 'Hiring For Senior Data Scientist-Noida',\n",
       " 'Data Scientist/ Machine Learning, 2022 Passout Can also apply',\n",
       " 'Opening For Data Scientist',\n",
       " 'Data Scientist',\n",
       " 'Data Scientist',\n",
       " 'Senior Data Scientist',\n",
       " 'AM Data Scientist - Goods & Service Tax Network, Delhi',\n",
       " 'Lead Data Scientist']"
      ]
     },
     "execution_count": 199,
     "metadata": {},
     "output_type": "execute_result"
    }
   ],
   "source": [
    "for i in titles_tags:\n",
    "    title=i.text\n",
    "    job_titles.append(title)\n",
    "job_titles[0:10]"
   ]
  },
  {
   "cell_type": "code",
   "execution_count": 201,
   "id": "4aeb498b",
   "metadata": {},
   "outputs": [
    {
     "data": {
      "text/plain": [
       "[<selenium.webdriver.remote.webelement.WebElement (session=\"187bd4cde71b37757b5820e0427792af\", element=\"12dbe6aa-a39c-4e45-a487-0e78ec585175\")>,\n",
       " <selenium.webdriver.remote.webelement.WebElement (session=\"187bd4cde71b37757b5820e0427792af\", element=\"2a0890fa-7c26-4773-ae0b-ba34c941ad64\")>,\n",
       " <selenium.webdriver.remote.webelement.WebElement (session=\"187bd4cde71b37757b5820e0427792af\", element=\"eff79b8c-0971-49c1-bb5d-b9bd54dc9284\")>,\n",
       " <selenium.webdriver.remote.webelement.WebElement (session=\"187bd4cde71b37757b5820e0427792af\", element=\"acde92f5-d2e1-4a64-a084-da590d921bff\")>,\n",
       " <selenium.webdriver.remote.webelement.WebElement (session=\"187bd4cde71b37757b5820e0427792af\", element=\"883b9c02-847b-45b2-b075-d08000c13626\")>,\n",
       " <selenium.webdriver.remote.webelement.WebElement (session=\"187bd4cde71b37757b5820e0427792af\", element=\"db258063-fbdc-4868-9450-ea1e0b0cfce3\")>,\n",
       " <selenium.webdriver.remote.webelement.WebElement (session=\"187bd4cde71b37757b5820e0427792af\", element=\"b395703e-54e7-4486-af77-94c2e05761fc\")>,\n",
       " <selenium.webdriver.remote.webelement.WebElement (session=\"187bd4cde71b37757b5820e0427792af\", element=\"c2a45a16-e262-455f-ad30-a1565abc1e86\")>,\n",
       " <selenium.webdriver.remote.webelement.WebElement (session=\"187bd4cde71b37757b5820e0427792af\", element=\"f64f0083-2e52-433e-98f2-1f6f0b0f541e\")>,\n",
       " <selenium.webdriver.remote.webelement.WebElement (session=\"187bd4cde71b37757b5820e0427792af\", element=\"51fea98c-1b26-4aac-b44f-8f575e66cff6\")>]"
      ]
     },
     "execution_count": 201,
     "metadata": {},
     "output_type": "execute_result"
    }
   ],
   "source": [
    "location_titles=driver.find_elements_by_xpath('//li[@class=\"fleft grey-text br2 placeHolderLi location\"]/span[1]')\n",
    "location_titles[0:10]"
   ]
  },
  {
   "cell_type": "code",
   "execution_count": 202,
   "id": "db0b045c",
   "metadata": {},
   "outputs": [
    {
     "data": {
      "text/plain": [
       "['Gurgaon/Gurugram',\n",
       " 'New Delhi, Delhi',\n",
       " 'Noida, Greater Noida, Delhi / NCR',\n",
       " 'Hyderabad/Secunderabad, Ahmedabad, Chennai, Bangalore/Bengaluru, Delhi / NCR, Mumbai (All Areas)',\n",
       " 'Gurgaon/Gurugram',\n",
       " 'Gurgaon, Bengaluru',\n",
       " 'New Delhi',\n",
       " 'Delhi',\n",
       " 'Delhi / NCR',\n",
       " 'Gurgaon/Gurugram']"
      ]
     },
     "execution_count": 202,
     "metadata": {},
     "output_type": "execute_result"
    }
   ],
   "source": [
    "for i in location_titles:\n",
    "    title=i.text\n",
    "    job_location.append(title)\n",
    "job_location[0:10]"
   ]
  },
  {
   "cell_type": "code",
   "execution_count": 203,
   "id": "f4a39508",
   "metadata": {},
   "outputs": [
    {
     "data": {
      "text/plain": [
       "[<selenium.webdriver.remote.webelement.WebElement (session=\"187bd4cde71b37757b5820e0427792af\", element=\"49011661-27ca-404c-bcb1-dece5ef1b56e\")>,\n",
       " <selenium.webdriver.remote.webelement.WebElement (session=\"187bd4cde71b37757b5820e0427792af\", element=\"b1bbb0ea-b963-4b78-84b5-8629519292ee\")>,\n",
       " <selenium.webdriver.remote.webelement.WebElement (session=\"187bd4cde71b37757b5820e0427792af\", element=\"77d9eba6-9453-4213-a145-9b2020f8ff77\")>,\n",
       " <selenium.webdriver.remote.webelement.WebElement (session=\"187bd4cde71b37757b5820e0427792af\", element=\"c6cbc86f-6085-431a-8d64-804a8eb637d7\")>,\n",
       " <selenium.webdriver.remote.webelement.WebElement (session=\"187bd4cde71b37757b5820e0427792af\", element=\"00ee84b8-ef8f-4404-ace9-1aab300da4f4\")>,\n",
       " <selenium.webdriver.remote.webelement.WebElement (session=\"187bd4cde71b37757b5820e0427792af\", element=\"6669bed6-2214-4175-9acf-0186ed17b708\")>,\n",
       " <selenium.webdriver.remote.webelement.WebElement (session=\"187bd4cde71b37757b5820e0427792af\", element=\"11098d25-9262-472b-ae63-440e735d789e\")>,\n",
       " <selenium.webdriver.remote.webelement.WebElement (session=\"187bd4cde71b37757b5820e0427792af\", element=\"99a270f9-bc71-44a0-8fcd-6ccca2674020\")>,\n",
       " <selenium.webdriver.remote.webelement.WebElement (session=\"187bd4cde71b37757b5820e0427792af\", element=\"d0e76991-100e-4255-9c80-e7c58cd81079\")>,\n",
       " <selenium.webdriver.remote.webelement.WebElement (session=\"187bd4cde71b37757b5820e0427792af\", element=\"c4f36864-7c86-48b7-8939-c8c79bce2d5b\")>]"
      ]
     },
     "execution_count": 203,
     "metadata": {},
     "output_type": "execute_result"
    }
   ],
   "source": [
    "name_titles=driver.find_elements_by_xpath('//a[@class=\"subTitle ellipsis fleft\"]')\n",
    "name_titles[0:10]"
   ]
  },
  {
   "cell_type": "code",
   "execution_count": 204,
   "id": "ba6bd479",
   "metadata": {},
   "outputs": [
    {
     "data": {
      "text/plain": [
       "['Optum',\n",
       " '2Coms',\n",
       " 'Lumiq.ai',\n",
       " 'Creative Hands HR Consultancy',\n",
       " 'Care Health Insurance',\n",
       " 'BlackBuck',\n",
       " 'Boston Consulting Group',\n",
       " 'iNICU',\n",
       " 'NISG (National Institute for Smart Government)',\n",
       " 'KIA INDIA PRIVATE LIMITED']"
      ]
     },
     "execution_count": 204,
     "metadata": {},
     "output_type": "execute_result"
    }
   ],
   "source": [
    "for i in name_titles:\n",
    "    title=i.text\n",
    "    company_name.append(title)\n",
    "company_name[0:10]"
   ]
  },
  {
   "cell_type": "code",
   "execution_count": 205,
   "id": "4132cd55",
   "metadata": {},
   "outputs": [
    {
     "data": {
      "text/plain": [
       "[<selenium.webdriver.remote.webelement.WebElement (session=\"187bd4cde71b37757b5820e0427792af\", element=\"56392454-41b7-434b-80f3-ce5e86d524fe\")>,\n",
       " <selenium.webdriver.remote.webelement.WebElement (session=\"187bd4cde71b37757b5820e0427792af\", element=\"79bde69d-e1ce-4470-a88b-a171e48a6caa\")>,\n",
       " <selenium.webdriver.remote.webelement.WebElement (session=\"187bd4cde71b37757b5820e0427792af\", element=\"597b852b-92a3-4989-b358-4531b2e4a591\")>,\n",
       " <selenium.webdriver.remote.webelement.WebElement (session=\"187bd4cde71b37757b5820e0427792af\", element=\"051db52a-6c11-4120-861a-546ba6c14af5\")>,\n",
       " <selenium.webdriver.remote.webelement.WebElement (session=\"187bd4cde71b37757b5820e0427792af\", element=\"050945cb-b2ed-4513-b45b-2025b188fbf0\")>,\n",
       " <selenium.webdriver.remote.webelement.WebElement (session=\"187bd4cde71b37757b5820e0427792af\", element=\"f1004a1e-76c0-4afb-837f-3a7ed4c2fcc6\")>,\n",
       " <selenium.webdriver.remote.webelement.WebElement (session=\"187bd4cde71b37757b5820e0427792af\", element=\"3665803d-7d2a-44ba-90a4-7f9493d2a574\")>,\n",
       " <selenium.webdriver.remote.webelement.WebElement (session=\"187bd4cde71b37757b5820e0427792af\", element=\"c2ae269f-fe54-4ea6-9365-45eafcb44658\")>,\n",
       " <selenium.webdriver.remote.webelement.WebElement (session=\"187bd4cde71b37757b5820e0427792af\", element=\"260a0d7c-8bfd-4f79-a29d-36edbffa6e34\")>,\n",
       " <selenium.webdriver.remote.webelement.WebElement (session=\"187bd4cde71b37757b5820e0427792af\", element=\"534a8710-dd4d-4b10-98a3-344c2f5aefa0\")>]"
      ]
     },
     "execution_count": 205,
     "metadata": {},
     "output_type": "execute_result"
    }
   ],
   "source": [
    "required_titles=driver.find_elements_by_xpath('//li[@class=\"fleft grey-text br2 placeHolderLi experience\"]/span[1]')\n",
    "required_titles[0:10]"
   ]
  },
  {
   "cell_type": "code",
   "execution_count": 207,
   "id": "dbd5ffcb",
   "metadata": {},
   "outputs": [
    {
     "data": {
      "text/plain": [
       "['1-5 Yrs',\n",
       " '2-7 Yrs',\n",
       " '2-6 Yrs',\n",
       " '0-4 Yrs',\n",
       " '1-5 Yrs',\n",
       " '3-7 Yrs',\n",
       " '2-5 Yrs',\n",
       " '1-5 Yrs',\n",
       " '3-8 Yrs',\n",
       " '7-10 Yrs']"
      ]
     },
     "execution_count": 207,
     "metadata": {},
     "output_type": "execute_result"
    }
   ],
   "source": [
    "for i in required_titles:\n",
    "    experience=i.text\n",
    "    experience_required.append(experience)\n",
    "experience_required[0:10]\n"
   ]
  },
  {
   "cell_type": "code",
   "execution_count": 208,
   "id": "83be3539",
   "metadata": {},
   "outputs": [
    {
     "name": "stdout",
     "output_type": "stream",
     "text": [
      "20 20 20 20\n"
     ]
    }
   ],
   "source": [
    "print(len(job_titles),len(company_name),len(job_location),len(experience_required))"
   ]
  },
  {
   "cell_type": "code",
   "execution_count": 209,
   "id": "19dcd77b",
   "metadata": {},
   "outputs": [],
   "source": [
    "jobs=pd.DataFrame({})\n",
    "jobs['title']=job_titles\n",
    "jobs['company']=company_name\n",
    "jobs['location']=job_location\n",
    "jobs['experience_required']=experience_required"
   ]
  },
  {
   "cell_type": "code",
   "execution_count": 210,
   "id": "451e5e60",
   "metadata": {},
   "outputs": [
    {
     "data": {
      "text/html": [
       "<div>\n",
       "<style scoped>\n",
       "    .dataframe tbody tr th:only-of-type {\n",
       "        vertical-align: middle;\n",
       "    }\n",
       "\n",
       "    .dataframe tbody tr th {\n",
       "        vertical-align: top;\n",
       "    }\n",
       "\n",
       "    .dataframe thead th {\n",
       "        text-align: right;\n",
       "    }\n",
       "</style>\n",
       "<table border=\"1\" class=\"dataframe\">\n",
       "  <thead>\n",
       "    <tr style=\"text-align: right;\">\n",
       "      <th></th>\n",
       "      <th>title</th>\n",
       "      <th>company</th>\n",
       "      <th>location</th>\n",
       "      <th>experience_required</th>\n",
       "    </tr>\n",
       "  </thead>\n",
       "  <tbody>\n",
       "    <tr>\n",
       "      <th>0</th>\n",
       "      <td>Associate Data Scientist</td>\n",
       "      <td>Optum</td>\n",
       "      <td>Gurgaon/Gurugram</td>\n",
       "      <td>1-5 Yrs</td>\n",
       "    </tr>\n",
       "    <tr>\n",
       "      <th>1</th>\n",
       "      <td>Data Scientist (freelance)</td>\n",
       "      <td>2Coms</td>\n",
       "      <td>New Delhi, Delhi</td>\n",
       "      <td>2-7 Yrs</td>\n",
       "    </tr>\n",
       "    <tr>\n",
       "      <th>2</th>\n",
       "      <td>Hiring For Senior Data Scientist-Noida</td>\n",
       "      <td>Lumiq.ai</td>\n",
       "      <td>Noida, Greater Noida, Delhi / NCR</td>\n",
       "      <td>2-6 Yrs</td>\n",
       "    </tr>\n",
       "    <tr>\n",
       "      <th>3</th>\n",
       "      <td>Data Scientist/ Machine Learning, 2022 Passout...</td>\n",
       "      <td>Creative Hands HR Consultancy</td>\n",
       "      <td>Hyderabad/Secunderabad, Ahmedabad, Chennai, Ba...</td>\n",
       "      <td>0-4 Yrs</td>\n",
       "    </tr>\n",
       "    <tr>\n",
       "      <th>4</th>\n",
       "      <td>Opening For Data Scientist</td>\n",
       "      <td>Care Health Insurance</td>\n",
       "      <td>Gurgaon/Gurugram</td>\n",
       "      <td>1-5 Yrs</td>\n",
       "    </tr>\n",
       "    <tr>\n",
       "      <th>5</th>\n",
       "      <td>Data Scientist</td>\n",
       "      <td>BlackBuck</td>\n",
       "      <td>Gurgaon, Bengaluru</td>\n",
       "      <td>3-7 Yrs</td>\n",
       "    </tr>\n",
       "    <tr>\n",
       "      <th>6</th>\n",
       "      <td>Data Scientist</td>\n",
       "      <td>Boston Consulting Group</td>\n",
       "      <td>New Delhi</td>\n",
       "      <td>2-5 Yrs</td>\n",
       "    </tr>\n",
       "    <tr>\n",
       "      <th>7</th>\n",
       "      <td>Senior Data Scientist</td>\n",
       "      <td>iNICU</td>\n",
       "      <td>Delhi</td>\n",
       "      <td>1-5 Yrs</td>\n",
       "    </tr>\n",
       "    <tr>\n",
       "      <th>8</th>\n",
       "      <td>AM Data Scientist - Goods &amp; Service Tax Networ...</td>\n",
       "      <td>NISG (National Institute for Smart Government)</td>\n",
       "      <td>Delhi / NCR</td>\n",
       "      <td>3-8 Yrs</td>\n",
       "    </tr>\n",
       "    <tr>\n",
       "      <th>9</th>\n",
       "      <td>Lead Data Scientist</td>\n",
       "      <td>KIA INDIA PRIVATE LIMITED</td>\n",
       "      <td>Gurgaon/Gurugram</td>\n",
       "      <td>7-10 Yrs</td>\n",
       "    </tr>\n",
       "    <tr>\n",
       "      <th>10</th>\n",
       "      <td>Data Scientist - Python/SQL</td>\n",
       "      <td>AVE-Promagne</td>\n",
       "      <td>Noida, Kota, Mumbai, Chandigarh, Lucknow, Agra...</td>\n",
       "      <td>3-8 Yrs</td>\n",
       "    </tr>\n",
       "    <tr>\n",
       "      <th>11</th>\n",
       "      <td>Data Scientist</td>\n",
       "      <td>Country Veggie</td>\n",
       "      <td>Bharuch, Jaipur, Bhopal, Mumbai, Jhansi, Nagpu...</td>\n",
       "      <td>1-3 Yrs</td>\n",
       "    </tr>\n",
       "    <tr>\n",
       "      <th>12</th>\n",
       "      <td>Associate Data Scientist</td>\n",
       "      <td>Right Step Consulting</td>\n",
       "      <td>Noida</td>\n",
       "      <td>3-6 Yrs</td>\n",
       "    </tr>\n",
       "    <tr>\n",
       "      <th>13</th>\n",
       "      <td>Junior AI Data Scientist</td>\n",
       "      <td>Seven Consultancy (HR Solution)</td>\n",
       "      <td>New Delhi</td>\n",
       "      <td>1-6 Yrs</td>\n",
       "    </tr>\n",
       "    <tr>\n",
       "      <th>14</th>\n",
       "      <td>AM - Data Scientist</td>\n",
       "      <td>GSTN</td>\n",
       "      <td>Delhi / NCR</td>\n",
       "      <td>3-5 Yrs</td>\n",
       "    </tr>\n",
       "    <tr>\n",
       "      <th>15</th>\n",
       "      <td>Data scientist- Python</td>\n",
       "      <td>TeamPlus Staffing Solution Pvt Ltd</td>\n",
       "      <td>Gurgaon/Gurugram</td>\n",
       "      <td>3-6 Yrs</td>\n",
       "    </tr>\n",
       "    <tr>\n",
       "      <th>16</th>\n",
       "      <td>Data Scientist</td>\n",
       "      <td>T &amp; A Solutions</td>\n",
       "      <td>Gurgaon/Gurugram</td>\n",
       "      <td>2-6 Yrs</td>\n",
       "    </tr>\n",
       "    <tr>\n",
       "      <th>17</th>\n",
       "      <td>Data Scientist</td>\n",
       "      <td>itForte Staffing Services Private Ltd.</td>\n",
       "      <td>Gurgaon</td>\n",
       "      <td>3-8 Yrs</td>\n",
       "    </tr>\n",
       "    <tr>\n",
       "      <th>18</th>\n",
       "      <td>data scientist - biotechnology Jobs</td>\n",
       "      <td>Right Step Consulting</td>\n",
       "      <td>Delhi</td>\n",
       "      <td>2-5 Yrs</td>\n",
       "    </tr>\n",
       "    <tr>\n",
       "      <th>19</th>\n",
       "      <td>Data Scientist</td>\n",
       "      <td>Mahajan Imaging</td>\n",
       "      <td>Delhi</td>\n",
       "      <td>2-6 Yrs</td>\n",
       "    </tr>\n",
       "  </tbody>\n",
       "</table>\n",
       "</div>"
      ],
      "text/plain": [
       "                                                title  \\\n",
       "0                            Associate Data Scientist   \n",
       "1                          Data Scientist (freelance)   \n",
       "2              Hiring For Senior Data Scientist-Noida   \n",
       "3   Data Scientist/ Machine Learning, 2022 Passout...   \n",
       "4                          Opening For Data Scientist   \n",
       "5                                      Data Scientist   \n",
       "6                                      Data Scientist   \n",
       "7                               Senior Data Scientist   \n",
       "8   AM Data Scientist - Goods & Service Tax Networ...   \n",
       "9                                 Lead Data Scientist   \n",
       "10                        Data Scientist - Python/SQL   \n",
       "11                                     Data Scientist   \n",
       "12                           Associate Data Scientist   \n",
       "13                           Junior AI Data Scientist   \n",
       "14                                AM - Data Scientist   \n",
       "15                             Data scientist- Python   \n",
       "16                                     Data Scientist   \n",
       "17                                     Data Scientist   \n",
       "18                data scientist - biotechnology Jobs   \n",
       "19                                     Data Scientist   \n",
       "\n",
       "                                           company  \\\n",
       "0                                            Optum   \n",
       "1                                            2Coms   \n",
       "2                                         Lumiq.ai   \n",
       "3                    Creative Hands HR Consultancy   \n",
       "4                            Care Health Insurance   \n",
       "5                                        BlackBuck   \n",
       "6                          Boston Consulting Group   \n",
       "7                                            iNICU   \n",
       "8   NISG (National Institute for Smart Government)   \n",
       "9                        KIA INDIA PRIVATE LIMITED   \n",
       "10                                    AVE-Promagne   \n",
       "11                                  Country Veggie   \n",
       "12                           Right Step Consulting   \n",
       "13                 Seven Consultancy (HR Solution)   \n",
       "14                                            GSTN   \n",
       "15              TeamPlus Staffing Solution Pvt Ltd   \n",
       "16                                 T & A Solutions   \n",
       "17          itForte Staffing Services Private Ltd.   \n",
       "18                           Right Step Consulting   \n",
       "19                                 Mahajan Imaging   \n",
       "\n",
       "                                             location experience_required  \n",
       "0                                    Gurgaon/Gurugram             1-5 Yrs  \n",
       "1                                    New Delhi, Delhi             2-7 Yrs  \n",
       "2                   Noida, Greater Noida, Delhi / NCR             2-6 Yrs  \n",
       "3   Hyderabad/Secunderabad, Ahmedabad, Chennai, Ba...             0-4 Yrs  \n",
       "4                                    Gurgaon/Gurugram             1-5 Yrs  \n",
       "5                                  Gurgaon, Bengaluru             3-7 Yrs  \n",
       "6                                           New Delhi             2-5 Yrs  \n",
       "7                                               Delhi             1-5 Yrs  \n",
       "8                                         Delhi / NCR             3-8 Yrs  \n",
       "9                                    Gurgaon/Gurugram            7-10 Yrs  \n",
       "10  Noida, Kota, Mumbai, Chandigarh, Lucknow, Agra...             3-8 Yrs  \n",
       "11  Bharuch, Jaipur, Bhopal, Mumbai, Jhansi, Nagpu...             1-3 Yrs  \n",
       "12                                              Noida             3-6 Yrs  \n",
       "13                                          New Delhi             1-6 Yrs  \n",
       "14                                        Delhi / NCR             3-5 Yrs  \n",
       "15                                   Gurgaon/Gurugram             3-6 Yrs  \n",
       "16                                   Gurgaon/Gurugram             2-6 Yrs  \n",
       "17                                            Gurgaon             3-8 Yrs  \n",
       "18                                              Delhi             2-5 Yrs  \n",
       "19                                              Delhi             2-6 Yrs  "
      ]
     },
     "execution_count": 210,
     "metadata": {},
     "output_type": "execute_result"
    }
   ],
   "source": [
    "jobs"
   ]
  },
  {
   "cell_type": "code",
   "execution_count": null,
   "id": "ff4a54f7",
   "metadata": {},
   "outputs": [],
   "source": []
  },
  {
   "cell_type": "code",
   "execution_count": null,
   "id": "60dca4f9",
   "metadata": {},
   "outputs": [],
   "source": [
    "Q4: Scrape data of first 100 sunglasses listings on flipkart.com. You have to scrape four attributes:\n",
    "1. Brand\n",
    "2. Product Description\n",
    "3. Price"
   ]
  },
  {
   "cell_type": "raw",
   "id": "c7b36bc1",
   "metadata": {},
   "source": [
    "1. Go to Flipkart webpage by url : https://www.flipkart.com/\n",
    "2. Enter “sunglasses” in the search field where “search for products, brands andmore” is written and\n",
    "click the search icon\n",
    "3. After that you will reach to the page having a lot of sunglasses. From this pageyou can scrap the\n",
    "required data as usual\n",
    "4. After scraping data from the first page, go to the “Next” Button at the bottom ofthe page , then\n",
    "click on it.\n",
    "5. Now scrape data from this page as usual\n",
    "6. Repeat this until you get data for 100 sunglasses"
   ]
  },
  {
   "cell_type": "code",
   "execution_count": 130,
   "id": "4e673d9a",
   "metadata": {},
   "outputs": [],
   "source": [
    "driver.get(\"https://www.flipkart.com/\")"
   ]
  },
  {
   "cell_type": "code",
   "execution_count": 131,
   "id": "6ef9e1e4",
   "metadata": {},
   "outputs": [],
   "source": [
    "search_field_product_sunglass=driver.find_element_by_class_name('_3704LK')\n",
    "search_field_product_sunglass.send_keys('Sunglass')"
   ]
  },
  {
   "cell_type": "code",
   "execution_count": 135,
   "id": "eeada4af",
   "metadata": {},
   "outputs": [],
   "source": [
    "search_button=driver.find_element_by_xpath(\"/html/body/div[1]/div/div[1]/div[1]/div[2]/div[2]/form/div/button\")\n",
    "\n",
    "search_button.click()"
   ]
  },
  {
   "cell_type": "code",
   "execution_count": 136,
   "id": "96416d8b",
   "metadata": {},
   "outputs": [],
   "source": [
    "Brand_titles=[]\n",
    "Product_descriptions=[]\n",
    "Price_titles=[]"
   ]
  },
  {
   "cell_type": "code",
   "execution_count": 137,
   "id": "1af80174",
   "metadata": {},
   "outputs": [
    {
     "data": {
      "text/plain": [
       "[<selenium.webdriver.remote.webelement.WebElement (session=\"fbc254b3a7c18ea34260e527a84f1c78\", element=\"4ac73374-c030-403d-980c-3728d9306cf3\")>,\n",
       " <selenium.webdriver.remote.webelement.WebElement (session=\"fbc254b3a7c18ea34260e527a84f1c78\", element=\"11e2986f-e811-4511-9e16-a45d2444c810\")>,\n",
       " <selenium.webdriver.remote.webelement.WebElement (session=\"fbc254b3a7c18ea34260e527a84f1c78\", element=\"3bc56419-a18c-484a-9d35-720664d70302\")>,\n",
       " <selenium.webdriver.remote.webelement.WebElement (session=\"fbc254b3a7c18ea34260e527a84f1c78\", element=\"df8d6181-52c9-469d-b535-4a43f419bdfe\")>,\n",
       " <selenium.webdriver.remote.webelement.WebElement (session=\"fbc254b3a7c18ea34260e527a84f1c78\", element=\"11d0c90c-2de0-448c-a03a-309bc8010c09\")>,\n",
       " <selenium.webdriver.remote.webelement.WebElement (session=\"fbc254b3a7c18ea34260e527a84f1c78\", element=\"cdc300fb-7063-4130-b038-ef3e64c80933\")>,\n",
       " <selenium.webdriver.remote.webelement.WebElement (session=\"fbc254b3a7c18ea34260e527a84f1c78\", element=\"267f5609-2f7f-4d9d-85ec-7ac4643f334c\")>,\n",
       " <selenium.webdriver.remote.webelement.WebElement (session=\"fbc254b3a7c18ea34260e527a84f1c78\", element=\"3e22df28-8c0f-44a8-8f3a-6531a3209420\")>,\n",
       " <selenium.webdriver.remote.webelement.WebElement (session=\"fbc254b3a7c18ea34260e527a84f1c78\", element=\"de24b43f-aafd-4569-abb4-489b6236ccdc\")>,\n",
       " <selenium.webdriver.remote.webelement.WebElement (session=\"fbc254b3a7c18ea34260e527a84f1c78\", element=\"a553c740-16ae-49eb-8337-b35519019525\")>,\n",
       " <selenium.webdriver.remote.webelement.WebElement (session=\"fbc254b3a7c18ea34260e527a84f1c78\", element=\"8ff37a45-7b0e-482a-979d-956b7cdcb49a\")>,\n",
       " <selenium.webdriver.remote.webelement.WebElement (session=\"fbc254b3a7c18ea34260e527a84f1c78\", element=\"c0c2a602-e2b3-4df4-bf33-852f1aa51560\")>,\n",
       " <selenium.webdriver.remote.webelement.WebElement (session=\"fbc254b3a7c18ea34260e527a84f1c78\", element=\"0e91c4df-a679-40d0-9da9-0eaf56a4b24a\")>,\n",
       " <selenium.webdriver.remote.webelement.WebElement (session=\"fbc254b3a7c18ea34260e527a84f1c78\", element=\"b52de84d-2dd6-4e90-9037-91e2639f21ef\")>,\n",
       " <selenium.webdriver.remote.webelement.WebElement (session=\"fbc254b3a7c18ea34260e527a84f1c78\", element=\"8841dfa1-9a4a-4c1b-8472-368be19fd148\")>,\n",
       " <selenium.webdriver.remote.webelement.WebElement (session=\"fbc254b3a7c18ea34260e527a84f1c78\", element=\"1df156aa-104b-4896-b41f-10cc66ce58d3\")>,\n",
       " <selenium.webdriver.remote.webelement.WebElement (session=\"fbc254b3a7c18ea34260e527a84f1c78\", element=\"c91d9aa5-bf99-436f-9c42-3558b0b175c4\")>,\n",
       " <selenium.webdriver.remote.webelement.WebElement (session=\"fbc254b3a7c18ea34260e527a84f1c78\", element=\"c66ef56e-6bde-4a2b-9287-77c97f42433b\")>,\n",
       " <selenium.webdriver.remote.webelement.WebElement (session=\"fbc254b3a7c18ea34260e527a84f1c78\", element=\"c045ea1b-e774-4ed9-84b0-1d6677c8e443\")>,\n",
       " <selenium.webdriver.remote.webelement.WebElement (session=\"fbc254b3a7c18ea34260e527a84f1c78\", element=\"2f8b5c1d-3023-4f1a-90e8-1ad5139f3c39\")>,\n",
       " <selenium.webdriver.remote.webelement.WebElement (session=\"fbc254b3a7c18ea34260e527a84f1c78\", element=\"1207df27-d9e3-4e21-9ac4-11f9bf675b97\")>,\n",
       " <selenium.webdriver.remote.webelement.WebElement (session=\"fbc254b3a7c18ea34260e527a84f1c78\", element=\"3712337f-bd47-4e2f-b6df-03f86c80f280\")>,\n",
       " <selenium.webdriver.remote.webelement.WebElement (session=\"fbc254b3a7c18ea34260e527a84f1c78\", element=\"55521271-911d-44d1-a014-58800febbd17\")>,\n",
       " <selenium.webdriver.remote.webelement.WebElement (session=\"fbc254b3a7c18ea34260e527a84f1c78\", element=\"c09ca222-479a-4b5e-b00a-6b39bc8b2bad\")>,\n",
       " <selenium.webdriver.remote.webelement.WebElement (session=\"fbc254b3a7c18ea34260e527a84f1c78\", element=\"d706c236-7c29-4ded-a1fd-05d7709613ce\")>,\n",
       " <selenium.webdriver.remote.webelement.WebElement (session=\"fbc254b3a7c18ea34260e527a84f1c78\", element=\"a4ab4174-58f0-4743-a4de-801fd3436d6f\")>,\n",
       " <selenium.webdriver.remote.webelement.WebElement (session=\"fbc254b3a7c18ea34260e527a84f1c78\", element=\"be661789-9ec3-4184-b672-e9807b842d88\")>,\n",
       " <selenium.webdriver.remote.webelement.WebElement (session=\"fbc254b3a7c18ea34260e527a84f1c78\", element=\"81dc7bca-4529-4b32-95cf-1a0bd1945824\")>,\n",
       " <selenium.webdriver.remote.webelement.WebElement (session=\"fbc254b3a7c18ea34260e527a84f1c78\", element=\"ddedf954-cd7d-46dd-859a-35e22a6d9dc2\")>,\n",
       " <selenium.webdriver.remote.webelement.WebElement (session=\"fbc254b3a7c18ea34260e527a84f1c78\", element=\"7f6befdf-e926-4404-a0f0-99180a4242b4\")>,\n",
       " <selenium.webdriver.remote.webelement.WebElement (session=\"fbc254b3a7c18ea34260e527a84f1c78\", element=\"35dc0f3c-5c40-4551-83fe-8e3e6936b1f2\")>,\n",
       " <selenium.webdriver.remote.webelement.WebElement (session=\"fbc254b3a7c18ea34260e527a84f1c78\", element=\"5d66b553-196a-4e2c-b256-d4d376ac69b0\")>,\n",
       " <selenium.webdriver.remote.webelement.WebElement (session=\"fbc254b3a7c18ea34260e527a84f1c78\", element=\"8aa92384-8908-431b-b05b-f71e2b5fd451\")>,\n",
       " <selenium.webdriver.remote.webelement.WebElement (session=\"fbc254b3a7c18ea34260e527a84f1c78\", element=\"2f8ac484-f81e-46df-961d-d7a762fce507\")>,\n",
       " <selenium.webdriver.remote.webelement.WebElement (session=\"fbc254b3a7c18ea34260e527a84f1c78\", element=\"839de2bc-db82-421e-8f2c-bf5119f656d3\")>,\n",
       " <selenium.webdriver.remote.webelement.WebElement (session=\"fbc254b3a7c18ea34260e527a84f1c78\", element=\"ac6f649e-ebc6-4357-9641-0fb7dabed68a\")>,\n",
       " <selenium.webdriver.remote.webelement.WebElement (session=\"fbc254b3a7c18ea34260e527a84f1c78\", element=\"25254271-00d7-40ce-a69c-1107c8bfde4f\")>,\n",
       " <selenium.webdriver.remote.webelement.WebElement (session=\"fbc254b3a7c18ea34260e527a84f1c78\", element=\"58b1b640-94e6-4a98-8bac-284cd7aa7a4e\")>,\n",
       " <selenium.webdriver.remote.webelement.WebElement (session=\"fbc254b3a7c18ea34260e527a84f1c78\", element=\"089ecb8d-31b6-4d22-8488-bcb5f95383f3\")>,\n",
       " <selenium.webdriver.remote.webelement.WebElement (session=\"fbc254b3a7c18ea34260e527a84f1c78\", element=\"21a780a0-dede-4955-9afe-15368c877f7d\")>]"
      ]
     },
     "execution_count": 137,
     "metadata": {},
     "output_type": "execute_result"
    }
   ],
   "source": [
    "titles_tags=driver.find_elements_by_xpath('//div[@class=\"_2WkVRV\"]')\n",
    "titles_tags"
   ]
  },
  {
   "cell_type": "code",
   "execution_count": 138,
   "id": "82bb746c",
   "metadata": {},
   "outputs": [
    {
     "data": {
      "text/plain": [
       "['Resist',\n",
       " 'Singco India',\n",
       " 'Elligator',\n",
       " 'Fastrack',\n",
       " 'Fastrack',\n",
       " 'New Specs',\n",
       " 'PIRASO',\n",
       " 'Singco India',\n",
       " 'Lee Topper',\n",
       " 'SUNBEE',\n",
       " 'SRPM',\n",
       " 'Singco India',\n",
       " 'DEIXELS',\n",
       " 'SHAAH COLLECTIONS',\n",
       " 'ROZZETTA CRAFT',\n",
       " 'VINCENT CHASE',\n",
       " 'PIRASO',\n",
       " 'PIRASO',\n",
       " 'New Specs',\n",
       " 'VINCENT CHASE',\n",
       " 'Fastrack',\n",
       " 'Lee Topper',\n",
       " 'Fastrack',\n",
       " 'ROZZETTA CRAFT',\n",
       " 'Fastrack',\n",
       " 'PHENOMENAL',\n",
       " 'Fastrack',\n",
       " 'ROZZETTA CRAFT',\n",
       " 'SRPM',\n",
       " 'kingsunglasses',\n",
       " 'PIRASO',\n",
       " 'ROZZETTA CRAFT',\n",
       " 'ROZZETTA CRAFT',\n",
       " 'Fastrack',\n",
       " 'Fastrack',\n",
       " 'GANSTA',\n",
       " 'PIRASO',\n",
       " 'Elligator',\n",
       " 'SUNBEE',\n",
       " 'ROZZETTA CRAFT']"
      ]
     },
     "execution_count": 138,
     "metadata": {},
     "output_type": "execute_result"
    }
   ],
   "source": [
    "for i in titles_tags:\n",
    "    title=i.text\n",
    "    Brand_titles.append(title)\n",
    "Brand_titles"
   ]
  },
  {
   "cell_type": "code",
   "execution_count": 139,
   "id": "aa88ecfa",
   "metadata": {},
   "outputs": [
    {
     "data": {
      "text/plain": [
       "[<selenium.webdriver.remote.webelement.WebElement (session=\"fbc254b3a7c18ea34260e527a84f1c78\", element=\"b30e9495-48e3-49be-8fc1-b7a0b944a9aa\")>,\n",
       " <selenium.webdriver.remote.webelement.WebElement (session=\"fbc254b3a7c18ea34260e527a84f1c78\", element=\"ad960ba0-7e08-49e7-9d0d-074652691730\")>,\n",
       " <selenium.webdriver.remote.webelement.WebElement (session=\"fbc254b3a7c18ea34260e527a84f1c78\", element=\"61be2e53-82ce-4c82-be44-64a782aff64c\")>,\n",
       " <selenium.webdriver.remote.webelement.WebElement (session=\"fbc254b3a7c18ea34260e527a84f1c78\", element=\"0c6124a1-4712-4db6-b825-852165cb0ec1\")>,\n",
       " <selenium.webdriver.remote.webelement.WebElement (session=\"fbc254b3a7c18ea34260e527a84f1c78\", element=\"a2459d80-9c47-4e04-98e5-44e39452b9be\")>,\n",
       " <selenium.webdriver.remote.webelement.WebElement (session=\"fbc254b3a7c18ea34260e527a84f1c78\", element=\"a121e272-8669-4708-917f-317eca4214f3\")>,\n",
       " <selenium.webdriver.remote.webelement.WebElement (session=\"fbc254b3a7c18ea34260e527a84f1c78\", element=\"41365887-794c-4140-ba3f-bbc3cb9b2cce\")>,\n",
       " <selenium.webdriver.remote.webelement.WebElement (session=\"fbc254b3a7c18ea34260e527a84f1c78\", element=\"208639c1-1c2e-41f3-8e47-11d5cc37b903\")>,\n",
       " <selenium.webdriver.remote.webelement.WebElement (session=\"fbc254b3a7c18ea34260e527a84f1c78\", element=\"6374f83b-f9f9-4e5f-8bf0-67ad484e5f4d\")>,\n",
       " <selenium.webdriver.remote.webelement.WebElement (session=\"fbc254b3a7c18ea34260e527a84f1c78\", element=\"f3d81b0c-ef83-491d-839c-3b480b6f710e\")>,\n",
       " <selenium.webdriver.remote.webelement.WebElement (session=\"fbc254b3a7c18ea34260e527a84f1c78\", element=\"94f49c3e-1267-4562-868a-fe28ed45f5c9\")>,\n",
       " <selenium.webdriver.remote.webelement.WebElement (session=\"fbc254b3a7c18ea34260e527a84f1c78\", element=\"5dcf810e-b890-425b-b942-f350b2d34233\")>,\n",
       " <selenium.webdriver.remote.webelement.WebElement (session=\"fbc254b3a7c18ea34260e527a84f1c78\", element=\"42d81c36-5a0e-4405-aeba-fb72d6db62a3\")>,\n",
       " <selenium.webdriver.remote.webelement.WebElement (session=\"fbc254b3a7c18ea34260e527a84f1c78\", element=\"27e47d1e-2c13-4e2a-9fa5-203d4a7fafd6\")>,\n",
       " <selenium.webdriver.remote.webelement.WebElement (session=\"fbc254b3a7c18ea34260e527a84f1c78\", element=\"ee8bcae4-b3b5-48a5-a086-ee806bfbfcc9\")>,\n",
       " <selenium.webdriver.remote.webelement.WebElement (session=\"fbc254b3a7c18ea34260e527a84f1c78\", element=\"6b691b09-4413-4414-b863-a2abc513f945\")>,\n",
       " <selenium.webdriver.remote.webelement.WebElement (session=\"fbc254b3a7c18ea34260e527a84f1c78\", element=\"b585f847-42bb-4b1d-bd57-49e75b7e6cd9\")>,\n",
       " <selenium.webdriver.remote.webelement.WebElement (session=\"fbc254b3a7c18ea34260e527a84f1c78\", element=\"798a5eac-68ae-4c43-b04a-50325902f972\")>,\n",
       " <selenium.webdriver.remote.webelement.WebElement (session=\"fbc254b3a7c18ea34260e527a84f1c78\", element=\"e9f37924-f482-4921-a8d0-71aa362f3b47\")>,\n",
       " <selenium.webdriver.remote.webelement.WebElement (session=\"fbc254b3a7c18ea34260e527a84f1c78\", element=\"6f095ac7-7ffb-4f4a-b5ad-026158bb0a77\")>,\n",
       " <selenium.webdriver.remote.webelement.WebElement (session=\"fbc254b3a7c18ea34260e527a84f1c78\", element=\"d53c1cf3-34ae-49c1-bb4a-6f68b1156d1c\")>,\n",
       " <selenium.webdriver.remote.webelement.WebElement (session=\"fbc254b3a7c18ea34260e527a84f1c78\", element=\"e115c8db-0e1e-4d33-9f85-36165d8c31d5\")>,\n",
       " <selenium.webdriver.remote.webelement.WebElement (session=\"fbc254b3a7c18ea34260e527a84f1c78\", element=\"6ee83792-e4ee-4404-a3d7-6fe663b6e472\")>,\n",
       " <selenium.webdriver.remote.webelement.WebElement (session=\"fbc254b3a7c18ea34260e527a84f1c78\", element=\"8b7e2a9d-76e1-426b-b31c-9f6edf844f68\")>,\n",
       " <selenium.webdriver.remote.webelement.WebElement (session=\"fbc254b3a7c18ea34260e527a84f1c78\", element=\"5c367e9a-98aa-444d-94bd-cec39dcb1f29\")>,\n",
       " <selenium.webdriver.remote.webelement.WebElement (session=\"fbc254b3a7c18ea34260e527a84f1c78\", element=\"f653f66a-c745-4b63-a49a-ff31dfef6395\")>,\n",
       " <selenium.webdriver.remote.webelement.WebElement (session=\"fbc254b3a7c18ea34260e527a84f1c78\", element=\"613fc338-84ae-43c3-b2fd-7498c5b605a2\")>,\n",
       " <selenium.webdriver.remote.webelement.WebElement (session=\"fbc254b3a7c18ea34260e527a84f1c78\", element=\"b6aca4c4-cddb-4e3c-b9c2-682f47a238b2\")>,\n",
       " <selenium.webdriver.remote.webelement.WebElement (session=\"fbc254b3a7c18ea34260e527a84f1c78\", element=\"0a6f9439-de48-454b-8934-f6d6c88f7c66\")>,\n",
       " <selenium.webdriver.remote.webelement.WebElement (session=\"fbc254b3a7c18ea34260e527a84f1c78\", element=\"a9c5fb0e-ba94-466f-b2ef-3af833171e87\")>,\n",
       " <selenium.webdriver.remote.webelement.WebElement (session=\"fbc254b3a7c18ea34260e527a84f1c78\", element=\"f92fba09-074d-4bf7-b70e-a79aae3b6326\")>,\n",
       " <selenium.webdriver.remote.webelement.WebElement (session=\"fbc254b3a7c18ea34260e527a84f1c78\", element=\"75073882-286f-4a1c-9741-047263a18429\")>,\n",
       " <selenium.webdriver.remote.webelement.WebElement (session=\"fbc254b3a7c18ea34260e527a84f1c78\", element=\"d181fa97-40a7-43e8-bc95-33149aeea2f7\")>,\n",
       " <selenium.webdriver.remote.webelement.WebElement (session=\"fbc254b3a7c18ea34260e527a84f1c78\", element=\"aaf307bf-3ca1-4b52-b0ae-9ed67a813237\")>,\n",
       " <selenium.webdriver.remote.webelement.WebElement (session=\"fbc254b3a7c18ea34260e527a84f1c78\", element=\"cde9dd9c-92e2-4eea-b529-0ecd05dbe8c4\")>,\n",
       " <selenium.webdriver.remote.webelement.WebElement (session=\"fbc254b3a7c18ea34260e527a84f1c78\", element=\"c2c7ad76-085d-415b-a5ab-581d5ea488a2\")>,\n",
       " <selenium.webdriver.remote.webelement.WebElement (session=\"fbc254b3a7c18ea34260e527a84f1c78\", element=\"d4c335cc-4029-4c69-a89a-3ff986634611\")>,\n",
       " <selenium.webdriver.remote.webelement.WebElement (session=\"fbc254b3a7c18ea34260e527a84f1c78\", element=\"01e55108-fef2-4974-bf32-7b94478263ba\")>,\n",
       " <selenium.webdriver.remote.webelement.WebElement (session=\"fbc254b3a7c18ea34260e527a84f1c78\", element=\"fad8a8f3-eca2-404e-9d29-91b18bdce84b\")>,\n",
       " <selenium.webdriver.remote.webelement.WebElement (session=\"fbc254b3a7c18ea34260e527a84f1c78\", element=\"a343dfc7-2673-47ff-b6d1-033aa21a8050\")>]"
      ]
     },
     "execution_count": 139,
     "metadata": {},
     "output_type": "execute_result"
    }
   ],
   "source": [
    "descriptions_tags=driver.find_elements_by_xpath('//a[@class=\"IRpwTa\"]')\n",
    "descriptions_tags"
   ]
  },
  {
   "cell_type": "code",
   "execution_count": 140,
   "id": "f95c606f",
   "metadata": {},
   "outputs": [
    {
     "data": {
      "text/plain": [
       "['UV Protection Wayfarer Sunglasses (Free Size)',\n",
       " 'Gradient, Toughened Glass Lens, UV Protection Retro Squ...',\n",
       " 'UV Protection Round Sunglasses (54)',\n",
       " 'UV Protection Wayfarer Sunglasses (Free Size)',\n",
       " 'UV Protection Rectangular Sunglasses (Free Size)',\n",
       " 'UV Protection Rectangular Sunglasses (Free Size)',\n",
       " 'UV Protection Aviator Sunglasses (54)',\n",
       " 'UV Protection, Riding Glasses, Others Aviator, Wayfarer...',\n",
       " 'Riding Glasses Wrap-around Sunglasses (Free Size)',\n",
       " 'UV Protection, Polarized Wayfarer Sunglasses (Free Size...',\n",
       " 'UV Protection Wayfarer Sunglasses (50)',\n",
       " 'Riding Glasses, UV Protection Clubmaster, Wayfarer Sung...',\n",
       " 'UV Protection Aviator, Wayfarer Sunglasses (Free Size)',\n",
       " 'UV Protection, Polarized, Mirrored Rectangular Sunglass...',\n",
       " 'Polarized, Riding Glasses Sports, Wrap-around Sunglasse...',\n",
       " 'UV Protection Rectangular Sunglasses (50)',\n",
       " 'UV Protection Aviator Sunglasses (54)',\n",
       " 'UV Protection Wayfarer Sunglasses (32)',\n",
       " 'Mirrored, UV Protection, Riding Glasses, Others Round S...',\n",
       " 'UV Protection Cat-eye Sunglasses (54)',\n",
       " 'UV Protection Aviator Sunglasses (58)',\n",
       " 'UV Protection Rectangular Sunglasses (Free Size)',\n",
       " 'Gradient, UV Protection Wayfarer Sunglasses (Free Size)',\n",
       " 'UV Protection Spectacle Sunglasses (Free Size)',\n",
       " 'UV Protection Wayfarer Sunglasses (Free Size)',\n",
       " 'UV Protection Retro Square Sunglasses (53)',\n",
       " 'UV Protection Aviator Sunglasses (Free Size)',\n",
       " 'UV Protection, Gradient Rectangular Sunglasses (Free Si...',\n",
       " 'UV Protection Wayfarer Sunglasses (53)',\n",
       " 'UV Protection, Riding Glasses, Mirrored Wayfarer Sungla...',\n",
       " 'UV Protection Aviator Sunglasses (54)',\n",
       " 'UV Protection, Gradient Retro Square Sunglasses (Free S...',\n",
       " 'UV Protection Retro Square Sunglasses (Free Size)',\n",
       " 'UV Protection Shield Sunglasses (Free Size)',\n",
       " 'UV Protection Wayfarer Sunglasses (Free Size)',\n",
       " 'UV Protection Aviator Sunglasses (57)',\n",
       " 'UV Protection Over-sized Sunglasses (65)',\n",
       " 'UV Protection Aviator Sunglasses (55)',\n",
       " 'UV Protection, Polarized, Mirrored Retro Square Sunglas...',\n",
       " 'UV Protection Aviator Sunglasses (62)']"
      ]
     },
     "execution_count": 140,
     "metadata": {},
     "output_type": "execute_result"
    }
   ],
   "source": [
    "for i in descriptions_tags:\n",
    "    description=i.text\n",
    "    Product_descriptions.append(description)\n",
    "Product_descriptions"
   ]
  },
  {
   "cell_type": "code",
   "execution_count": 141,
   "id": "e3328a6a",
   "metadata": {},
   "outputs": [
    {
     "data": {
      "text/plain": [
       "[<selenium.webdriver.remote.webelement.WebElement (session=\"fbc254b3a7c18ea34260e527a84f1c78\", element=\"3491d2a3-12a8-4ab9-a9a0-1c681b0b5215\")>,\n",
       " <selenium.webdriver.remote.webelement.WebElement (session=\"fbc254b3a7c18ea34260e527a84f1c78\", element=\"84debaad-cd6b-4121-883b-61bc30aa2e56\")>,\n",
       " <selenium.webdriver.remote.webelement.WebElement (session=\"fbc254b3a7c18ea34260e527a84f1c78\", element=\"4d263eaa-fb2a-4faa-bdd9-0323a32aa25a\")>,\n",
       " <selenium.webdriver.remote.webelement.WebElement (session=\"fbc254b3a7c18ea34260e527a84f1c78\", element=\"9f5d27ed-7939-46ee-8efb-81aee9a93c76\")>,\n",
       " <selenium.webdriver.remote.webelement.WebElement (session=\"fbc254b3a7c18ea34260e527a84f1c78\", element=\"891bba81-497b-4cdd-8e25-e3b9106bbad4\")>,\n",
       " <selenium.webdriver.remote.webelement.WebElement (session=\"fbc254b3a7c18ea34260e527a84f1c78\", element=\"be800941-f981-4114-a88b-6f100c1550de\")>,\n",
       " <selenium.webdriver.remote.webelement.WebElement (session=\"fbc254b3a7c18ea34260e527a84f1c78\", element=\"0273bdcf-b2fc-4af3-ab8b-75fe36430bc3\")>,\n",
       " <selenium.webdriver.remote.webelement.WebElement (session=\"fbc254b3a7c18ea34260e527a84f1c78\", element=\"7bb3b920-7559-49af-bd83-2abbcc813a78\")>,\n",
       " <selenium.webdriver.remote.webelement.WebElement (session=\"fbc254b3a7c18ea34260e527a84f1c78\", element=\"e8f604f1-0fb5-495c-b60a-97b56c9c61b0\")>,\n",
       " <selenium.webdriver.remote.webelement.WebElement (session=\"fbc254b3a7c18ea34260e527a84f1c78\", element=\"aebb5825-c336-43d3-8d6a-d9a59122b62e\")>,\n",
       " <selenium.webdriver.remote.webelement.WebElement (session=\"fbc254b3a7c18ea34260e527a84f1c78\", element=\"bcaaf4ac-7055-47ef-b114-9e3f62c29c8b\")>,\n",
       " <selenium.webdriver.remote.webelement.WebElement (session=\"fbc254b3a7c18ea34260e527a84f1c78\", element=\"738ac74f-2454-4193-8a05-d9502d1feb4f\")>,\n",
       " <selenium.webdriver.remote.webelement.WebElement (session=\"fbc254b3a7c18ea34260e527a84f1c78\", element=\"ce33dda4-ae7b-41e5-8563-0377373ee177\")>,\n",
       " <selenium.webdriver.remote.webelement.WebElement (session=\"fbc254b3a7c18ea34260e527a84f1c78\", element=\"89be546f-2a09-43fd-a52d-336c09a121b3\")>,\n",
       " <selenium.webdriver.remote.webelement.WebElement (session=\"fbc254b3a7c18ea34260e527a84f1c78\", element=\"c2b4d8b8-b8e1-4957-a9ea-3b219dd00bbf\")>,\n",
       " <selenium.webdriver.remote.webelement.WebElement (session=\"fbc254b3a7c18ea34260e527a84f1c78\", element=\"05109d61-7318-420f-89b7-9537478e7fbe\")>,\n",
       " <selenium.webdriver.remote.webelement.WebElement (session=\"fbc254b3a7c18ea34260e527a84f1c78\", element=\"aecd21bf-df1c-44d9-b5a4-4d555eff455f\")>,\n",
       " <selenium.webdriver.remote.webelement.WebElement (session=\"fbc254b3a7c18ea34260e527a84f1c78\", element=\"aedd76fc-418a-4dea-8b1f-ac218756fa60\")>,\n",
       " <selenium.webdriver.remote.webelement.WebElement (session=\"fbc254b3a7c18ea34260e527a84f1c78\", element=\"16974ac0-d7ec-4400-8c01-7821cb843b37\")>,\n",
       " <selenium.webdriver.remote.webelement.WebElement (session=\"fbc254b3a7c18ea34260e527a84f1c78\", element=\"1a14c3d5-46ba-4e0c-97ca-e8a0ac48169c\")>,\n",
       " <selenium.webdriver.remote.webelement.WebElement (session=\"fbc254b3a7c18ea34260e527a84f1c78\", element=\"f14761b5-7bd1-4a32-8776-98e183985543\")>,\n",
       " <selenium.webdriver.remote.webelement.WebElement (session=\"fbc254b3a7c18ea34260e527a84f1c78\", element=\"433d196d-b60d-4974-9890-ca9f2ab396a4\")>,\n",
       " <selenium.webdriver.remote.webelement.WebElement (session=\"fbc254b3a7c18ea34260e527a84f1c78\", element=\"dec07042-490e-4dcb-8075-88ba7eafc698\")>,\n",
       " <selenium.webdriver.remote.webelement.WebElement (session=\"fbc254b3a7c18ea34260e527a84f1c78\", element=\"0af87678-75a6-4e1b-9d6c-4d83ca41fd60\")>,\n",
       " <selenium.webdriver.remote.webelement.WebElement (session=\"fbc254b3a7c18ea34260e527a84f1c78\", element=\"5c74f59f-2960-4ac9-a7ad-099fc7bd872b\")>,\n",
       " <selenium.webdriver.remote.webelement.WebElement (session=\"fbc254b3a7c18ea34260e527a84f1c78\", element=\"728cd17d-d748-413a-a0d7-70c8fd3d3d11\")>,\n",
       " <selenium.webdriver.remote.webelement.WebElement (session=\"fbc254b3a7c18ea34260e527a84f1c78\", element=\"05d1fd60-41b8-45c7-970e-b2d1c4d5c4d3\")>,\n",
       " <selenium.webdriver.remote.webelement.WebElement (session=\"fbc254b3a7c18ea34260e527a84f1c78\", element=\"e88a0e74-9a91-43a5-93c7-08b36ee55697\")>,\n",
       " <selenium.webdriver.remote.webelement.WebElement (session=\"fbc254b3a7c18ea34260e527a84f1c78\", element=\"882580c2-f129-4465-8f9a-4035cf142342\")>,\n",
       " <selenium.webdriver.remote.webelement.WebElement (session=\"fbc254b3a7c18ea34260e527a84f1c78\", element=\"ae87fa11-e5c6-4f45-b73c-334c0e4cfd0e\")>,\n",
       " <selenium.webdriver.remote.webelement.WebElement (session=\"fbc254b3a7c18ea34260e527a84f1c78\", element=\"8a0097ee-0707-4c94-97d0-31ded448fce5\")>,\n",
       " <selenium.webdriver.remote.webelement.WebElement (session=\"fbc254b3a7c18ea34260e527a84f1c78\", element=\"fce4ac61-c8df-4c4c-93b6-b29cbe341136\")>,\n",
       " <selenium.webdriver.remote.webelement.WebElement (session=\"fbc254b3a7c18ea34260e527a84f1c78\", element=\"2a44a4d1-ec76-4324-ae1e-7caccef8ae70\")>,\n",
       " <selenium.webdriver.remote.webelement.WebElement (session=\"fbc254b3a7c18ea34260e527a84f1c78\", element=\"ccc0600f-4d11-4411-bb18-397995d95120\")>,\n",
       " <selenium.webdriver.remote.webelement.WebElement (session=\"fbc254b3a7c18ea34260e527a84f1c78\", element=\"c676c629-60eb-4adc-9590-5663b41afa88\")>,\n",
       " <selenium.webdriver.remote.webelement.WebElement (session=\"fbc254b3a7c18ea34260e527a84f1c78\", element=\"a75d4070-b13b-4243-acbc-68bb74cd8b3c\")>,\n",
       " <selenium.webdriver.remote.webelement.WebElement (session=\"fbc254b3a7c18ea34260e527a84f1c78\", element=\"98088a4e-59b6-44ee-99d3-e1d054ff3b7c\")>,\n",
       " <selenium.webdriver.remote.webelement.WebElement (session=\"fbc254b3a7c18ea34260e527a84f1c78\", element=\"2e7d4d1a-ad41-4199-887a-525a15ffafd8\")>,\n",
       " <selenium.webdriver.remote.webelement.WebElement (session=\"fbc254b3a7c18ea34260e527a84f1c78\", element=\"8fd87202-6603-496d-bc38-553e61f472fc\")>,\n",
       " <selenium.webdriver.remote.webelement.WebElement (session=\"fbc254b3a7c18ea34260e527a84f1c78\", element=\"07e608f0-a337-4347-ae65-2ed32cdd8ee8\")>]"
      ]
     },
     "execution_count": 141,
     "metadata": {},
     "output_type": "execute_result"
    }
   ],
   "source": [
    "titles_tags=driver.find_elements_by_xpath('//a[@class=\"_3bPFwb\"]')\n",
    "titles_tags"
   ]
  },
  {
   "cell_type": "code",
   "execution_count": 142,
   "id": "fb88b18d",
   "metadata": {},
   "outputs": [
    {
     "data": {
      "text/plain": [
       "['₹861₹3,99978% off\\nFree delivery',\n",
       " '₹664₹2,99977% off\\nFree delivery',\n",
       " '₹355₹2,49585% off\\nFree delivery',\n",
       " '₹647₹89928% off\\nFree delivery',\n",
       " '₹575₹79928% off\\nFree delivery',\n",
       " '₹269₹2,59989% off\\nFree delivery',\n",
       " '₹249₹1,59984% off\\nFree delivery',\n",
       " '₹229₹69967% off\\nFree delivery',\n",
       " '₹299₹2,49988% off\\nFree delivery',\n",
       " '₹283₹1,29978% off\\nFree delivery',\n",
       " '₹266₹1,29979% off\\nFree delivery',\n",
       " '₹329₹1,99983% off\\nFree delivery',\n",
       " '₹229₹1,19980% off\\nFree delivery',\n",
       " '₹195₹1,69988% off\\nFree delivery',\n",
       " '₹499₹1,99975% off\\nFree delivery',\n",
       " '₹649₹1,99967% off\\nFree delivery',\n",
       " '₹224₹1,59985% off\\nFree delivery',\n",
       " '₹225₹1,59985% off\\nFree delivery',\n",
       " '₹299₹1,39978% off\\nFree delivery',\n",
       " '₹649₹1,99967% off\\nFree delivery',\n",
       " '₹989₹1,29923% off\\nFree delivery',\n",
       " '₹219₹99978% off\\nFree delivery',\n",
       " '₹639₹79920% off\\nFree delivery',\n",
       " '₹399₹1,99980% off\\nFree delivery',\n",
       " '₹719₹89920% off\\nFree delivery',\n",
       " '₹315₹99968% off\\nFree delivery',\n",
       " '₹639₹79920% off\\nFree delivery',\n",
       " '₹449₹1,99977% off\\nFree delivery',\n",
       " '₹246₹99875% off\\nFree delivery',\n",
       " '₹209₹1,19982% off\\nFree delivery',\n",
       " '₹224₹1,59985% off\\nFree delivery',\n",
       " '₹349₹1,99982% off\\nFree delivery',\n",
       " '₹499₹2,22577% off\\nFree delivery',\n",
       " '₹809₹89910% off\\nFree delivery',\n",
       " '₹699₹89922% off\\nFree delivery',\n",
       " '₹284₹1,99985% off\\nFree delivery',\n",
       " '₹410₹2,59984% off\\nFree delivery',\n",
       " '₹352₹1,99982% off\\nFree delivery',\n",
       " '₹259₹1,29980% off\\nFree delivery',\n",
       " '₹649₹2,55574% off\\nFree delivery']"
      ]
     },
     "execution_count": 142,
     "metadata": {},
     "output_type": "execute_result"
    }
   ],
   "source": [
    "for i in titles_tags:\n",
    "    title=i.text\n",
    "    Price_titles.append(title)\n",
    "Price_titles\n"
   ]
  },
  {
   "cell_type": "code",
   "execution_count": 143,
   "id": "24118284",
   "metadata": {},
   "outputs": [],
   "source": [
    "#next page\n",
    "search_button_next=driver.find_element_by_xpath(\"/html/body/div[1]/div/div[3]/div[1]/div[2]/div[12]/div/div/nav/a[11]/span\")\n",
    "\n",
    "search_button_next.click()"
   ]
  },
  {
   "cell_type": "code",
   "execution_count": 144,
   "id": "01b2a2d6",
   "metadata": {},
   "outputs": [],
   "source": [
    "url='https://www.flipkart.com/search?q=Sunglass&otracker=search&otracker1=search&marketplace=FLIPKART&as-show=on&as=off&page=2'"
   ]
  },
  {
   "cell_type": "code",
   "execution_count": 145,
   "id": "97fa832f",
   "metadata": {},
   "outputs": [],
   "source": [
    "driver.get(url)"
   ]
  },
  {
   "cell_type": "code",
   "execution_count": 155,
   "id": "fa1a3698",
   "metadata": {},
   "outputs": [],
   "source": [
    "Brand_titlessecond=[]\n",
    "Product_descriptionssecond=[]\n",
    "Price_titlessecond=[]"
   ]
  },
  {
   "cell_type": "code",
   "execution_count": 147,
   "id": "95a1768a",
   "metadata": {},
   "outputs": [
    {
     "data": {
      "text/plain": [
       "[<selenium.webdriver.remote.webelement.WebElement (session=\"fbc254b3a7c18ea34260e527a84f1c78\", element=\"3466008e-bba0-4074-8023-f4d9132df78e\")>,\n",
       " <selenium.webdriver.remote.webelement.WebElement (session=\"fbc254b3a7c18ea34260e527a84f1c78\", element=\"5aa89b41-72fa-4162-81d9-78198e95ddf5\")>,\n",
       " <selenium.webdriver.remote.webelement.WebElement (session=\"fbc254b3a7c18ea34260e527a84f1c78\", element=\"87e22261-e388-43cb-adf8-4a6464c0b52c\")>,\n",
       " <selenium.webdriver.remote.webelement.WebElement (session=\"fbc254b3a7c18ea34260e527a84f1c78\", element=\"9f151a83-f05a-4d5a-a3d6-b277ba7dde5e\")>,\n",
       " <selenium.webdriver.remote.webelement.WebElement (session=\"fbc254b3a7c18ea34260e527a84f1c78\", element=\"62c215a4-515e-45b0-84e0-2f8f82715f16\")>,\n",
       " <selenium.webdriver.remote.webelement.WebElement (session=\"fbc254b3a7c18ea34260e527a84f1c78\", element=\"ac6ea447-810b-43bc-ad05-25748fa01a5a\")>,\n",
       " <selenium.webdriver.remote.webelement.WebElement (session=\"fbc254b3a7c18ea34260e527a84f1c78\", element=\"5d464151-1a16-4d34-98f2-82ed14f41fb6\")>,\n",
       " <selenium.webdriver.remote.webelement.WebElement (session=\"fbc254b3a7c18ea34260e527a84f1c78\", element=\"0c550cf8-9058-431a-a333-3563980a050d\")>,\n",
       " <selenium.webdriver.remote.webelement.WebElement (session=\"fbc254b3a7c18ea34260e527a84f1c78\", element=\"05695cbb-5f54-4d3f-b707-310b5cfeacca\")>,\n",
       " <selenium.webdriver.remote.webelement.WebElement (session=\"fbc254b3a7c18ea34260e527a84f1c78\", element=\"5e43e7f8-5911-4fc1-ad9a-374fa4f7c41e\")>,\n",
       " <selenium.webdriver.remote.webelement.WebElement (session=\"fbc254b3a7c18ea34260e527a84f1c78\", element=\"526729c8-7b6f-4e62-bf57-6ebae5121b10\")>,\n",
       " <selenium.webdriver.remote.webelement.WebElement (session=\"fbc254b3a7c18ea34260e527a84f1c78\", element=\"57be0cf5-c4e7-4eee-8562-c5169e068666\")>,\n",
       " <selenium.webdriver.remote.webelement.WebElement (session=\"fbc254b3a7c18ea34260e527a84f1c78\", element=\"21664e2c-52b6-4094-8a38-da0a8b35d4d6\")>,\n",
       " <selenium.webdriver.remote.webelement.WebElement (session=\"fbc254b3a7c18ea34260e527a84f1c78\", element=\"92ed9bd2-6e84-4f35-aa07-2c6a2cda8192\")>,\n",
       " <selenium.webdriver.remote.webelement.WebElement (session=\"fbc254b3a7c18ea34260e527a84f1c78\", element=\"f39404a1-e4fa-4ddf-85c9-01be0e3059a3\")>,\n",
       " <selenium.webdriver.remote.webelement.WebElement (session=\"fbc254b3a7c18ea34260e527a84f1c78\", element=\"d9095ee4-075a-4092-92f7-69a6e42612c3\")>,\n",
       " <selenium.webdriver.remote.webelement.WebElement (session=\"fbc254b3a7c18ea34260e527a84f1c78\", element=\"7e909903-3c03-4c4f-b5a1-70adc544a07e\")>,\n",
       " <selenium.webdriver.remote.webelement.WebElement (session=\"fbc254b3a7c18ea34260e527a84f1c78\", element=\"7bfa53c8-f2d1-439e-8e0e-b05a21c87f2d\")>,\n",
       " <selenium.webdriver.remote.webelement.WebElement (session=\"fbc254b3a7c18ea34260e527a84f1c78\", element=\"01d93399-b1d6-40f4-9eef-25bac868c50e\")>,\n",
       " <selenium.webdriver.remote.webelement.WebElement (session=\"fbc254b3a7c18ea34260e527a84f1c78\", element=\"b6879b12-3bb0-4b36-8729-291f8097de60\")>,\n",
       " <selenium.webdriver.remote.webelement.WebElement (session=\"fbc254b3a7c18ea34260e527a84f1c78\", element=\"4275260b-b133-4fae-a6a5-60d6d35f2a9e\")>,\n",
       " <selenium.webdriver.remote.webelement.WebElement (session=\"fbc254b3a7c18ea34260e527a84f1c78\", element=\"dcd0f00c-9cc5-4646-a457-8b2cccd92de1\")>,\n",
       " <selenium.webdriver.remote.webelement.WebElement (session=\"fbc254b3a7c18ea34260e527a84f1c78\", element=\"7862d6f2-b852-412e-880a-95a97e604914\")>,\n",
       " <selenium.webdriver.remote.webelement.WebElement (session=\"fbc254b3a7c18ea34260e527a84f1c78\", element=\"4492a6c9-b5de-4072-a353-4137dd5f1ee0\")>,\n",
       " <selenium.webdriver.remote.webelement.WebElement (session=\"fbc254b3a7c18ea34260e527a84f1c78\", element=\"2e3e2efa-0907-4b94-80f7-1f332cb4d9ff\")>,\n",
       " <selenium.webdriver.remote.webelement.WebElement (session=\"fbc254b3a7c18ea34260e527a84f1c78\", element=\"e8fa48a3-1cbf-44e5-8b00-93c9249eff50\")>,\n",
       " <selenium.webdriver.remote.webelement.WebElement (session=\"fbc254b3a7c18ea34260e527a84f1c78\", element=\"08e3b32e-3494-4a7a-b90e-00fb4ff36b2b\")>,\n",
       " <selenium.webdriver.remote.webelement.WebElement (session=\"fbc254b3a7c18ea34260e527a84f1c78\", element=\"aef27fe8-eb3d-4a43-868c-058237a3fd13\")>,\n",
       " <selenium.webdriver.remote.webelement.WebElement (session=\"fbc254b3a7c18ea34260e527a84f1c78\", element=\"da6cfbce-b427-460b-b181-91c9cd9a4d1e\")>,\n",
       " <selenium.webdriver.remote.webelement.WebElement (session=\"fbc254b3a7c18ea34260e527a84f1c78\", element=\"9872a3a8-4ae8-4b54-8243-7a024c0d21a8\")>,\n",
       " <selenium.webdriver.remote.webelement.WebElement (session=\"fbc254b3a7c18ea34260e527a84f1c78\", element=\"53207714-0a0d-43d2-ae16-c36386c45935\")>,\n",
       " <selenium.webdriver.remote.webelement.WebElement (session=\"fbc254b3a7c18ea34260e527a84f1c78\", element=\"dab9f8d6-781c-4ff5-8e30-2d067d4880cb\")>,\n",
       " <selenium.webdriver.remote.webelement.WebElement (session=\"fbc254b3a7c18ea34260e527a84f1c78\", element=\"5b35e44f-556d-4c76-8f0e-83e3af3d6f51\")>,\n",
       " <selenium.webdriver.remote.webelement.WebElement (session=\"fbc254b3a7c18ea34260e527a84f1c78\", element=\"57d08ece-c474-4c94-a7ac-da74321a50ed\")>,\n",
       " <selenium.webdriver.remote.webelement.WebElement (session=\"fbc254b3a7c18ea34260e527a84f1c78\", element=\"8562c479-2406-4aca-9ae0-452aaacb8efe\")>,\n",
       " <selenium.webdriver.remote.webelement.WebElement (session=\"fbc254b3a7c18ea34260e527a84f1c78\", element=\"f2d2653b-07e6-47aa-a61e-c11e5862cf03\")>,\n",
       " <selenium.webdriver.remote.webelement.WebElement (session=\"fbc254b3a7c18ea34260e527a84f1c78\", element=\"18c124ad-789b-41cb-8a7d-3c06ee0fe91b\")>,\n",
       " <selenium.webdriver.remote.webelement.WebElement (session=\"fbc254b3a7c18ea34260e527a84f1c78\", element=\"92721fb6-fa45-4446-8d5f-864b4c25be68\")>,\n",
       " <selenium.webdriver.remote.webelement.WebElement (session=\"fbc254b3a7c18ea34260e527a84f1c78\", element=\"fc355343-2cdf-400a-973c-3dc20ebac8a6\")>,\n",
       " <selenium.webdriver.remote.webelement.WebElement (session=\"fbc254b3a7c18ea34260e527a84f1c78\", element=\"3c6c039e-4ba6-476f-8772-ecca2437b38f\")>]"
      ]
     },
     "execution_count": 147,
     "metadata": {},
     "output_type": "execute_result"
    }
   ],
   "source": [
    "titlessecond_tags=driver.find_elements_by_xpath('//div[@class=\"_2WkVRV\"]')\n",
    "titlessecond_tags"
   ]
  },
  {
   "cell_type": "code",
   "execution_count": 148,
   "id": "e8274e40",
   "metadata": {},
   "outputs": [
    {
     "data": {
      "text/plain": [
       "['ROZZETTA CRAFT',\n",
       " 'GANSTA',\n",
       " 'New Specs',\n",
       " 'Resist',\n",
       " 'Fastrack',\n",
       " 'Elligator',\n",
       " 'Singco India',\n",
       " 'Singco India',\n",
       " 'elegante',\n",
       " 'elegante',\n",
       " 'PHENOMENAL',\n",
       " 'Singco India',\n",
       " 'Fastrack',\n",
       " 'kingsunglasses',\n",
       " 'kingsunglasses',\n",
       " 'VINCENT CHASE',\n",
       " 'GANSTA',\n",
       " 'Fastrack',\n",
       " 'hipe',\n",
       " 'VINCENT CHASE',\n",
       " 'SHAAH COLLECTIONS',\n",
       " 'Poloport',\n",
       " 'PIRASO',\n",
       " 'ROZZETTA CRAFT',\n",
       " 'ROZZETTA CRAFT',\n",
       " 'ROZZETTA CRAFT',\n",
       " 'Fastrack',\n",
       " 'ROZZETTA CRAFT',\n",
       " 'New Specs',\n",
       " 'kingsunglasses',\n",
       " 'AISLIN',\n",
       " 'VINCENT CHASE',\n",
       " 'SUNBEE',\n",
       " 'PHENOMENAL',\n",
       " 'AISLIN',\n",
       " 'john jacobs',\n",
       " 'ROZZETTA CRAFT',\n",
       " 'kingsunglasses',\n",
       " 'kingsunglasses',\n",
       " 'VINCENT CHASE']"
      ]
     },
     "execution_count": 148,
     "metadata": {},
     "output_type": "execute_result"
    }
   ],
   "source": [
    "for i in titlessecond_tags:\n",
    "    title=i.text\n",
    "    Brand_titlessecond.append(title)\n",
    "Brand_titlessecond"
   ]
  },
  {
   "cell_type": "code",
   "execution_count": 149,
   "id": "b003b158",
   "metadata": {},
   "outputs": [
    {
     "data": {
      "text/plain": [
       "[<selenium.webdriver.remote.webelement.WebElement (session=\"fbc254b3a7c18ea34260e527a84f1c78\", element=\"6e48c9cd-b401-4fa9-b53b-31ef3984a705\")>,\n",
       " <selenium.webdriver.remote.webelement.WebElement (session=\"fbc254b3a7c18ea34260e527a84f1c78\", element=\"ce948fd4-1879-4c14-a9da-34baeb57f66a\")>,\n",
       " <selenium.webdriver.remote.webelement.WebElement (session=\"fbc254b3a7c18ea34260e527a84f1c78\", element=\"331f6596-eccd-4d58-b4ef-17d19c8b7d9d\")>,\n",
       " <selenium.webdriver.remote.webelement.WebElement (session=\"fbc254b3a7c18ea34260e527a84f1c78\", element=\"1deb38f7-ad1f-48f8-909e-30033100cccc\")>,\n",
       " <selenium.webdriver.remote.webelement.WebElement (session=\"fbc254b3a7c18ea34260e527a84f1c78\", element=\"747289ec-2d82-46cf-ad54-27cdec95d64d\")>,\n",
       " <selenium.webdriver.remote.webelement.WebElement (session=\"fbc254b3a7c18ea34260e527a84f1c78\", element=\"7d74e3fb-4360-4adc-8da9-3eaceb84ecc2\")>,\n",
       " <selenium.webdriver.remote.webelement.WebElement (session=\"fbc254b3a7c18ea34260e527a84f1c78\", element=\"913623e5-6863-478f-84b7-36dd9e143db5\")>,\n",
       " <selenium.webdriver.remote.webelement.WebElement (session=\"fbc254b3a7c18ea34260e527a84f1c78\", element=\"1d91ea95-f748-4e96-91ab-c2625ba6bcfc\")>,\n",
       " <selenium.webdriver.remote.webelement.WebElement (session=\"fbc254b3a7c18ea34260e527a84f1c78\", element=\"a260a327-e7e7-4a2c-9359-6484136692c8\")>,\n",
       " <selenium.webdriver.remote.webelement.WebElement (session=\"fbc254b3a7c18ea34260e527a84f1c78\", element=\"d88d3df6-1589-404a-9159-d11135cc29ac\")>,\n",
       " <selenium.webdriver.remote.webelement.WebElement (session=\"fbc254b3a7c18ea34260e527a84f1c78\", element=\"87f25a38-558e-43d5-acbb-ae00244c544c\")>,\n",
       " <selenium.webdriver.remote.webelement.WebElement (session=\"fbc254b3a7c18ea34260e527a84f1c78\", element=\"a34ad9f7-31fc-493b-a71a-6495fbb8f234\")>,\n",
       " <selenium.webdriver.remote.webelement.WebElement (session=\"fbc254b3a7c18ea34260e527a84f1c78\", element=\"05e53346-6ede-4a2e-a7bd-fd6c5c75cf8e\")>,\n",
       " <selenium.webdriver.remote.webelement.WebElement (session=\"fbc254b3a7c18ea34260e527a84f1c78\", element=\"aea60229-35c6-48e3-96c5-4dfe8e1eebf7\")>,\n",
       " <selenium.webdriver.remote.webelement.WebElement (session=\"fbc254b3a7c18ea34260e527a84f1c78\", element=\"32da6d90-d2eb-478b-9ad3-23e21cf1dc3b\")>,\n",
       " <selenium.webdriver.remote.webelement.WebElement (session=\"fbc254b3a7c18ea34260e527a84f1c78\", element=\"295ba18e-31b7-41ba-9208-f47d84d329fd\")>,\n",
       " <selenium.webdriver.remote.webelement.WebElement (session=\"fbc254b3a7c18ea34260e527a84f1c78\", element=\"5aa6b081-a112-4786-a837-e43fd1f43ab7\")>,\n",
       " <selenium.webdriver.remote.webelement.WebElement (session=\"fbc254b3a7c18ea34260e527a84f1c78\", element=\"8c269cd2-a9e8-4942-af2f-b994432e8d5c\")>,\n",
       " <selenium.webdriver.remote.webelement.WebElement (session=\"fbc254b3a7c18ea34260e527a84f1c78\", element=\"418eedd4-69ec-4ee2-80c6-de6c25b1a4e6\")>,\n",
       " <selenium.webdriver.remote.webelement.WebElement (session=\"fbc254b3a7c18ea34260e527a84f1c78\", element=\"954164eb-e39c-42ba-acd3-40dc6097eec5\")>,\n",
       " <selenium.webdriver.remote.webelement.WebElement (session=\"fbc254b3a7c18ea34260e527a84f1c78\", element=\"cc4f17cb-9be5-4be6-8d8d-73c11f650a8a\")>,\n",
       " <selenium.webdriver.remote.webelement.WebElement (session=\"fbc254b3a7c18ea34260e527a84f1c78\", element=\"0b0fa4fe-3bdd-4473-9407-d09f38f671af\")>,\n",
       " <selenium.webdriver.remote.webelement.WebElement (session=\"fbc254b3a7c18ea34260e527a84f1c78\", element=\"b5ae0d22-84f7-45f7-ac9c-7cb22baa5616\")>,\n",
       " <selenium.webdriver.remote.webelement.WebElement (session=\"fbc254b3a7c18ea34260e527a84f1c78\", element=\"d98a2f02-4377-40a5-b2c5-21def890cc87\")>,\n",
       " <selenium.webdriver.remote.webelement.WebElement (session=\"fbc254b3a7c18ea34260e527a84f1c78\", element=\"6e482f6d-fe1f-4777-9da8-40fa7b0f1ab7\")>,\n",
       " <selenium.webdriver.remote.webelement.WebElement (session=\"fbc254b3a7c18ea34260e527a84f1c78\", element=\"768d8f2d-b068-4113-898b-9abfd447fb60\")>,\n",
       " <selenium.webdriver.remote.webelement.WebElement (session=\"fbc254b3a7c18ea34260e527a84f1c78\", element=\"65da5a38-8249-4a49-b5e3-6cbb434eb94c\")>,\n",
       " <selenium.webdriver.remote.webelement.WebElement (session=\"fbc254b3a7c18ea34260e527a84f1c78\", element=\"20100732-4f28-454d-9ad5-2dd92770b015\")>,\n",
       " <selenium.webdriver.remote.webelement.WebElement (session=\"fbc254b3a7c18ea34260e527a84f1c78\", element=\"f951a2b0-9127-45b3-87d8-4f2f03185705\")>,\n",
       " <selenium.webdriver.remote.webelement.WebElement (session=\"fbc254b3a7c18ea34260e527a84f1c78\", element=\"cdbf3182-407f-4088-bcd2-9802c241f63d\")>,\n",
       " <selenium.webdriver.remote.webelement.WebElement (session=\"fbc254b3a7c18ea34260e527a84f1c78\", element=\"0f72c14a-706a-4a20-8dcf-ef50a08788fa\")>,\n",
       " <selenium.webdriver.remote.webelement.WebElement (session=\"fbc254b3a7c18ea34260e527a84f1c78\", element=\"e48dabe2-ac1a-4fd3-94c1-a342da32fae8\")>,\n",
       " <selenium.webdriver.remote.webelement.WebElement (session=\"fbc254b3a7c18ea34260e527a84f1c78\", element=\"9c19102e-b794-47f9-b5cb-4bb075acdb11\")>,\n",
       " <selenium.webdriver.remote.webelement.WebElement (session=\"fbc254b3a7c18ea34260e527a84f1c78\", element=\"491699ad-d5f9-427e-b9b8-f38afd62b576\")>,\n",
       " <selenium.webdriver.remote.webelement.WebElement (session=\"fbc254b3a7c18ea34260e527a84f1c78\", element=\"7a4e4107-5b9c-49d6-ade4-f96569bf5f5c\")>,\n",
       " <selenium.webdriver.remote.webelement.WebElement (session=\"fbc254b3a7c18ea34260e527a84f1c78\", element=\"dc08183f-eec0-40e2-9a6a-dbd12f9de7ca\")>,\n",
       " <selenium.webdriver.remote.webelement.WebElement (session=\"fbc254b3a7c18ea34260e527a84f1c78\", element=\"3284ff9e-b43c-403e-9c4e-c848a4ecf4f1\")>,\n",
       " <selenium.webdriver.remote.webelement.WebElement (session=\"fbc254b3a7c18ea34260e527a84f1c78\", element=\"ad7300b1-4aaa-4335-8d50-5288f03307fb\")>,\n",
       " <selenium.webdriver.remote.webelement.WebElement (session=\"fbc254b3a7c18ea34260e527a84f1c78\", element=\"ab9b1fe7-c478-4bb1-9a2e-5a8c6a8fd213\")>,\n",
       " <selenium.webdriver.remote.webelement.WebElement (session=\"fbc254b3a7c18ea34260e527a84f1c78\", element=\"5da07fdb-e421-4fb1-95e4-548938d336cf\")>]"
      ]
     },
     "execution_count": 149,
     "metadata": {},
     "output_type": "execute_result"
    }
   ],
   "source": [
    "descriptionssecond_tags=driver.find_elements_by_xpath('//a[@class=\"IRpwTa\"]')\n",
    "descriptionssecond_tags"
   ]
  },
  {
   "cell_type": "code",
   "execution_count": 150,
   "id": "7817d1a1",
   "metadata": {},
   "outputs": [
    {
     "data": {
      "text/plain": [
       "['UV Protection Round Sunglasses (Free Size)',\n",
       " 'UV Protection Aviator Sunglasses (57)',\n",
       " 'UV Protection Round Sunglasses (Free Size)',\n",
       " 'UV Protection Wayfarer Sunglasses (Free Size)',\n",
       " 'UV Protection Aviator Sunglasses (58)',\n",
       " 'UV Protection Round Sunglasses (53)',\n",
       " 'Riding Glasses, UV Protection, Others Aviator Sunglasse...',\n",
       " 'Gradient, Toughened Glass Lens, UV Protection Retro Squ...',\n",
       " 'UV Protection Wayfarer Sunglasses (Free Size)',\n",
       " 'Polarized, Riding Glasses, Night Vision Sports, Wrap-ar...',\n",
       " 'UV Protection Retro Square Sunglasses (Free Size)',\n",
       " 'Riding Glasses, UV Protection Clubmaster, Wayfarer Sung...',\n",
       " 'Gradient, UV Protection Wayfarer Sunglasses (Free Size)',\n",
       " 'Mirrored, UV Protection Wayfarer Sunglasses (Free Size)',\n",
       " 'UV Protection Rectangular Sunglasses (55)',\n",
       " 'UV Protection Rectangular Sunglasses (50)',\n",
       " 'UV Protection, Riding Glasses Wayfarer Sunglasses (53)',\n",
       " 'UV Protection Wayfarer Sunglasses (Free Size)',\n",
       " 'UV Protection, Night Vision, Riding Glasses, Gradient, ...',\n",
       " 'UV Protection Cat-eye Sunglasses (54)',\n",
       " 'UV Protection, Polarized, Mirrored Rectangular Sunglass...',\n",
       " 'UV Protection Wayfarer Sunglasses (Free Size)',\n",
       " 'Mirrored Aviator Sunglasses (32)',\n",
       " 'UV Protection Spectacle Sunglasses (Free Size)',\n",
       " 'UV Protection, Gradient Rectangular Sunglasses (Free Si...',\n",
       " 'UV Protection, Gradient Round Sunglasses (Free Size)',\n",
       " 'UV Protection Oval Sunglasses (Free Size)',\n",
       " 'UV Protection, Gradient Rectangular Sunglasses (Free Si...',\n",
       " 'UV Protection Rectangular Sunglasses (Free Size)',\n",
       " 'UV Protection Round Sunglasses (Free Size)',\n",
       " 'UV Protection, Gradient Round, Cat-eye Sunglasses (60)',\n",
       " 'UV Protection Rectangular Sunglasses (52)',\n",
       " 'UV Protection, Polarized, Mirrored Round Sunglasses (Fr...',\n",
       " 'UV Protection, Mirrored Clubmaster Sunglasses (Free Siz...',\n",
       " 'UV Protection, Gradient Butterfly, Retro Square Sunglas...',\n",
       " 'UV Protection Round Sunglasses (54)',\n",
       " 'UV Protection Round Sunglasses (Free Size)',\n",
       " 'Mirrored, UV Protection Wayfarer Sunglasses (Free Size)',\n",
       " 'Mirrored, UV Protection Wayfarer Sunglasses (53)',\n",
       " 'UV Protection Wayfarer Sunglasses (62)']"
      ]
     },
     "execution_count": 150,
     "metadata": {},
     "output_type": "execute_result"
    }
   ],
   "source": [
    "for i in descriptionssecond_tags:\n",
    "    description=i.text\n",
    "    Product_descriptionssecond.append(description)\n",
    "Product_descriptionssecond"
   ]
  },
  {
   "cell_type": "code",
   "execution_count": 157,
   "id": "d9e97cca",
   "metadata": {},
   "outputs": [
    {
     "data": {
      "text/plain": [
       "[<selenium.webdriver.remote.webelement.WebElement (session=\"fbc254b3a7c18ea34260e527a84f1c78\", element=\"9ebf9192-c88c-417f-a50b-c9dac36f2913\")>,\n",
       " <selenium.webdriver.remote.webelement.WebElement (session=\"fbc254b3a7c18ea34260e527a84f1c78\", element=\"d064934a-d343-4a84-a5dd-6eb075ec2b55\")>,\n",
       " <selenium.webdriver.remote.webelement.WebElement (session=\"fbc254b3a7c18ea34260e527a84f1c78\", element=\"9b8304a4-3ba1-4d41-9373-d346e882c4ff\")>,\n",
       " <selenium.webdriver.remote.webelement.WebElement (session=\"fbc254b3a7c18ea34260e527a84f1c78\", element=\"dd3404d0-3ca5-48ec-8ec2-994c02f0bfda\")>,\n",
       " <selenium.webdriver.remote.webelement.WebElement (session=\"fbc254b3a7c18ea34260e527a84f1c78\", element=\"b980e986-7f93-4162-8eae-aa0e0fad45ea\")>,\n",
       " <selenium.webdriver.remote.webelement.WebElement (session=\"fbc254b3a7c18ea34260e527a84f1c78\", element=\"dfc5e92b-80b3-42f1-843e-03bb5d24e415\")>,\n",
       " <selenium.webdriver.remote.webelement.WebElement (session=\"fbc254b3a7c18ea34260e527a84f1c78\", element=\"0d15a700-499e-4696-b5de-fc459db65875\")>,\n",
       " <selenium.webdriver.remote.webelement.WebElement (session=\"fbc254b3a7c18ea34260e527a84f1c78\", element=\"a953e34e-de71-4c14-8479-59bed37b06fc\")>,\n",
       " <selenium.webdriver.remote.webelement.WebElement (session=\"fbc254b3a7c18ea34260e527a84f1c78\", element=\"a51b7d2c-2ff5-4c32-b2f6-32753d39f7d1\")>,\n",
       " <selenium.webdriver.remote.webelement.WebElement (session=\"fbc254b3a7c18ea34260e527a84f1c78\", element=\"834ef5be-0839-4074-b33b-470f139345a5\")>,\n",
       " <selenium.webdriver.remote.webelement.WebElement (session=\"fbc254b3a7c18ea34260e527a84f1c78\", element=\"7c88addc-9fb6-47d9-8be3-f6bd9b0def3f\")>,\n",
       " <selenium.webdriver.remote.webelement.WebElement (session=\"fbc254b3a7c18ea34260e527a84f1c78\", element=\"cddb595a-b4d8-4f9a-900b-d3e0a87b326b\")>,\n",
       " <selenium.webdriver.remote.webelement.WebElement (session=\"fbc254b3a7c18ea34260e527a84f1c78\", element=\"26fa4839-ae52-494e-8dcf-50943c6f5321\")>,\n",
       " <selenium.webdriver.remote.webelement.WebElement (session=\"fbc254b3a7c18ea34260e527a84f1c78\", element=\"c74fb1cd-a2bf-49dc-93b9-e63e4ba51a5f\")>,\n",
       " <selenium.webdriver.remote.webelement.WebElement (session=\"fbc254b3a7c18ea34260e527a84f1c78\", element=\"7dd28b6a-4de3-40b5-8b4b-1b82ae984a85\")>,\n",
       " <selenium.webdriver.remote.webelement.WebElement (session=\"fbc254b3a7c18ea34260e527a84f1c78\", element=\"604dad91-6c46-4626-986f-0ef7f48257f3\")>,\n",
       " <selenium.webdriver.remote.webelement.WebElement (session=\"fbc254b3a7c18ea34260e527a84f1c78\", element=\"76547258-9b54-4bcb-856a-9c3e23a7ea26\")>,\n",
       " <selenium.webdriver.remote.webelement.WebElement (session=\"fbc254b3a7c18ea34260e527a84f1c78\", element=\"b009408f-7156-4dc6-a190-33c45c1cdeaa\")>,\n",
       " <selenium.webdriver.remote.webelement.WebElement (session=\"fbc254b3a7c18ea34260e527a84f1c78\", element=\"a243fc7c-d75b-4ef1-88a0-584fb3eb215f\")>,\n",
       " <selenium.webdriver.remote.webelement.WebElement (session=\"fbc254b3a7c18ea34260e527a84f1c78\", element=\"12a12067-16b6-4970-bc5d-de35722c7b09\")>,\n",
       " <selenium.webdriver.remote.webelement.WebElement (session=\"fbc254b3a7c18ea34260e527a84f1c78\", element=\"dc426b7f-d05a-4643-995d-bfcd89c61ece\")>,\n",
       " <selenium.webdriver.remote.webelement.WebElement (session=\"fbc254b3a7c18ea34260e527a84f1c78\", element=\"48f79e47-8139-4cf5-b060-11a249f9ce6e\")>,\n",
       " <selenium.webdriver.remote.webelement.WebElement (session=\"fbc254b3a7c18ea34260e527a84f1c78\", element=\"b9b84da7-f1ec-4c14-ad8c-dd7e63ec3137\")>,\n",
       " <selenium.webdriver.remote.webelement.WebElement (session=\"fbc254b3a7c18ea34260e527a84f1c78\", element=\"62b4b493-daae-4ea9-a0b3-3543331f07e8\")>,\n",
       " <selenium.webdriver.remote.webelement.WebElement (session=\"fbc254b3a7c18ea34260e527a84f1c78\", element=\"4906f747-38a4-4cfe-ac30-b3d2a64b9b73\")>,\n",
       " <selenium.webdriver.remote.webelement.WebElement (session=\"fbc254b3a7c18ea34260e527a84f1c78\", element=\"d2057221-0e7e-4954-945e-b28bf242ab0f\")>,\n",
       " <selenium.webdriver.remote.webelement.WebElement (session=\"fbc254b3a7c18ea34260e527a84f1c78\", element=\"ed8bc892-bb1b-4957-af22-5397eacb1a0e\")>,\n",
       " <selenium.webdriver.remote.webelement.WebElement (session=\"fbc254b3a7c18ea34260e527a84f1c78\", element=\"0e5b111e-b81e-40c9-abd9-59d16153a39b\")>,\n",
       " <selenium.webdriver.remote.webelement.WebElement (session=\"fbc254b3a7c18ea34260e527a84f1c78\", element=\"81228d18-2c52-4151-a479-024a20d7603c\")>,\n",
       " <selenium.webdriver.remote.webelement.WebElement (session=\"fbc254b3a7c18ea34260e527a84f1c78\", element=\"0af3a074-8044-4ef9-acb7-766b47a73de8\")>,\n",
       " <selenium.webdriver.remote.webelement.WebElement (session=\"fbc254b3a7c18ea34260e527a84f1c78\", element=\"8c4846eb-a172-46c6-b27d-47dfc360e0c0\")>,\n",
       " <selenium.webdriver.remote.webelement.WebElement (session=\"fbc254b3a7c18ea34260e527a84f1c78\", element=\"9e457277-5ea9-441d-a018-758912daab66\")>,\n",
       " <selenium.webdriver.remote.webelement.WebElement (session=\"fbc254b3a7c18ea34260e527a84f1c78\", element=\"7c6f24fb-ea6e-4a83-81f3-c520d8bb3f45\")>,\n",
       " <selenium.webdriver.remote.webelement.WebElement (session=\"fbc254b3a7c18ea34260e527a84f1c78\", element=\"281038aa-c7ce-48dc-8857-5b8e17e60eef\")>,\n",
       " <selenium.webdriver.remote.webelement.WebElement (session=\"fbc254b3a7c18ea34260e527a84f1c78\", element=\"b0006d27-e866-4024-925e-029d05ce1ddf\")>,\n",
       " <selenium.webdriver.remote.webelement.WebElement (session=\"fbc254b3a7c18ea34260e527a84f1c78\", element=\"4dc0c768-2460-47bb-bb26-cdf40e6a0776\")>,\n",
       " <selenium.webdriver.remote.webelement.WebElement (session=\"fbc254b3a7c18ea34260e527a84f1c78\", element=\"64eb5ae3-a87e-46d2-9cae-4363b92505e0\")>,\n",
       " <selenium.webdriver.remote.webelement.WebElement (session=\"fbc254b3a7c18ea34260e527a84f1c78\", element=\"ee2193cf-20eb-43c6-a3b1-670e92aee5b1\")>,\n",
       " <selenium.webdriver.remote.webelement.WebElement (session=\"fbc254b3a7c18ea34260e527a84f1c78\", element=\"c4e45a0b-131b-446c-ae6e-00d214b628a5\")>,\n",
       " <selenium.webdriver.remote.webelement.WebElement (session=\"fbc254b3a7c18ea34260e527a84f1c78\", element=\"25de50df-f2e4-48a3-9273-eed99fd010ab\")>]"
      ]
     },
     "execution_count": 157,
     "metadata": {},
     "output_type": "execute_result"
    }
   ],
   "source": [
    "titlessecond_tags=driver.find_elements_by_xpath('//a[@class=\"_3bPFwb\"]')\n",
    "titlessecond_tags"
   ]
  },
  {
   "cell_type": "code",
   "execution_count": 158,
   "id": "0792889d",
   "metadata": {},
   "outputs": [
    {
     "data": {
      "text/plain": [
       "['₹398₹1,99980% off',\n",
       " '₹284₹1,99985% off',\n",
       " '₹265₹1,29979% off',\n",
       " '₹861₹3,99978% off',\n",
       " '₹1,099₹1,29915% off',\n",
       " '₹244₹99875% off',\n",
       " '₹245₹1,49983% off',\n",
       " '₹664₹2,99977% off',\n",
       " '₹422₹1,49971% off',\n",
       " '₹499₹2,29978% off',\n",
       " '₹379₹1,99981% off',\n",
       " '₹329₹1,99983% off',\n",
       " '₹647₹89928% off',\n",
       " '₹269₹1,99986% off',\n",
       " '₹189₹1,29985% off',\n",
       " '₹649₹1,99967% off',\n",
       " '₹221₹1,79987% off',\n",
       " '₹575₹79928% off',\n",
       " '₹179₹1,29886% off',\n",
       " '₹649₹1,99967% off',\n",
       " '₹213₹99978% off',\n",
       " '₹249₹1,92087% off',\n",
       " '₹199₹1,59987% off',\n",
       " '₹399₹1,99980% off',\n",
       " '₹399₹1,99980% off',\n",
       " '₹399₹1,99980% off',\n",
       " '₹1,599₹1,99920% off',\n",
       " '₹449₹1,99977% off',\n",
       " '₹189₹1,59988% off',\n",
       " '₹329₹1,59979% off',\n",
       " '₹498₹1,70070% off',\n",
       " '₹649₹1,99967% off',\n",
       " '₹324₹1,69980% off',\n",
       " '₹369₹1,99881% off',\n",
       " '₹498₹1,52567% off',\n",
       " '₹2,500₹5,00050% off',\n",
       " '₹399₹2,66585% off',\n",
       " '₹269₹1,49982% off',\n",
       " '₹299₹1,99985% off',\n",
       " '₹649₹1,99967% off',\n",
       " '₹42271% off',\n",
       " '₹49870% off',\n",
       " '₹39980% off',\n",
       " '₹26579% off',\n",
       " '₹24987% off',\n",
       " '₹398₹1,99980% off',\n",
       " '₹284₹1,99985% off\\nFree delivery',\n",
       " '₹265₹1,29979% off\\nFree delivery',\n",
       " '₹861₹3,99978% off',\n",
       " '₹1,099₹1,29915% off',\n",
       " '₹244₹99875% off\\nFree delivery',\n",
       " '₹245₹1,49983% off\\nFree delivery',\n",
       " '₹664₹2,99977% off\\nFree delivery',\n",
       " '₹422₹1,49971% off\\nFree delivery',\n",
       " '₹499₹2,29978% off\\nFree delivery',\n",
       " '₹379₹1,99981% off\\nFree delivery',\n",
       " '₹329₹1,99983% off\\nFree delivery',\n",
       " '₹647₹89928% off\\nFree delivery',\n",
       " '₹269₹1,99986% off\\nFree delivery',\n",
       " '₹189₹1,29985% off\\nFree delivery',\n",
       " '₹649₹1,99967% off\\nFree delivery',\n",
       " '₹221₹1,79987% off\\nFree delivery',\n",
       " '₹575₹79928% off\\nFree delivery',\n",
       " '₹179₹1,29886% off\\nFree delivery',\n",
       " '₹649₹1,99967% off\\nFree delivery',\n",
       " '₹213₹99978% off\\nFree delivery',\n",
       " '₹249₹1,92087% off\\nFree delivery',\n",
       " '₹199₹1,59987% off\\nFree delivery',\n",
       " '₹399₹1,99980% off\\nFree delivery',\n",
       " '₹399₹1,99980% off\\nFree delivery',\n",
       " '₹399₹1,99980% off\\nFree delivery',\n",
       " '₹1,599₹1,99920% off\\nFree delivery',\n",
       " '₹449₹1,99977% off\\nFree delivery',\n",
       " '₹189₹1,59988% off\\nFree delivery',\n",
       " '₹329₹1,59979% off\\nFree delivery',\n",
       " '₹498₹1,70070% off\\nFree delivery',\n",
       " '₹649₹1,99967% off\\nFree delivery',\n",
       " '₹324₹1,69980% off\\nFree delivery',\n",
       " '₹369₹1,99881% off\\nFree delivery',\n",
       " '₹498₹1,52567% off\\nFree delivery',\n",
       " '₹2,500₹5,00050% off\\nFree delivery',\n",
       " '₹399₹2,66585% off\\nFree delivery',\n",
       " '₹269₹1,49982% off\\nFree delivery',\n",
       " '₹299₹1,99985% off\\nFree delivery',\n",
       " '₹649₹1,99967% off\\nFree delivery']"
      ]
     },
     "execution_count": 158,
     "metadata": {},
     "output_type": "execute_result"
    }
   ],
   "source": [
    "for i in titlessecond_tags:\n",
    "    titlesec=i.text\n",
    "    Price_titlessecond.append(titlesec)\n",
    "Price_titlessecond"
   ]
  },
  {
   "cell_type": "code",
   "execution_count": 168,
   "id": "855adfe8",
   "metadata": {},
   "outputs": [],
   "source": [
    "search_button_next=driver.find_element_by_xpath('/html/body/div/div/div[3]/div[1]/div[2]/div[12]/div/div/nav/a[12]/span')\n",
    "\n",
    "search_button_next.click()"
   ]
  },
  {
   "cell_type": "code",
   "execution_count": 169,
   "id": "be5d02b1",
   "metadata": {},
   "outputs": [],
   "source": [
    "url='https://www.flipkart.com/search?q=Sunglass&otracker=search&otracker1=search&marketplace=FLIPKART&as-show=on&as=off&page=3'"
   ]
  },
  {
   "cell_type": "code",
   "execution_count": 170,
   "id": "40e0d3ac",
   "metadata": {},
   "outputs": [],
   "source": [
    "driver.get(url)"
   ]
  },
  {
   "cell_type": "code",
   "execution_count": 171,
   "id": "4586a13e",
   "metadata": {},
   "outputs": [],
   "source": [
    "Brand_titlesthird=[]\n",
    "Product_descriptionsthird=[]\n",
    "Price_titlesthird=[]"
   ]
  },
  {
   "cell_type": "code",
   "execution_count": 172,
   "id": "b7075ca2",
   "metadata": {},
   "outputs": [
    {
     "data": {
      "text/plain": [
       "[<selenium.webdriver.remote.webelement.WebElement (session=\"fbc254b3a7c18ea34260e527a84f1c78\", element=\"a165d218-f48e-494c-914b-55aa61e868e9\")>,\n",
       " <selenium.webdriver.remote.webelement.WebElement (session=\"fbc254b3a7c18ea34260e527a84f1c78\", element=\"f7912df0-5732-4da4-8fad-7c2107f86f94\")>,\n",
       " <selenium.webdriver.remote.webelement.WebElement (session=\"fbc254b3a7c18ea34260e527a84f1c78\", element=\"fcf22770-7fbc-4045-b0ff-1b62fea3b948\")>,\n",
       " <selenium.webdriver.remote.webelement.WebElement (session=\"fbc254b3a7c18ea34260e527a84f1c78\", element=\"2f253010-be42-4b19-bd56-921199224622\")>,\n",
       " <selenium.webdriver.remote.webelement.WebElement (session=\"fbc254b3a7c18ea34260e527a84f1c78\", element=\"2a05dde9-7c14-452b-8b65-21ea8bf25d71\")>,\n",
       " <selenium.webdriver.remote.webelement.WebElement (session=\"fbc254b3a7c18ea34260e527a84f1c78\", element=\"be8dc193-3e31-4cac-a4bb-f105522d38aa\")>,\n",
       " <selenium.webdriver.remote.webelement.WebElement (session=\"fbc254b3a7c18ea34260e527a84f1c78\", element=\"e03573b9-42b5-4f61-b684-8e37135a9d6f\")>,\n",
       " <selenium.webdriver.remote.webelement.WebElement (session=\"fbc254b3a7c18ea34260e527a84f1c78\", element=\"03ba6ead-11b2-4b44-94b9-0374106d0aa0\")>,\n",
       " <selenium.webdriver.remote.webelement.WebElement (session=\"fbc254b3a7c18ea34260e527a84f1c78\", element=\"6036d256-bcc8-4136-a2a8-53807ef4cb5f\")>,\n",
       " <selenium.webdriver.remote.webelement.WebElement (session=\"fbc254b3a7c18ea34260e527a84f1c78\", element=\"67e1c973-408c-47a0-b86d-e986c5914038\")>,\n",
       " <selenium.webdriver.remote.webelement.WebElement (session=\"fbc254b3a7c18ea34260e527a84f1c78\", element=\"b8d7cd43-03d2-4aab-8f71-4ed52613b03d\")>,\n",
       " <selenium.webdriver.remote.webelement.WebElement (session=\"fbc254b3a7c18ea34260e527a84f1c78\", element=\"edebe15a-e724-44cb-840b-c2c8cc064fd8\")>,\n",
       " <selenium.webdriver.remote.webelement.WebElement (session=\"fbc254b3a7c18ea34260e527a84f1c78\", element=\"5a8de580-0c22-4e16-8272-400e1221dbcd\")>,\n",
       " <selenium.webdriver.remote.webelement.WebElement (session=\"fbc254b3a7c18ea34260e527a84f1c78\", element=\"32f31155-6bdb-41b6-b462-25c36edf1f9c\")>,\n",
       " <selenium.webdriver.remote.webelement.WebElement (session=\"fbc254b3a7c18ea34260e527a84f1c78\", element=\"49a65b5d-9c03-4259-8402-ec334fb21d77\")>,\n",
       " <selenium.webdriver.remote.webelement.WebElement (session=\"fbc254b3a7c18ea34260e527a84f1c78\", element=\"65980bb5-31b6-44f6-9804-f0373a0c64a2\")>,\n",
       " <selenium.webdriver.remote.webelement.WebElement (session=\"fbc254b3a7c18ea34260e527a84f1c78\", element=\"39cd1b77-c1a2-4cc4-9913-d3863ad6948c\")>,\n",
       " <selenium.webdriver.remote.webelement.WebElement (session=\"fbc254b3a7c18ea34260e527a84f1c78\", element=\"5c86a8d9-c899-4312-ab21-6f0b25bcf8fe\")>,\n",
       " <selenium.webdriver.remote.webelement.WebElement (session=\"fbc254b3a7c18ea34260e527a84f1c78\", element=\"f23fd4df-5cac-45d1-8886-f0ca49f96bcc\")>,\n",
       " <selenium.webdriver.remote.webelement.WebElement (session=\"fbc254b3a7c18ea34260e527a84f1c78\", element=\"5a096a38-b4c1-48bd-ad99-57d93f91d7be\")>]"
      ]
     },
     "execution_count": 172,
     "metadata": {},
     "output_type": "execute_result"
    }
   ],
   "source": [
    "titlesthird_tags=driver.find_elements_by_xpath('//div[@class=\"_2WkVRV\"]')\n",
    "titlesthird_tags[0:20]"
   ]
  },
  {
   "cell_type": "code",
   "execution_count": 173,
   "id": "a567cb3a",
   "metadata": {},
   "outputs": [
    {
     "data": {
      "text/plain": [
       "['ROZZETTA CRAFT',\n",
       " 'agera',\n",
       " 'kingsunglasses',\n",
       " 'Singco India',\n",
       " 'kingsunglasses',\n",
       " 'SRPM',\n",
       " 'Fastrack',\n",
       " 'VINCENT CHASE',\n",
       " 'AISLIN',\n",
       " 'Fastrack',\n",
       " 'Lee Topper',\n",
       " 'ROZZETTA CRAFT',\n",
       " 'Rich Club',\n",
       " 'kingsunglasses',\n",
       " 'kingsunglasses',\n",
       " 'GANSTA',\n",
       " 'Elligator',\n",
       " 'kingsunglasses',\n",
       " 'SRPM',\n",
       " 'NuVew']"
      ]
     },
     "execution_count": 173,
     "metadata": {},
     "output_type": "execute_result"
    }
   ],
   "source": [
    "for i in titlesthird_tags:\n",
    "    title=i.text\n",
    "    Brand_titlesthird.append(title)\n",
    "Brand_titlesthird[0:20]"
   ]
  },
  {
   "cell_type": "code",
   "execution_count": 174,
   "id": "4aba7080",
   "metadata": {},
   "outputs": [
    {
     "data": {
      "text/plain": [
       "[<selenium.webdriver.remote.webelement.WebElement (session=\"fbc254b3a7c18ea34260e527a84f1c78\", element=\"34aab742-bacc-47d5-b38f-a164ef55203b\")>,\n",
       " <selenium.webdriver.remote.webelement.WebElement (session=\"fbc254b3a7c18ea34260e527a84f1c78\", element=\"12bf8554-27c3-4023-99a9-4f21850c36e3\")>,\n",
       " <selenium.webdriver.remote.webelement.WebElement (session=\"fbc254b3a7c18ea34260e527a84f1c78\", element=\"b22c1f64-163a-44a6-957c-6d8cdcce0d9d\")>,\n",
       " <selenium.webdriver.remote.webelement.WebElement (session=\"fbc254b3a7c18ea34260e527a84f1c78\", element=\"ceab2863-1258-4be9-ac0e-b30dd79879c3\")>,\n",
       " <selenium.webdriver.remote.webelement.WebElement (session=\"fbc254b3a7c18ea34260e527a84f1c78\", element=\"b848c762-cd1b-4911-88ce-22961b3f4ef4\")>,\n",
       " <selenium.webdriver.remote.webelement.WebElement (session=\"fbc254b3a7c18ea34260e527a84f1c78\", element=\"1d53aedf-fa62-4ce3-83b5-ee8a23fa5a03\")>,\n",
       " <selenium.webdriver.remote.webelement.WebElement (session=\"fbc254b3a7c18ea34260e527a84f1c78\", element=\"1dac3836-d62f-46cd-9273-95a3d7c1eb4f\")>,\n",
       " <selenium.webdriver.remote.webelement.WebElement (session=\"fbc254b3a7c18ea34260e527a84f1c78\", element=\"b6364e3f-7865-497e-8946-40197e00d797\")>,\n",
       " <selenium.webdriver.remote.webelement.WebElement (session=\"fbc254b3a7c18ea34260e527a84f1c78\", element=\"f4cbcbd8-4556-4fc7-ad75-7eb06d46af9d\")>,\n",
       " <selenium.webdriver.remote.webelement.WebElement (session=\"fbc254b3a7c18ea34260e527a84f1c78\", element=\"48e99d17-54a0-456d-992a-f70ef22bc79b\")>,\n",
       " <selenium.webdriver.remote.webelement.WebElement (session=\"fbc254b3a7c18ea34260e527a84f1c78\", element=\"6c8f2154-e836-4796-987c-fe602619102e\")>,\n",
       " <selenium.webdriver.remote.webelement.WebElement (session=\"fbc254b3a7c18ea34260e527a84f1c78\", element=\"e2df51ef-44ff-476e-add9-dac1a08e91ff\")>,\n",
       " <selenium.webdriver.remote.webelement.WebElement (session=\"fbc254b3a7c18ea34260e527a84f1c78\", element=\"caf8ca91-4b12-4164-a526-e1117ce61587\")>,\n",
       " <selenium.webdriver.remote.webelement.WebElement (session=\"fbc254b3a7c18ea34260e527a84f1c78\", element=\"e8ee4b40-40c8-4e6c-895e-4ddd0acb295a\")>,\n",
       " <selenium.webdriver.remote.webelement.WebElement (session=\"fbc254b3a7c18ea34260e527a84f1c78\", element=\"a8c5c349-4c97-4f24-ba57-e5930f123bef\")>,\n",
       " <selenium.webdriver.remote.webelement.WebElement (session=\"fbc254b3a7c18ea34260e527a84f1c78\", element=\"7c739df9-801f-4a9a-808a-4d7c8a1c300e\")>,\n",
       " <selenium.webdriver.remote.webelement.WebElement (session=\"fbc254b3a7c18ea34260e527a84f1c78\", element=\"5215104a-62e6-49ac-bedc-4998eda37119\")>,\n",
       " <selenium.webdriver.remote.webelement.WebElement (session=\"fbc254b3a7c18ea34260e527a84f1c78\", element=\"32a1bc45-cde6-423c-8c1b-e0513dc7c5b4\")>,\n",
       " <selenium.webdriver.remote.webelement.WebElement (session=\"fbc254b3a7c18ea34260e527a84f1c78\", element=\"cecef694-9dac-4762-bba6-bcc072451b97\")>,\n",
       " <selenium.webdriver.remote.webelement.WebElement (session=\"fbc254b3a7c18ea34260e527a84f1c78\", element=\"02d388d6-7562-47ba-a74f-7c49b0709159\")>]"
      ]
     },
     "execution_count": 174,
     "metadata": {},
     "output_type": "execute_result"
    }
   ],
   "source": [
    "descriptionsthird_tags=driver.find_elements_by_xpath('//a[@class=\"IRpwTa\"]')\n",
    "descriptionsthird_tags[0:20]"
   ]
  },
  {
   "cell_type": "code",
   "execution_count": 175,
   "id": "4a0713b0",
   "metadata": {},
   "outputs": [
    {
     "data": {
      "text/plain": [
       "['UV Protection Aviator Sunglasses (62)',\n",
       " 'Gradient Aviator Sunglasses (55)',\n",
       " 'UV Protection Rectangular Sunglasses (55)',\n",
       " 'UV Protection, Riding Glasses, Others Aviator, Wayfarer...',\n",
       " 'Mirrored, UV Protection Wayfarer, Rectangular Sunglasse...',\n",
       " 'Night Vision, UV Protection Round Sunglasses (54)',\n",
       " 'Gradient, UV Protection Wayfarer Sunglasses (Free Size)',\n",
       " 'UV Protection Cat-eye Sunglasses (54)',\n",
       " 'Toughened Glass Lens, UV Protection Wayfarer, Rectangul...',\n",
       " 'UV Protection Wayfarer Sunglasses (Free Size)',\n",
       " 'Riding Glasses, Night Vision Wrap-around Sunglasses (Fr...',\n",
       " 'UV Protection, Gradient Retro Square Sunglasses (Free S...',\n",
       " 'UV Protection, Mirrored, Gradient Round Sunglasses (51)',\n",
       " 'UV Protection, Others Round, Aviator Sunglasses (54)',\n",
       " 'UV Protection, Mirrored Round Sunglasses (Free Size)',\n",
       " 'UV Protection Aviator Sunglasses (57)',\n",
       " 'UV Protection Retro Square, Round Sunglasses (54)',\n",
       " 'UV Protection, Night Vision Wayfarer Sunglasses (Free S...',\n",
       " 'UV Protection Wayfarer Sunglasses (54)',\n",
       " 'UV Protection Retro Square, Wayfarer Sunglasses (58)']"
      ]
     },
     "execution_count": 175,
     "metadata": {},
     "output_type": "execute_result"
    }
   ],
   "source": [
    "for i in descriptionsthird_tags:\n",
    "    description=i.text\n",
    "    Product_descriptionsthird.append(description)\n",
    "Product_descriptionsthird[0:20]"
   ]
  },
  {
   "cell_type": "code",
   "execution_count": 176,
   "id": "8241881b",
   "metadata": {},
   "outputs": [
    {
     "data": {
      "text/plain": [
       "[<selenium.webdriver.remote.webelement.WebElement (session=\"fbc254b3a7c18ea34260e527a84f1c78\", element=\"a70c136d-47e1-4ce8-a86c-6510a7e2f245\")>,\n",
       " <selenium.webdriver.remote.webelement.WebElement (session=\"fbc254b3a7c18ea34260e527a84f1c78\", element=\"be3d4f89-9150-4a8b-87c6-efbd3f54ec83\")>,\n",
       " <selenium.webdriver.remote.webelement.WebElement (session=\"fbc254b3a7c18ea34260e527a84f1c78\", element=\"84b90c80-6876-47f2-a2b8-bc95266ec5a7\")>,\n",
       " <selenium.webdriver.remote.webelement.WebElement (session=\"fbc254b3a7c18ea34260e527a84f1c78\", element=\"e0a360c7-dd39-41ff-a43e-cd10a7573989\")>,\n",
       " <selenium.webdriver.remote.webelement.WebElement (session=\"fbc254b3a7c18ea34260e527a84f1c78\", element=\"1bce9eb0-47f8-4819-975e-a2a246d0239e\")>,\n",
       " <selenium.webdriver.remote.webelement.WebElement (session=\"fbc254b3a7c18ea34260e527a84f1c78\", element=\"d71a1531-f24d-405b-ba57-6acb2d850fe5\")>,\n",
       " <selenium.webdriver.remote.webelement.WebElement (session=\"fbc254b3a7c18ea34260e527a84f1c78\", element=\"e812e97c-933c-4e29-b43d-f92282ea24c3\")>,\n",
       " <selenium.webdriver.remote.webelement.WebElement (session=\"fbc254b3a7c18ea34260e527a84f1c78\", element=\"7e96488d-8a85-4ecf-a926-6aa1b41688f8\")>,\n",
       " <selenium.webdriver.remote.webelement.WebElement (session=\"fbc254b3a7c18ea34260e527a84f1c78\", element=\"bd4c7549-0bbd-45ed-bddd-5b4fe1b1897a\")>,\n",
       " <selenium.webdriver.remote.webelement.WebElement (session=\"fbc254b3a7c18ea34260e527a84f1c78\", element=\"40286498-6afb-41cd-8475-c92ced70df58\")>,\n",
       " <selenium.webdriver.remote.webelement.WebElement (session=\"fbc254b3a7c18ea34260e527a84f1c78\", element=\"81a5c1d5-7dc9-40fd-8903-7f9487e21a4f\")>,\n",
       " <selenium.webdriver.remote.webelement.WebElement (session=\"fbc254b3a7c18ea34260e527a84f1c78\", element=\"e9324621-95a0-4c05-97c5-010746dc91e6\")>,\n",
       " <selenium.webdriver.remote.webelement.WebElement (session=\"fbc254b3a7c18ea34260e527a84f1c78\", element=\"3d225dda-d6f6-4e49-8ec6-4ab1430917f5\")>,\n",
       " <selenium.webdriver.remote.webelement.WebElement (session=\"fbc254b3a7c18ea34260e527a84f1c78\", element=\"b580b796-e496-4457-83c0-6d532ee010d6\")>,\n",
       " <selenium.webdriver.remote.webelement.WebElement (session=\"fbc254b3a7c18ea34260e527a84f1c78\", element=\"40e00be0-471f-47cd-b161-708b062315d0\")>,\n",
       " <selenium.webdriver.remote.webelement.WebElement (session=\"fbc254b3a7c18ea34260e527a84f1c78\", element=\"74f4c738-7b85-4e5c-a868-0a5474b454b6\")>,\n",
       " <selenium.webdriver.remote.webelement.WebElement (session=\"fbc254b3a7c18ea34260e527a84f1c78\", element=\"ca9f8905-a0d7-4223-b21a-00f7db9f6400\")>,\n",
       " <selenium.webdriver.remote.webelement.WebElement (session=\"fbc254b3a7c18ea34260e527a84f1c78\", element=\"3499b17a-d687-467e-8fc0-41e7cf870190\")>,\n",
       " <selenium.webdriver.remote.webelement.WebElement (session=\"fbc254b3a7c18ea34260e527a84f1c78\", element=\"71a44a4c-370a-40cd-8322-3cc63bb5e6f2\")>,\n",
       " <selenium.webdriver.remote.webelement.WebElement (session=\"fbc254b3a7c18ea34260e527a84f1c78\", element=\"009e8a74-bd4f-4c2d-8f62-fcf1a0ecb627\")>]"
      ]
     },
     "execution_count": 176,
     "metadata": {},
     "output_type": "execute_result"
    }
   ],
   "source": [
    "titlesthird_tags=driver.find_elements_by_xpath('//a[@class=\"_3bPFwb\"]')\n",
    "titlesthird_tags[0:20]"
   ]
  },
  {
   "cell_type": "code",
   "execution_count": 177,
   "id": "2916a220",
   "metadata": {},
   "outputs": [
    {
     "data": {
      "text/plain": [
       "['₹649₹2,55574% off',\n",
       " '₹224₹1,14980% off',\n",
       " '₹269₹1,49982% off',\n",
       " '₹229₹69967% off',\n",
       " '₹289₹1,99985% off',\n",
       " '₹277₹99972% off',\n",
       " '₹639₹79920% off',\n",
       " '₹649₹1,99967% off\\nFree delivery',\n",
       " '₹775₹3,69979% off\\nFree delivery',\n",
       " '₹849₹99915% off\\nFree delivery',\n",
       " '₹276₹2,49988% off',\n",
       " '₹349₹1,99982% off\\nFree delivery',\n",
       " '₹253₹79968% off\\nFree delivery',\n",
       " '₹215₹99978% off\\nFree delivery',\n",
       " '₹269₹1,49982% off\\nFree delivery',\n",
       " '₹284₹1,99985% off\\nFree delivery',\n",
       " '₹355₹1,99982% off\\nFree delivery',\n",
       " '₹299₹1,49980% off\\nFree delivery',\n",
       " '₹233₹99976% off\\nFree delivery',\n",
       " '₹275₹1,05073% off\\nFree delivery']"
      ]
     },
     "execution_count": 177,
     "metadata": {},
     "output_type": "execute_result"
    }
   ],
   "source": [
    "for i in titlesthird_tags:\n",
    "    title=i.text\n",
    "    Price_titlesthird.append(title)\n",
    "Price_titlesthird[0:20]"
   ]
  },
  {
   "cell_type": "raw",
   "id": "dfc0634a",
   "metadata": {},
   "source": [
    "IN the phrase  found 100 sunglass brand,product description and price"
   ]
  },
  {
   "cell_type": "raw",
   "id": "9cf21cd0",
   "metadata": {},
   "source": [
    "Q5: Scrape 100 reviews data from flipkart.com for iphone11 phone. You have to go the link:\n",
    "https://www.flipkart.com/apple-iphone-11-black-64-gb-includes- earpods-poweradapter/p/itm0f37c2240b217?pid=MOBFKCTSVZAXUHGR&lid=LSTMOBFKC\n",
    "TSVZAXUHGREPBFGI&marketplace.\n",
    "When you will open the above link you will reach to the below shown webpage"
   ]
  },
  {
   "cell_type": "raw",
   "id": "fd4e16a3",
   "metadata": {},
   "source": [
    "As shown in the above page you have to scrape the tick marked attributes.These are:\n",
    "1. Rating\n",
    "2. Review summary\n",
    "3. Full review\n",
    "4. You have to scrape this data for first 100 reviews."
   ]
  },
  {
   "cell_type": "code",
   "execution_count": 4,
   "id": "90da9f0d",
   "metadata": {},
   "outputs": [],
   "source": [
    "url='https://www.flipkart.com/apple-iphone-11-black-128-gb/p/itm8244e8d955aba?pid=MOBFWQ6BKRYBP5X8&lid=LSTMOBFWQ6BKRYBP5X8X0KYUG&marketplace=FLIPKART&q=iphone+11+phone+black&store=tyy%2F4io&srno=s_1_2&otracker=search&otracker1=search&fm=search-autosuggest&iid=12b968e6-719c-4c03-a61f-64c33d55d681.MOBFWQ6BKRYBP5X8.SEARCH&ppt=sp&ppn=sp&ssid=vpkwf071yo0000001651515765048&qH=2d82aa0a5140d85c'"
   ]
  },
  {
   "cell_type": "code",
   "execution_count": 5,
   "id": "6aede009",
   "metadata": {},
   "outputs": [],
   "source": [
    "driver.get(url)"
   ]
  },
  {
   "cell_type": "code",
   "execution_count": 6,
   "id": "bf473ada",
   "metadata": {},
   "outputs": [],
   "source": [
    "Rating_titles=[]\n",
    "Review_summary=[]\n",
    "Full_review=[]"
   ]
  },
  {
   "cell_type": "code",
   "execution_count": 7,
   "id": "73682ee2",
   "metadata": {},
   "outputs": [
    {
     "data": {
      "text/plain": [
       "[<selenium.webdriver.remote.webelement.WebElement (session=\"f1c78d4ad00f3374631796b91ce84408\", element=\"2125eaeb-d5fa-45c5-8fbf-5306b7a01264\")>,\n",
       " <selenium.webdriver.remote.webelement.WebElement (session=\"f1c78d4ad00f3374631796b91ce84408\", element=\"3f707b71-87db-446b-8d3b-690a09a9b299\")>,\n",
       " <selenium.webdriver.remote.webelement.WebElement (session=\"f1c78d4ad00f3374631796b91ce84408\", element=\"40885b99-39f4-4eee-8828-24ae618fadf4\")>,\n",
       " <selenium.webdriver.remote.webelement.WebElement (session=\"f1c78d4ad00f3374631796b91ce84408\", element=\"986bf3ae-950e-46ef-941d-59dff04bddcd\")>,\n",
       " <selenium.webdriver.remote.webelement.WebElement (session=\"f1c78d4ad00f3374631796b91ce84408\", element=\"bed26d0c-6efa-41f1-a34c-fd5acb8e4637\")>,\n",
       " <selenium.webdriver.remote.webelement.WebElement (session=\"f1c78d4ad00f3374631796b91ce84408\", element=\"8a9dde32-4348-4348-9ae6-866203c9a077\")>,\n",
       " <selenium.webdriver.remote.webelement.WebElement (session=\"f1c78d4ad00f3374631796b91ce84408\", element=\"ef8c41cd-d1a1-4c60-be91-27195351cf6f\")>,\n",
       " <selenium.webdriver.remote.webelement.WebElement (session=\"f1c78d4ad00f3374631796b91ce84408\", element=\"f98e458a-3168-499b-8624-e761f9a721fa\")>,\n",
       " <selenium.webdriver.remote.webelement.WebElement (session=\"f1c78d4ad00f3374631796b91ce84408\", element=\"6c21ef04-d999-4931-b0bb-461c1c3cc272\")>,\n",
       " <selenium.webdriver.remote.webelement.WebElement (session=\"f1c78d4ad00f3374631796b91ce84408\", element=\"b74707b0-a026-4aaf-abb5-e1549752ab10\")>,\n",
       " <selenium.webdriver.remote.webelement.WebElement (session=\"f1c78d4ad00f3374631796b91ce84408\", element=\"46eea2b6-80fe-4331-a0ea-cd67a985f899\")>,\n",
       " <selenium.webdriver.remote.webelement.WebElement (session=\"f1c78d4ad00f3374631796b91ce84408\", element=\"acef8457-6aa2-4c30-bc4d-7a967597be7a\")>,\n",
       " <selenium.webdriver.remote.webelement.WebElement (session=\"f1c78d4ad00f3374631796b91ce84408\", element=\"7252bbd0-9e58-4a08-a54f-2e17a0b4fdac\")>,\n",
       " <selenium.webdriver.remote.webelement.WebElement (session=\"f1c78d4ad00f3374631796b91ce84408\", element=\"65feac3b-ee4c-4447-b562-aad018f600a8\")>,\n",
       " <selenium.webdriver.remote.webelement.WebElement (session=\"f1c78d4ad00f3374631796b91ce84408\", element=\"4019e6dc-e321-4707-9136-8f717fde466b\")>,\n",
       " <selenium.webdriver.remote.webelement.WebElement (session=\"f1c78d4ad00f3374631796b91ce84408\", element=\"da615ba6-cccf-48fc-bcb9-7c99a31eeab8\")>,\n",
       " <selenium.webdriver.remote.webelement.WebElement (session=\"f1c78d4ad00f3374631796b91ce84408\", element=\"bbf09ba7-d581-4531-ab08-f4cb4517f5a0\")>,\n",
       " <selenium.webdriver.remote.webelement.WebElement (session=\"f1c78d4ad00f3374631796b91ce84408\", element=\"a991d7f5-38e8-483a-b154-75a8c6a3a84b\")>,\n",
       " <selenium.webdriver.remote.webelement.WebElement (session=\"f1c78d4ad00f3374631796b91ce84408\", element=\"b5416dbf-16fd-46d4-a864-5d9b4eef060e\")>,\n",
       " <selenium.webdriver.remote.webelement.WebElement (session=\"f1c78d4ad00f3374631796b91ce84408\", element=\"8a0868be-aa5a-43a6-b523-33001a941ecb\")>,\n",
       " <selenium.webdriver.remote.webelement.WebElement (session=\"f1c78d4ad00f3374631796b91ce84408\", element=\"38f1db48-2e80-4a41-992f-32f6000ae8dd\")>,\n",
       " <selenium.webdriver.remote.webelement.WebElement (session=\"f1c78d4ad00f3374631796b91ce84408\", element=\"5f1f397a-bfb3-4781-ab31-bde2b3fe51b9\")>,\n",
       " <selenium.webdriver.remote.webelement.WebElement (session=\"f1c78d4ad00f3374631796b91ce84408\", element=\"a33633df-2ee9-45bb-8b8c-c95966fa5f13\")>,\n",
       " <selenium.webdriver.remote.webelement.WebElement (session=\"f1c78d4ad00f3374631796b91ce84408\", element=\"8e85054e-5389-4e65-8bec-6fd98928b082\")>,\n",
       " <selenium.webdriver.remote.webelement.WebElement (session=\"f1c78d4ad00f3374631796b91ce84408\", element=\"9ce526f4-be82-458f-ae54-5de5504f8e77\")>,\n",
       " <selenium.webdriver.remote.webelement.WebElement (session=\"f1c78d4ad00f3374631796b91ce84408\", element=\"2d30d68f-897a-46a9-add0-8eb83af3cd7e\")>,\n",
       " <selenium.webdriver.remote.webelement.WebElement (session=\"f1c78d4ad00f3374631796b91ce84408\", element=\"22aa4f83-c978-40bf-a5af-bb0a83cdea61\")>,\n",
       " <selenium.webdriver.remote.webelement.WebElement (session=\"f1c78d4ad00f3374631796b91ce84408\", element=\"998e31bc-560b-4645-8b86-c4dd9e115ab2\")>,\n",
       " <selenium.webdriver.remote.webelement.WebElement (session=\"f1c78d4ad00f3374631796b91ce84408\", element=\"2405d8e3-b4d5-41a5-b65f-37217d7ce6ac\")>,\n",
       " <selenium.webdriver.remote.webelement.WebElement (session=\"f1c78d4ad00f3374631796b91ce84408\", element=\"49e811d4-d1e0-4eb1-aaf8-71e4c83751f4\")>,\n",
       " <selenium.webdriver.remote.webelement.WebElement (session=\"f1c78d4ad00f3374631796b91ce84408\", element=\"db7a81a5-ddf2-43a8-81ed-2daf8edd13d1\")>,\n",
       " <selenium.webdriver.remote.webelement.WebElement (session=\"f1c78d4ad00f3374631796b91ce84408\", element=\"06da4731-41ea-4a1f-bb62-1a18e1ade7d5\")>,\n",
       " <selenium.webdriver.remote.webelement.WebElement (session=\"f1c78d4ad00f3374631796b91ce84408\", element=\"8aa98e64-3403-4f45-b452-5284a3db857e\")>,\n",
       " <selenium.webdriver.remote.webelement.WebElement (session=\"f1c78d4ad00f3374631796b91ce84408\", element=\"57f718bc-7275-4f08-b47d-d4e72df2e104\")>,\n",
       " <selenium.webdriver.remote.webelement.WebElement (session=\"f1c78d4ad00f3374631796b91ce84408\", element=\"62700b61-fadd-4c3a-973a-a6d30035cd34\")>,\n",
       " <selenium.webdriver.remote.webelement.WebElement (session=\"f1c78d4ad00f3374631796b91ce84408\", element=\"84cbeccd-4a2d-452b-a029-964cc6eef5ee\")>,\n",
       " <selenium.webdriver.remote.webelement.WebElement (session=\"f1c78d4ad00f3374631796b91ce84408\", element=\"43257d90-7cd7-4236-95b0-032ddd40ce4c\")>,\n",
       " <selenium.webdriver.remote.webelement.WebElement (session=\"f1c78d4ad00f3374631796b91ce84408\", element=\"c696b3fa-efe3-463e-818b-fd79e444201b\")>,\n",
       " <selenium.webdriver.remote.webelement.WebElement (session=\"f1c78d4ad00f3374631796b91ce84408\", element=\"31fa55a8-45be-4ee7-9c28-13a770333395\")>,\n",
       " <selenium.webdriver.remote.webelement.WebElement (session=\"f1c78d4ad00f3374631796b91ce84408\", element=\"c23ef35c-5207-42fc-a3c6-00b77b205e05\")>,\n",
       " <selenium.webdriver.remote.webelement.WebElement (session=\"f1c78d4ad00f3374631796b91ce84408\", element=\"48334888-bfb5-48fa-b4d1-214142a1c0c0\")>,\n",
       " <selenium.webdriver.remote.webelement.WebElement (session=\"f1c78d4ad00f3374631796b91ce84408\", element=\"c4526bde-4899-4e7d-b7f0-047fec3bf82c\")>,\n",
       " <selenium.webdriver.remote.webelement.WebElement (session=\"f1c78d4ad00f3374631796b91ce84408\", element=\"7ce3f6e4-a898-478f-b920-5d0688338cbd\")>,\n",
       " <selenium.webdriver.remote.webelement.WebElement (session=\"f1c78d4ad00f3374631796b91ce84408\", element=\"b01fb7b4-d225-432e-a2dd-6a2c2871895f\")>,\n",
       " <selenium.webdriver.remote.webelement.WebElement (session=\"f1c78d4ad00f3374631796b91ce84408\", element=\"72d592e6-b9b9-4431-8dea-76e2d2fbab41\")>,\n",
       " <selenium.webdriver.remote.webelement.WebElement (session=\"f1c78d4ad00f3374631796b91ce84408\", element=\"d1d28eaa-967a-48d2-a423-393bdd4bd7f5\")>,\n",
       " <selenium.webdriver.remote.webelement.WebElement (session=\"f1c78d4ad00f3374631796b91ce84408\", element=\"340cd612-0dac-44c0-9bcf-4e5836ea9c4e\")>]"
      ]
     },
     "execution_count": 7,
     "metadata": {},
     "output_type": "execute_result"
    }
   ],
   "source": [
    "titles_tags=driver.find_elements_by_xpath('//div[@class=\"row\"]')\n",
    "titles_tags[0:100]"
   ]
  },
  {
   "cell_type": "code",
   "execution_count": 8,
   "id": "9f93fe84",
   "metadata": {},
   "outputs": [
    {
     "data": {
      "text/plain": [
       "['View 4 more offers',\n",
       " '4.6★\\n79,267 Ratings &\\n5,961 Reviews\\n5★\\n4★\\n3★\\n2★\\n1★\\n61,546\\n11,112\\n2,571\\n955\\n3,083',\n",
       " '4.6★',\n",
       " '4.5\\nCamera\\n4.2\\nBattery\\n4.4\\nDisplay\\n4.2\\nValue for Money',\n",
       " '+ 2948',\n",
       " '5\\nBrilliant',\n",
       " 'The Best Phone for the Money\\n\\nThe iPhone 11 offers superb cameras, a more durable design and excellent battery life for an affordable price.\\n\\nCompelling ultra-wide camera\\nNew Night mode is excellent\\nLong battery life',\n",
       " 'Ankit\\nCertified Buyer, Gurgaon\\nSep, 2019',\n",
       " '173152164',\n",
       " '5\\nSimply awesome',\n",
       " 'Really satisfied with the Product I received... It’s totally genuine and the packaging was also really good so if ur planning to buy just go for it.',\n",
       " 'Flipkart Customer\\nCertified Buyer, Mokokchung\\nNov, 2020',\n",
       " '6565897',\n",
       " '5\\nBest in the market!',\n",
       " 'Great iPhone very snappy experience as apple kind. Upgraded from iPhone 7.\\nPros\\n-Camera top class\\n- Battery top performed\\n-Chipset no need to say as apple kind\\n-Security as you expect from apple\\n- Display super bright industry leading colour\\naccuracy and super responsive\\n-Build quality as expect from apple sturdy\\npremium durable beautiful stylish.\\n-Os most stable os in smartphone industry\\n\\nCons\\n-No 5G\\n-Display is not based on OLED technology\\n-Charger headphones and 1 apple stic...\\nREAD MORE',\n",
       " 'Manish Raghuvanshi\\nCertified Buyer, Hazaribagh\\nApr, 2021',\n",
       " '2118294',\n",
       " '',\n",
       " '',\n",
       " '',\n",
       " '',\n",
       " '',\n",
       " '',\n",
       " '',\n",
       " '',\n",
       " '',\n",
       " '',\n",
       " '',\n",
       " '',\n",
       " '',\n",
       " '',\n",
       " '',\n",
       " '',\n",
       " '',\n",
       " '',\n",
       " '',\n",
       " '',\n",
       " '',\n",
       " '',\n",
       " '',\n",
       " '',\n",
       " '',\n",
       " '',\n",
       " '',\n",
       " '',\n",
       " '',\n",
       " 'Top Stories:Brand Directory\\nMOST SEARCHED IN MOBILES & ACCESSORIES:IPHONE 5 S PRICE IN INDIAIPHONE 6S PRICE IN INDIA 16GBASUS ZENFONE 2 BUY ONLINEASUS ZENFONE 5 REVIEWSOCH ONLINE SHOPPINGLAVA IRIS FUEL 60 PRICELENOVO VIBE SHOTMICROMAX CANVAS FIRE A093NOKIA 540 PRICEAPPLE IPHONE PRICE LIST IN INDIABLACKBERRY SMARTPHONESIBALL MOBILE PHONESAMSUNG GALAXY PHONESMARTPHONE IN INDIAVIDEOCON MOBILEMOTONEXUS 5 SPECIFICATIONXIAOMI REDMI NOTE 2 BUY ONLINESAMSUNG BLUETOOTHSAMSUNG EDGE 6SANDISK 16GB MEMORY CARD PRICESONY XPERIA M4 AQUABUY IPHONE 6S ONLINEIPHONES XS MAXGIONEE L800 PRICELOWEST PRICE MOBILESONY XPERIA NEW MODELNOKIA C2-01SAMSUNG 4GVIVO V5S PRICE']"
      ]
     },
     "execution_count": 8,
     "metadata": {},
     "output_type": "execute_result"
    }
   ],
   "source": [
    "for i in titles_tags:\n",
    "    title=i.text\n",
    "    Rating_titles.append(title)\n",
    "Rating_titles[0:100]"
   ]
  },
  {
   "cell_type": "code",
   "execution_count": 9,
   "id": "f5303143",
   "metadata": {},
   "outputs": [
    {
     "data": {
      "text/plain": [
       "[<selenium.webdriver.remote.webelement.WebElement (session=\"f1c78d4ad00f3374631796b91ce84408\", element=\"9720fff6-4f63-4c3d-a88e-ab2aedc778c5\")>,\n",
       " <selenium.webdriver.remote.webelement.WebElement (session=\"f1c78d4ad00f3374631796b91ce84408\", element=\"ac10fe73-1c45-468f-bd45-26b31d02f610\")>,\n",
       " <selenium.webdriver.remote.webelement.WebElement (session=\"f1c78d4ad00f3374631796b91ce84408\", element=\"00fa46c3-e685-4a73-87bf-33c67c1c6071\")>,\n",
       " <selenium.webdriver.remote.webelement.WebElement (session=\"f1c78d4ad00f3374631796b91ce84408\", element=\"8dcad5a5-59f0-4454-9b1e-52434a8a0c84\")>,\n",
       " <selenium.webdriver.remote.webelement.WebElement (session=\"f1c78d4ad00f3374631796b91ce84408\", element=\"2b5bb19a-1118-4de3-83e9-d0cc7abe2bc8\")>,\n",
       " <selenium.webdriver.remote.webelement.WebElement (session=\"f1c78d4ad00f3374631796b91ce84408\", element=\"9ca0b9ae-69dc-4095-b036-54fa8ad4398a\")>,\n",
       " <selenium.webdriver.remote.webelement.WebElement (session=\"f1c78d4ad00f3374631796b91ce84408\", element=\"4406a491-5ee7-4006-88cc-ffcb08745b3e\")>,\n",
       " <selenium.webdriver.remote.webelement.WebElement (session=\"f1c78d4ad00f3374631796b91ce84408\", element=\"44a54f19-4d0b-44aa-801e-e2c0ad2121e8\")>,\n",
       " <selenium.webdriver.remote.webelement.WebElement (session=\"f1c78d4ad00f3374631796b91ce84408\", element=\"58dd65fb-d497-4829-b979-976ec8858277\")>,\n",
       " <selenium.webdriver.remote.webelement.WebElement (session=\"f1c78d4ad00f3374631796b91ce84408\", element=\"8729a699-4669-4be9-a88c-615bcc3c0303\")>]"
      ]
     },
     "execution_count": 9,
     "metadata": {},
     "output_type": "execute_result"
    }
   ],
   "source": [
    "summary_titles=driver.find_elements_by_xpath('//p[@class=\"_2-N8zT\"]')\n",
    "summary_titles[0:100]"
   ]
  },
  {
   "cell_type": "code",
   "execution_count": 10,
   "id": "9601d42c",
   "metadata": {},
   "outputs": [
    {
     "data": {
      "text/plain": [
       "['Brilliant',\n",
       " 'Simply awesome',\n",
       " 'Best in the market!',\n",
       " '',\n",
       " '',\n",
       " '',\n",
       " '',\n",
       " '',\n",
       " '',\n",
       " '']"
      ]
     },
     "execution_count": 10,
     "metadata": {},
     "output_type": "execute_result"
    }
   ],
   "source": [
    "for i in summary_titles:\n",
    "    title=i.text\n",
    "    Review_summary.append(title)\n",
    "Review_summary[0:100]"
   ]
  },
  {
   "cell_type": "code",
   "execution_count": 11,
   "id": "ad5edc47",
   "metadata": {},
   "outputs": [
    {
     "data": {
      "text/plain": [
       "[<selenium.webdriver.remote.webelement.WebElement (session=\"f1c78d4ad00f3374631796b91ce84408\", element=\"c1436437-1391-44a0-be50-3fe71ec0d608\")>,\n",
       " <selenium.webdriver.remote.webelement.WebElement (session=\"f1c78d4ad00f3374631796b91ce84408\", element=\"b0a067e1-d3f4-42c0-b6f1-b27d7be17fd2\")>,\n",
       " <selenium.webdriver.remote.webelement.WebElement (session=\"f1c78d4ad00f3374631796b91ce84408\", element=\"2a7b41fe-7ccd-46a8-b752-ee5251d50d92\")>,\n",
       " <selenium.webdriver.remote.webelement.WebElement (session=\"f1c78d4ad00f3374631796b91ce84408\", element=\"82b7a4b0-a2f0-4b53-a9f2-641f7d8c16b4\")>,\n",
       " <selenium.webdriver.remote.webelement.WebElement (session=\"f1c78d4ad00f3374631796b91ce84408\", element=\"f083cd07-4f20-4a7f-8b01-8cb21cb4ccfb\")>,\n",
       " <selenium.webdriver.remote.webelement.WebElement (session=\"f1c78d4ad00f3374631796b91ce84408\", element=\"9aa0706e-d191-4b92-b856-384856dda629\")>,\n",
       " <selenium.webdriver.remote.webelement.WebElement (session=\"f1c78d4ad00f3374631796b91ce84408\", element=\"7e3e8487-81e7-46a9-a755-7f86760161cd\")>,\n",
       " <selenium.webdriver.remote.webelement.WebElement (session=\"f1c78d4ad00f3374631796b91ce84408\", element=\"13ba3aeb-ebdf-4f38-a27f-4805bc19c100\")>,\n",
       " <selenium.webdriver.remote.webelement.WebElement (session=\"f1c78d4ad00f3374631796b91ce84408\", element=\"8106f5bb-c629-44cc-81ff-1ea0e53eeaff\")>,\n",
       " <selenium.webdriver.remote.webelement.WebElement (session=\"f1c78d4ad00f3374631796b91ce84408\", element=\"471798b9-3c99-41e9-bfa6-9f0231b22ef2\")>]"
      ]
     },
     "execution_count": 11,
     "metadata": {},
     "output_type": "execute_result"
    }
   ],
   "source": [
    "review_titles=driver.find_elements_by_xpath('//div[@class=\"col _2wzgFH\"]')\n",
    "review_titles[0:100]"
   ]
  },
  {
   "cell_type": "code",
   "execution_count": 12,
   "id": "7727ed00",
   "metadata": {},
   "outputs": [
    {
     "data": {
      "text/plain": [
       "['5\\nBrilliant\\nThe Best Phone for the Money\\n\\nThe iPhone 11 offers superb cameras, a more durable design and excellent battery life for an affordable price.\\n\\nCompelling ultra-wide camera\\nNew Night mode is excellent\\nLong battery life\\nAnkit\\nCertified Buyer, Gurgaon\\nSep, 2019\\n173152164',\n",
       " '5\\nSimply awesome\\nReally satisfied with the Product I received... It’s totally genuine and the packaging was also really good so if ur planning to buy just go for it.\\nFlipkart Customer\\nCertified Buyer, Mokokchung\\nNov, 2020\\n6565897',\n",
       " '5\\nBest in the market!\\nGreat iPhone very snappy experience as apple kind. Upgraded from iPhone 7.\\nPros\\n-Camera top class\\n- Battery top performed\\n-Chipset no need to say as apple kind\\n-Security as you expect from apple\\n- Display super bright industry leading colour\\naccuracy and super responsive\\n-Build quality as expect from apple sturdy\\npremium durable beautiful stylish.\\n-Os most stable os in smartphone industry\\n\\nCons\\n-No 5G\\n-Display is not based on OLED technology\\n-Charger headphones and 1 apple stic...\\nREAD MORE\\nManish Raghuvanshi\\nCertified Buyer, Hazaribagh\\nApr, 2021\\n2118294',\n",
       " '',\n",
       " '',\n",
       " '',\n",
       " '',\n",
       " '',\n",
       " '',\n",
       " '']"
      ]
     },
     "execution_count": 12,
     "metadata": {},
     "output_type": "execute_result"
    }
   ],
   "source": [
    "for i in review_titles:\n",
    "    title=i.text\n",
    "    Full_review.append(title)\n",
    "Full_review[0:100]"
   ]
  },
  {
   "cell_type": "raw",
   "id": "ce1a6a37",
   "metadata": {},
   "source": [
    "Q6: Scrape data for first 100 sneakers you find when you visit flipkart.com andsearch for “sneakers” in the\n",
    "search field.\n",
    "You have to scrape 4 attributes of each sneaker:\n",
    "1. Brand\n",
    "2. Product Description\n",
    "3. Price\n",
    "As shown in the below image, you have to scrape the tick marked attributes"
   ]
  },
  {
   "cell_type": "code",
   "execution_count": 16,
   "id": "14de64c7",
   "metadata": {},
   "outputs": [],
   "source": [
    "driver.get(\"https://www.flipkart.com/\")"
   ]
  },
  {
   "cell_type": "code",
   "execution_count": 17,
   "id": "9bc88abb",
   "metadata": {},
   "outputs": [],
   "source": [
    "search_field_product_sunglass=driver.find_element_by_class_name('_3704LK')\n",
    "search_field_product_sunglass.send_keys('Sneakers')"
   ]
  },
  {
   "cell_type": "code",
   "execution_count": 18,
   "id": "08850b56",
   "metadata": {},
   "outputs": [],
   "source": [
    "search_button=driver.find_element_by_xpath(\"/html/body/div[1]/div/div[1]/div[1]/div[2]/div[2]/form/div/button\")\n",
    "\n",
    "search_button.click()"
   ]
  },
  {
   "cell_type": "code",
   "execution_count": 25,
   "id": "ab3792dd",
   "metadata": {},
   "outputs": [],
   "source": [
    "Brand_titles=[]\n",
    "Product_description=[]\n",
    "Price_titles=[]"
   ]
  },
  {
   "cell_type": "code",
   "execution_count": 26,
   "id": "9b88da52",
   "metadata": {},
   "outputs": [
    {
     "data": {
      "text/plain": [
       "[<selenium.webdriver.remote.webelement.WebElement (session=\"a926b8dd54c39cd4fbd8549a5366cb0f\", element=\"263b8b3e-fe3e-4bbc-94a7-8c927b3f4813\")>,\n",
       " <selenium.webdriver.remote.webelement.WebElement (session=\"a926b8dd54c39cd4fbd8549a5366cb0f\", element=\"dba8feb4-000a-4ba3-95a0-c709b93570cc\")>,\n",
       " <selenium.webdriver.remote.webelement.WebElement (session=\"a926b8dd54c39cd4fbd8549a5366cb0f\", element=\"25eb08c4-69ec-47cb-b626-c439462724de\")>,\n",
       " <selenium.webdriver.remote.webelement.WebElement (session=\"a926b8dd54c39cd4fbd8549a5366cb0f\", element=\"77a4145a-2af6-4246-99f1-79cbd52f12f4\")>,\n",
       " <selenium.webdriver.remote.webelement.WebElement (session=\"a926b8dd54c39cd4fbd8549a5366cb0f\", element=\"e7737198-bde4-4128-b584-2a3e1ddccedf\")>,\n",
       " <selenium.webdriver.remote.webelement.WebElement (session=\"a926b8dd54c39cd4fbd8549a5366cb0f\", element=\"a6e22d98-5f5e-4caf-9e52-6ebf4c9683c1\")>,\n",
       " <selenium.webdriver.remote.webelement.WebElement (session=\"a926b8dd54c39cd4fbd8549a5366cb0f\", element=\"03237a60-83b6-4bf5-8d97-e1f9c177475e\")>,\n",
       " <selenium.webdriver.remote.webelement.WebElement (session=\"a926b8dd54c39cd4fbd8549a5366cb0f\", element=\"d0829b01-2d63-4a8a-841e-77dc2bf17e8d\")>,\n",
       " <selenium.webdriver.remote.webelement.WebElement (session=\"a926b8dd54c39cd4fbd8549a5366cb0f\", element=\"ea83d8b3-28e7-44a9-843e-793dafc38fc0\")>,\n",
       " <selenium.webdriver.remote.webelement.WebElement (session=\"a926b8dd54c39cd4fbd8549a5366cb0f\", element=\"b606fa40-c1c8-45b0-ba77-6f69215c17d7\")>,\n",
       " <selenium.webdriver.remote.webelement.WebElement (session=\"a926b8dd54c39cd4fbd8549a5366cb0f\", element=\"3b640bf3-c426-4020-a731-871dbbd5c072\")>,\n",
       " <selenium.webdriver.remote.webelement.WebElement (session=\"a926b8dd54c39cd4fbd8549a5366cb0f\", element=\"a8cdf0ad-2847-4816-aecc-4e4981208984\")>,\n",
       " <selenium.webdriver.remote.webelement.WebElement (session=\"a926b8dd54c39cd4fbd8549a5366cb0f\", element=\"0a7880af-c0b4-4ce4-a58f-2e71470a36ab\")>,\n",
       " <selenium.webdriver.remote.webelement.WebElement (session=\"a926b8dd54c39cd4fbd8549a5366cb0f\", element=\"91af4cc4-db8a-456f-a443-28dd8c99048e\")>,\n",
       " <selenium.webdriver.remote.webelement.WebElement (session=\"a926b8dd54c39cd4fbd8549a5366cb0f\", element=\"3b2db158-a733-4897-b16f-d6940bfffa84\")>,\n",
       " <selenium.webdriver.remote.webelement.WebElement (session=\"a926b8dd54c39cd4fbd8549a5366cb0f\", element=\"505eb13b-0649-4abd-853e-d35ca9116181\")>,\n",
       " <selenium.webdriver.remote.webelement.WebElement (session=\"a926b8dd54c39cd4fbd8549a5366cb0f\", element=\"6bbc36a3-f591-4d8e-96f9-45a5739fc923\")>,\n",
       " <selenium.webdriver.remote.webelement.WebElement (session=\"a926b8dd54c39cd4fbd8549a5366cb0f\", element=\"23a88963-27da-4adf-808d-c7ab579fc3c1\")>,\n",
       " <selenium.webdriver.remote.webelement.WebElement (session=\"a926b8dd54c39cd4fbd8549a5366cb0f\", element=\"ba80809f-17d0-4288-ad26-71b9db8deaf8\")>,\n",
       " <selenium.webdriver.remote.webelement.WebElement (session=\"a926b8dd54c39cd4fbd8549a5366cb0f\", element=\"374f6ecf-d969-4290-8e42-ae46f2f28d90\")>,\n",
       " <selenium.webdriver.remote.webelement.WebElement (session=\"a926b8dd54c39cd4fbd8549a5366cb0f\", element=\"2557d244-e18e-40aa-99f7-b78f9ef6cad4\")>,\n",
       " <selenium.webdriver.remote.webelement.WebElement (session=\"a926b8dd54c39cd4fbd8549a5366cb0f\", element=\"471b72ed-3b9a-4974-a384-60e1533341ef\")>,\n",
       " <selenium.webdriver.remote.webelement.WebElement (session=\"a926b8dd54c39cd4fbd8549a5366cb0f\", element=\"81b6180d-6915-42b0-952a-f3af94886b5d\")>,\n",
       " <selenium.webdriver.remote.webelement.WebElement (session=\"a926b8dd54c39cd4fbd8549a5366cb0f\", element=\"95c4a8e0-cc82-4c95-a2a8-6c9c3d94e507\")>,\n",
       " <selenium.webdriver.remote.webelement.WebElement (session=\"a926b8dd54c39cd4fbd8549a5366cb0f\", element=\"3ffc79cd-d2b4-4cac-b54b-58c745217009\")>,\n",
       " <selenium.webdriver.remote.webelement.WebElement (session=\"a926b8dd54c39cd4fbd8549a5366cb0f\", element=\"c0082c11-b49c-4119-a3a9-d8406ff49339\")>,\n",
       " <selenium.webdriver.remote.webelement.WebElement (session=\"a926b8dd54c39cd4fbd8549a5366cb0f\", element=\"598be7cc-9e9a-4150-80ee-3e1b793aa2bb\")>,\n",
       " <selenium.webdriver.remote.webelement.WebElement (session=\"a926b8dd54c39cd4fbd8549a5366cb0f\", element=\"7d32f794-6820-4a9e-a0c4-8c17c7d9cf94\")>,\n",
       " <selenium.webdriver.remote.webelement.WebElement (session=\"a926b8dd54c39cd4fbd8549a5366cb0f\", element=\"1692d7b1-4c58-4d44-a1c7-038b66a41239\")>,\n",
       " <selenium.webdriver.remote.webelement.WebElement (session=\"a926b8dd54c39cd4fbd8549a5366cb0f\", element=\"c8fe5de3-cc3c-41fe-acea-f295f42435c0\")>,\n",
       " <selenium.webdriver.remote.webelement.WebElement (session=\"a926b8dd54c39cd4fbd8549a5366cb0f\", element=\"dd380338-9dd7-4929-9c1b-94845c86c822\")>,\n",
       " <selenium.webdriver.remote.webelement.WebElement (session=\"a926b8dd54c39cd4fbd8549a5366cb0f\", element=\"460e3d9f-54d0-4df8-aea4-4cbce7f86760\")>,\n",
       " <selenium.webdriver.remote.webelement.WebElement (session=\"a926b8dd54c39cd4fbd8549a5366cb0f\", element=\"51a72f3a-8382-4374-ab7a-72a55acd578e\")>,\n",
       " <selenium.webdriver.remote.webelement.WebElement (session=\"a926b8dd54c39cd4fbd8549a5366cb0f\", element=\"1056957d-f689-49fe-8501-716729df9d6d\")>,\n",
       " <selenium.webdriver.remote.webelement.WebElement (session=\"a926b8dd54c39cd4fbd8549a5366cb0f\", element=\"920a1d11-ec8b-4e8a-bf0b-189d21b85458\")>,\n",
       " <selenium.webdriver.remote.webelement.WebElement (session=\"a926b8dd54c39cd4fbd8549a5366cb0f\", element=\"b9c4cf84-526c-47d0-9a29-78a5ee2ef01f\")>,\n",
       " <selenium.webdriver.remote.webelement.WebElement (session=\"a926b8dd54c39cd4fbd8549a5366cb0f\", element=\"43b9511a-d1e7-4c9e-94aa-4f13cd192905\")>,\n",
       " <selenium.webdriver.remote.webelement.WebElement (session=\"a926b8dd54c39cd4fbd8549a5366cb0f\", element=\"fa58214e-dca0-444f-abf3-16ecdc53de17\")>,\n",
       " <selenium.webdriver.remote.webelement.WebElement (session=\"a926b8dd54c39cd4fbd8549a5366cb0f\", element=\"c4ceaf6a-b63e-4448-963a-71f290021866\")>,\n",
       " <selenium.webdriver.remote.webelement.WebElement (session=\"a926b8dd54c39cd4fbd8549a5366cb0f\", element=\"fe49b531-2107-4484-afce-979f0bf63675\")>]"
      ]
     },
     "execution_count": 26,
     "metadata": {},
     "output_type": "execute_result"
    }
   ],
   "source": [
    "titles_tags=driver.find_elements_by_xpath('//div[@class=\"_2WkVRV\"]')\n",
    "titles_tags"
   ]
  },
  {
   "cell_type": "code",
   "execution_count": 27,
   "id": "f0e83621",
   "metadata": {},
   "outputs": [
    {
     "data": {
      "text/plain": [
       "['Navtrend',\n",
       " 'Strollin',\n",
       " 'URBANBOX',\n",
       " 'corsac',\n",
       " 'BRUTON',\n",
       " 'Labbin',\n",
       " 'Magnolia',\n",
       " 'BERSACHE',\n",
       " 'PUMA',\n",
       " 'World Wear Footwear',\n",
       " 'BRUTON',\n",
       " 'RapidBox',\n",
       " 'aadi',\n",
       " 'ASTEROID',\n",
       " 'World Wear Footwear',\n",
       " 'Airland',\n",
       " 'World Wear Footwear',\n",
       " 'Chevit',\n",
       " 'ONECENTRE',\n",
       " 'Bacan',\n",
       " 'ZF Klub',\n",
       " 'World Wear Footwear',\n",
       " 'BIRDE',\n",
       " 'Strollin',\n",
       " 'Layasa',\n",
       " 'corsac',\n",
       " 'RapidBox',\n",
       " 'Numenzo',\n",
       " 'Chevit',\n",
       " 'BRUTON',\n",
       " 'ASTEROID',\n",
       " 'bluemaker',\n",
       " 'Kraasa',\n",
       " 'D-SNEAKERZ',\n",
       " 'Echor',\n",
       " 'FEWROK',\n",
       " 'CLYMB',\n",
       " 'Hida',\n",
       " 'D-SNEAKERZ',\n",
       " 'Navtrend']"
      ]
     },
     "execution_count": 27,
     "metadata": {},
     "output_type": "execute_result"
    }
   ],
   "source": [
    "for i in titles_tags:\n",
    "    title=i.text\n",
    "    Brand_titles.append(title)\n",
    "Brand_titles"
   ]
  },
  {
   "cell_type": "code",
   "execution_count": 34,
   "id": "fda7d2d4",
   "metadata": {},
   "outputs": [
    {
     "data": {
      "text/plain": [
       "[<selenium.webdriver.remote.webelement.WebElement (session=\"a926b8dd54c39cd4fbd8549a5366cb0f\", element=\"147420b5-c7f1-4e96-aca2-3115199b0f5d\")>,\n",
       " <selenium.webdriver.remote.webelement.WebElement (session=\"a926b8dd54c39cd4fbd8549a5366cb0f\", element=\"5c8f7cbb-dca5-417a-a54e-809a47b5d412\")>,\n",
       " <selenium.webdriver.remote.webelement.WebElement (session=\"a926b8dd54c39cd4fbd8549a5366cb0f\", element=\"9540a4c4-6c2e-4567-8d83-adb0fe1a621c\")>,\n",
       " <selenium.webdriver.remote.webelement.WebElement (session=\"a926b8dd54c39cd4fbd8549a5366cb0f\", element=\"693a29da-f97b-4609-b153-7aa77ad64e8b\")>,\n",
       " <selenium.webdriver.remote.webelement.WebElement (session=\"a926b8dd54c39cd4fbd8549a5366cb0f\", element=\"b5b051f8-db48-4ff3-8c32-50fcec71c0a0\")>,\n",
       " <selenium.webdriver.remote.webelement.WebElement (session=\"a926b8dd54c39cd4fbd8549a5366cb0f\", element=\"bc6e93a2-6430-4eb6-b10b-1a16546cdad2\")>,\n",
       " <selenium.webdriver.remote.webelement.WebElement (session=\"a926b8dd54c39cd4fbd8549a5366cb0f\", element=\"0eb37da8-be8f-4ccf-9785-1f09a075b191\")>,\n",
       " <selenium.webdriver.remote.webelement.WebElement (session=\"a926b8dd54c39cd4fbd8549a5366cb0f\", element=\"22f83866-0ea2-46b9-8caa-e41beaac5eef\")>,\n",
       " <selenium.webdriver.remote.webelement.WebElement (session=\"a926b8dd54c39cd4fbd8549a5366cb0f\", element=\"3125441c-05cb-4ab5-a977-3a2b0ef8d36b\")>]"
      ]
     },
     "execution_count": 34,
     "metadata": {},
     "output_type": "execute_result"
    }
   ],
   "source": [
    "description_titles=driver.find_elements_by_xpath('//a[@class=\"IRpwTa _2-ICcC\"]')\n",
    "description_titles"
   ]
  },
  {
   "cell_type": "code",
   "execution_count": 35,
   "id": "1820560f",
   "metadata": {},
   "outputs": [
    {
     "data": {
      "text/plain": [
       "['Sneakers For Men',\n",
       " 'Sneakers Sneakers For Men',\n",
       " 'Sneakers For Men',\n",
       " '516 Trendy Star Perfect Sneakers For Men',\n",
       " 'STR2 Sneakers For Men',\n",
       " 'STYLISH MENS BLACK TRENDY SNEAKER FOR MENS Sneakers For...',\n",
       " 'Sneakers For Men',\n",
       " 'Premium quality Sneakers For Men',\n",
       " 'Sneakers For Men',\n",
       " 'Sneakers For Men',\n",
       " 'Sneakers Sneakers For Men',\n",
       " 'Sneakers For Men',\n",
       " '516 Trendy Star Perfect Sneakers For Men',\n",
       " 'STR2 Sneakers For Men',\n",
       " 'STYLISH MENS BLACK TRENDY SNEAKER FOR MENS Sneakers For...',\n",
       " 'Sneakers For Men',\n",
       " 'Premium quality Sneakers For Men',\n",
       " 'Sneakers For Men',\n",
       " 'Sneakers For Men',\n",
       " 'Sneakers Sneakers For Men',\n",
       " 'Sneakers For Men',\n",
       " '516 Trendy Star Perfect Sneakers For Men',\n",
       " 'STR2 Sneakers For Men',\n",
       " 'STYLISH MENS BLACK TRENDY SNEAKER FOR MENS Sneakers For...',\n",
       " 'Sneakers For Men',\n",
       " 'Premium quality Sneakers For Men',\n",
       " 'Sneakers For Men',\n",
       " 'Sneakers For Men',\n",
       " 'Sneakers Sneakers For Men',\n",
       " 'Sneakers For Men',\n",
       " '516 Trendy Star Perfect Sneakers For Men',\n",
       " 'STR2 Sneakers For Men',\n",
       " 'STYLISH MENS BLACK TRENDY SNEAKER FOR MENS Sneakers For...',\n",
       " 'Sneakers For Men',\n",
       " 'Premium quality Sneakers For Men',\n",
       " 'Sneakers For Men']"
      ]
     },
     "execution_count": 35,
     "metadata": {},
     "output_type": "execute_result"
    }
   ],
   "source": [
    "for i in description_titles:\n",
    "    description=i.text\n",
    "    Product_description.append(description)\n",
    "Product_description"
   ]
  },
  {
   "cell_type": "code",
   "execution_count": 36,
   "id": "e83e7fc4",
   "metadata": {},
   "outputs": [
    {
     "data": {
      "text/plain": [
       "[<selenium.webdriver.remote.webelement.WebElement (session=\"a926b8dd54c39cd4fbd8549a5366cb0f\", element=\"6ae5c09c-7571-4bd2-93af-e8bcd29b0844\")>,\n",
       " <selenium.webdriver.remote.webelement.WebElement (session=\"a926b8dd54c39cd4fbd8549a5366cb0f\", element=\"70c75c95-060a-441b-bcd0-c4ecde332aa7\")>,\n",
       " <selenium.webdriver.remote.webelement.WebElement (session=\"a926b8dd54c39cd4fbd8549a5366cb0f\", element=\"f9e1c78f-a884-4a92-92fd-e1dd443b6301\")>,\n",
       " <selenium.webdriver.remote.webelement.WebElement (session=\"a926b8dd54c39cd4fbd8549a5366cb0f\", element=\"4fe6be44-908a-4bee-b469-920a92c8a5e2\")>,\n",
       " <selenium.webdriver.remote.webelement.WebElement (session=\"a926b8dd54c39cd4fbd8549a5366cb0f\", element=\"5b6a6b1b-c3ab-474a-8f15-868add2fbc90\")>,\n",
       " <selenium.webdriver.remote.webelement.WebElement (session=\"a926b8dd54c39cd4fbd8549a5366cb0f\", element=\"520e6ce9-f1fd-41ec-a10e-1643aae5e2a9\")>,\n",
       " <selenium.webdriver.remote.webelement.WebElement (session=\"a926b8dd54c39cd4fbd8549a5366cb0f\", element=\"7f7d619e-ebce-4efe-8903-dfdce0971001\")>,\n",
       " <selenium.webdriver.remote.webelement.WebElement (session=\"a926b8dd54c39cd4fbd8549a5366cb0f\", element=\"83733cab-abb1-41e6-9dff-317a98d6c535\")>,\n",
       " <selenium.webdriver.remote.webelement.WebElement (session=\"a926b8dd54c39cd4fbd8549a5366cb0f\", element=\"0cc4f564-ed01-47aa-9a6c-a21b0b51b4f6\")>,\n",
       " <selenium.webdriver.remote.webelement.WebElement (session=\"a926b8dd54c39cd4fbd8549a5366cb0f\", element=\"5639a333-f6a8-471b-9f78-3c7fc32c8032\")>,\n",
       " <selenium.webdriver.remote.webelement.WebElement (session=\"a926b8dd54c39cd4fbd8549a5366cb0f\", element=\"20b47654-89da-431f-8a51-d12846faede0\")>,\n",
       " <selenium.webdriver.remote.webelement.WebElement (session=\"a926b8dd54c39cd4fbd8549a5366cb0f\", element=\"27479c69-fe6d-4bf1-935d-531372651dd9\")>,\n",
       " <selenium.webdriver.remote.webelement.WebElement (session=\"a926b8dd54c39cd4fbd8549a5366cb0f\", element=\"ff8e474b-e745-416c-a517-17c7861656ee\")>,\n",
       " <selenium.webdriver.remote.webelement.WebElement (session=\"a926b8dd54c39cd4fbd8549a5366cb0f\", element=\"2054afd5-dbf7-4776-b4e5-16843429456f\")>,\n",
       " <selenium.webdriver.remote.webelement.WebElement (session=\"a926b8dd54c39cd4fbd8549a5366cb0f\", element=\"c4302e4e-d1b1-4009-b6c5-cbf73c8dcea1\")>,\n",
       " <selenium.webdriver.remote.webelement.WebElement (session=\"a926b8dd54c39cd4fbd8549a5366cb0f\", element=\"16215510-4369-47bd-a291-7e3ccc978f07\")>,\n",
       " <selenium.webdriver.remote.webelement.WebElement (session=\"a926b8dd54c39cd4fbd8549a5366cb0f\", element=\"e0bcb82f-b315-41e1-b94c-180f7e0f691e\")>,\n",
       " <selenium.webdriver.remote.webelement.WebElement (session=\"a926b8dd54c39cd4fbd8549a5366cb0f\", element=\"9bfff777-294d-42e6-8aa7-3bb77107474c\")>,\n",
       " <selenium.webdriver.remote.webelement.WebElement (session=\"a926b8dd54c39cd4fbd8549a5366cb0f\", element=\"e006593d-810e-4c54-983c-525906cbac7f\")>,\n",
       " <selenium.webdriver.remote.webelement.WebElement (session=\"a926b8dd54c39cd4fbd8549a5366cb0f\", element=\"c44cde5d-777b-43a7-8995-96bf30fdbc6c\")>,\n",
       " <selenium.webdriver.remote.webelement.WebElement (session=\"a926b8dd54c39cd4fbd8549a5366cb0f\", element=\"7aad735c-37d8-4e2e-ad5d-492a171feb75\")>,\n",
       " <selenium.webdriver.remote.webelement.WebElement (session=\"a926b8dd54c39cd4fbd8549a5366cb0f\", element=\"231bff28-f53c-4ff4-9175-e466a8122626\")>,\n",
       " <selenium.webdriver.remote.webelement.WebElement (session=\"a926b8dd54c39cd4fbd8549a5366cb0f\", element=\"05ae405e-d1d8-4a4b-a1a5-a1ac0da21338\")>,\n",
       " <selenium.webdriver.remote.webelement.WebElement (session=\"a926b8dd54c39cd4fbd8549a5366cb0f\", element=\"52c39ed7-8ffc-4436-985d-22f523a5c6f3\")>,\n",
       " <selenium.webdriver.remote.webelement.WebElement (session=\"a926b8dd54c39cd4fbd8549a5366cb0f\", element=\"b86f345d-2329-4e07-9bf7-5bb413cb8c42\")>,\n",
       " <selenium.webdriver.remote.webelement.WebElement (session=\"a926b8dd54c39cd4fbd8549a5366cb0f\", element=\"faeda06c-942b-41db-a09f-0e1065a82912\")>,\n",
       " <selenium.webdriver.remote.webelement.WebElement (session=\"a926b8dd54c39cd4fbd8549a5366cb0f\", element=\"8ebb5c47-1ce4-40ad-8024-b018fe980617\")>,\n",
       " <selenium.webdriver.remote.webelement.WebElement (session=\"a926b8dd54c39cd4fbd8549a5366cb0f\", element=\"de266564-697e-4175-acc8-70e5e15668de\")>,\n",
       " <selenium.webdriver.remote.webelement.WebElement (session=\"a926b8dd54c39cd4fbd8549a5366cb0f\", element=\"1a36ecc0-0a87-4554-86ac-9cfea8911332\")>,\n",
       " <selenium.webdriver.remote.webelement.WebElement (session=\"a926b8dd54c39cd4fbd8549a5366cb0f\", element=\"a0c077df-10d0-4c83-8f03-9cb236e57312\")>,\n",
       " <selenium.webdriver.remote.webelement.WebElement (session=\"a926b8dd54c39cd4fbd8549a5366cb0f\", element=\"f56fdce3-0886-4239-8ed4-93e00087e6bc\")>,\n",
       " <selenium.webdriver.remote.webelement.WebElement (session=\"a926b8dd54c39cd4fbd8549a5366cb0f\", element=\"2755fc25-bad2-405a-9a56-2cdf287bfe11\")>,\n",
       " <selenium.webdriver.remote.webelement.WebElement (session=\"a926b8dd54c39cd4fbd8549a5366cb0f\", element=\"5720f543-f501-4e91-8d11-186638d637cc\")>,\n",
       " <selenium.webdriver.remote.webelement.WebElement (session=\"a926b8dd54c39cd4fbd8549a5366cb0f\", element=\"194862a9-8d89-4541-b26b-4f542d7ab2fe\")>,\n",
       " <selenium.webdriver.remote.webelement.WebElement (session=\"a926b8dd54c39cd4fbd8549a5366cb0f\", element=\"beb65c57-c87d-417e-a086-38cf30fa4b83\")>,\n",
       " <selenium.webdriver.remote.webelement.WebElement (session=\"a926b8dd54c39cd4fbd8549a5366cb0f\", element=\"ffe8b057-2f88-49a6-bf5f-745f05ee27f2\")>,\n",
       " <selenium.webdriver.remote.webelement.WebElement (session=\"a926b8dd54c39cd4fbd8549a5366cb0f\", element=\"5d261282-a879-4946-bc9b-9335d69a8c84\")>,\n",
       " <selenium.webdriver.remote.webelement.WebElement (session=\"a926b8dd54c39cd4fbd8549a5366cb0f\", element=\"3ccab4fb-f2b8-479a-8452-ff3df1135d94\")>,\n",
       " <selenium.webdriver.remote.webelement.WebElement (session=\"a926b8dd54c39cd4fbd8549a5366cb0f\", element=\"60eb56f9-f39d-4a47-b22a-35f99bd9b653\")>,\n",
       " <selenium.webdriver.remote.webelement.WebElement (session=\"a926b8dd54c39cd4fbd8549a5366cb0f\", element=\"aa67c5a0-bfcd-497a-8f4a-5a95b37a086f\")>,\n",
       " <selenium.webdriver.remote.webelement.WebElement (session=\"a926b8dd54c39cd4fbd8549a5366cb0f\", element=\"c027fe6a-8fb6-4a9d-9f98-647baf400f5a\")>,\n",
       " <selenium.webdriver.remote.webelement.WebElement (session=\"a926b8dd54c39cd4fbd8549a5366cb0f\", element=\"b874db55-bb33-49d1-bbb6-3a13a1c9c0f1\")>,\n",
       " <selenium.webdriver.remote.webelement.WebElement (session=\"a926b8dd54c39cd4fbd8549a5366cb0f\", element=\"86902985-1c17-4667-a2d4-8d90aee97d3e\")>,\n",
       " <selenium.webdriver.remote.webelement.WebElement (session=\"a926b8dd54c39cd4fbd8549a5366cb0f\", element=\"1d4f3a6e-e45a-4873-9a64-eeb3eebf23f0\")>,\n",
       " <selenium.webdriver.remote.webelement.WebElement (session=\"a926b8dd54c39cd4fbd8549a5366cb0f\", element=\"62a2a2c5-c14d-403a-9edc-fd28b930e61a\")>]"
      ]
     },
     "execution_count": 36,
     "metadata": {},
     "output_type": "execute_result"
    }
   ],
   "source": [
    "titles_tags=driver.find_elements_by_xpath('//div[@class=\"_25b18c\"]')\n",
    "titles_tags"
   ]
  },
  {
   "cell_type": "code",
   "execution_count": 37,
   "id": "733da04d",
   "metadata": {},
   "outputs": [
    {
     "data": {
      "text/plain": [
       "['₹599₹2,99980% off',\n",
       " '₹449₹1,99977% off',\n",
       " '₹142₹99985% off',\n",
       " '₹424₹1,49971% off',\n",
       " '₹245₹1,29981% off',\n",
       " '₹424₹99957% off',\n",
       " '₹351₹99964% off',\n",
       " '₹515₹59914% off',\n",
       " '₹1,479₹2,99950% off',\n",
       " '₹199₹49960% off',\n",
       " '₹158₹59973% off',\n",
       " '₹630₹99936% off',\n",
       " '₹320₹99967% off',\n",
       " '₹449₹1,99977% off',\n",
       " '₹199₹49960% off',\n",
       " '₹183₹49963% off',\n",
       " '₹199₹49960% off',\n",
       " '₹209₹79973% off',\n",
       " '₹250₹62560% off',\n",
       " '₹449₹99955% off',\n",
       " '₹374₹99962% off',\n",
       " '₹199₹49960% off',\n",
       " '₹269₹99973% off',\n",
       " '₹379₹99962% off',\n",
       " '₹399₹99960% off',\n",
       " '₹424₹1,49971% off',\n",
       " '₹670₹99932% off',\n",
       " '₹449₹1,99977% off',\n",
       " '₹544₹2,29776% off',\n",
       " '₹249₹1,29980% off',\n",
       " '₹449₹99955% off',\n",
       " '₹399₹99960% off',\n",
       " '₹405₹99959% off',\n",
       " '₹349₹65947% off',\n",
       " '₹489₹99951% off',\n",
       " '₹369₹99963% off',\n",
       " '₹599₹1,49960% off',\n",
       " '₹566₹99943% off',\n",
       " '₹384₹99961% off',\n",
       " '₹400₹1,99979% off',\n",
       " '₹48951% off',\n",
       " '₹18363% off',\n",
       " '₹39960% off',\n",
       " '₹37462% off',\n",
       " '₹40079% off']"
      ]
     },
     "execution_count": 37,
     "metadata": {},
     "output_type": "execute_result"
    }
   ],
   "source": [
    "for i in titles_tags:\n",
    "    title=i.text\n",
    "    Price_titles.append(title)\n",
    "    \n",
    "Price_titles\n",
    "    "
   ]
  },
  {
   "cell_type": "code",
   "execution_count": 40,
   "id": "e8bcbda8",
   "metadata": {},
   "outputs": [],
   "source": [
    "search_button=driver.find_element_by_xpath('/html/body/div[1]/div/div[3]/div[1]/div[2]/div[12]/div/div/nav/a[11]/span')\n",
    "search_button.click()"
   ]
  },
  {
   "cell_type": "code",
   "execution_count": 44,
   "id": "7e6238b7",
   "metadata": {},
   "outputs": [],
   "source": [
    "Brandsecond_titles=[]\n",
    "Productsecond_description=[]\n",
    "Pricesecond_titles=[]"
   ]
  },
  {
   "cell_type": "code",
   "execution_count": 42,
   "id": "a94c9501",
   "metadata": {},
   "outputs": [
    {
     "data": {
      "text/plain": [
       "[<selenium.webdriver.remote.webelement.WebElement (session=\"a926b8dd54c39cd4fbd8549a5366cb0f\", element=\"084bf205-8150-4143-9741-cd141d6c2fee\")>,\n",
       " <selenium.webdriver.remote.webelement.WebElement (session=\"a926b8dd54c39cd4fbd8549a5366cb0f\", element=\"7166cfe4-ccb5-400e-baef-b8a5f769e3a1\")>,\n",
       " <selenium.webdriver.remote.webelement.WebElement (session=\"a926b8dd54c39cd4fbd8549a5366cb0f\", element=\"71c9e3d9-0b8f-4403-b4f2-f05422d6bd53\")>,\n",
       " <selenium.webdriver.remote.webelement.WebElement (session=\"a926b8dd54c39cd4fbd8549a5366cb0f\", element=\"5a417611-a10e-4366-8a97-347b47d2577b\")>,\n",
       " <selenium.webdriver.remote.webelement.WebElement (session=\"a926b8dd54c39cd4fbd8549a5366cb0f\", element=\"51f71307-0db9-4168-a3b9-58412cfdeea8\")>,\n",
       " <selenium.webdriver.remote.webelement.WebElement (session=\"a926b8dd54c39cd4fbd8549a5366cb0f\", element=\"d8c35226-257c-426f-99cc-c41aad6b0202\")>,\n",
       " <selenium.webdriver.remote.webelement.WebElement (session=\"a926b8dd54c39cd4fbd8549a5366cb0f\", element=\"5282642e-1d85-4f8d-b3a7-080d52b2dc4c\")>,\n",
       " <selenium.webdriver.remote.webelement.WebElement (session=\"a926b8dd54c39cd4fbd8549a5366cb0f\", element=\"8968ea15-2600-46cd-84d6-c0c9153f339a\")>,\n",
       " <selenium.webdriver.remote.webelement.WebElement (session=\"a926b8dd54c39cd4fbd8549a5366cb0f\", element=\"2157781b-b29f-47f8-a5ac-310d7856dafb\")>,\n",
       " <selenium.webdriver.remote.webelement.WebElement (session=\"a926b8dd54c39cd4fbd8549a5366cb0f\", element=\"52f31f35-ba9f-4a74-aa59-669bc894bde0\")>,\n",
       " <selenium.webdriver.remote.webelement.WebElement (session=\"a926b8dd54c39cd4fbd8549a5366cb0f\", element=\"065aff5b-84db-4d83-9f68-e9783ac374c0\")>,\n",
       " <selenium.webdriver.remote.webelement.WebElement (session=\"a926b8dd54c39cd4fbd8549a5366cb0f\", element=\"eb6bf0a6-7a11-4542-979b-6851aa4c3503\")>,\n",
       " <selenium.webdriver.remote.webelement.WebElement (session=\"a926b8dd54c39cd4fbd8549a5366cb0f\", element=\"2d98c516-3a95-4b7d-af49-7ce9e1beb757\")>,\n",
       " <selenium.webdriver.remote.webelement.WebElement (session=\"a926b8dd54c39cd4fbd8549a5366cb0f\", element=\"a6faf2c4-7d49-4487-8e54-029f9d8b70da\")>,\n",
       " <selenium.webdriver.remote.webelement.WebElement (session=\"a926b8dd54c39cd4fbd8549a5366cb0f\", element=\"839823fc-2b6c-489e-81d6-6d220fdc69d0\")>,\n",
       " <selenium.webdriver.remote.webelement.WebElement (session=\"a926b8dd54c39cd4fbd8549a5366cb0f\", element=\"a2aa3db3-6231-47e6-af01-58ace43936ea\")>,\n",
       " <selenium.webdriver.remote.webelement.WebElement (session=\"a926b8dd54c39cd4fbd8549a5366cb0f\", element=\"7bec61ff-b81d-479f-af46-a3eeed41e3ab\")>,\n",
       " <selenium.webdriver.remote.webelement.WebElement (session=\"a926b8dd54c39cd4fbd8549a5366cb0f\", element=\"e379427e-b269-40e3-874f-39c5c41d929f\")>,\n",
       " <selenium.webdriver.remote.webelement.WebElement (session=\"a926b8dd54c39cd4fbd8549a5366cb0f\", element=\"11a33212-72a7-4e4c-81a6-f0b3111ee13b\")>,\n",
       " <selenium.webdriver.remote.webelement.WebElement (session=\"a926b8dd54c39cd4fbd8549a5366cb0f\", element=\"6058275e-9cac-4d84-8cff-68753f5e4042\")>,\n",
       " <selenium.webdriver.remote.webelement.WebElement (session=\"a926b8dd54c39cd4fbd8549a5366cb0f\", element=\"e025d7ea-6d9a-4eea-9cf1-cb61b37ea8aa\")>,\n",
       " <selenium.webdriver.remote.webelement.WebElement (session=\"a926b8dd54c39cd4fbd8549a5366cb0f\", element=\"2f7252b3-7ae3-4dc9-8f61-2573cfc3f83c\")>,\n",
       " <selenium.webdriver.remote.webelement.WebElement (session=\"a926b8dd54c39cd4fbd8549a5366cb0f\", element=\"0028a655-b81c-4840-b354-919522cdc924\")>,\n",
       " <selenium.webdriver.remote.webelement.WebElement (session=\"a926b8dd54c39cd4fbd8549a5366cb0f\", element=\"62db7abf-e64f-4e50-80f7-9ce8698d7cee\")>,\n",
       " <selenium.webdriver.remote.webelement.WebElement (session=\"a926b8dd54c39cd4fbd8549a5366cb0f\", element=\"284d4be2-4fb0-4836-8cbd-7e348b5175e2\")>,\n",
       " <selenium.webdriver.remote.webelement.WebElement (session=\"a926b8dd54c39cd4fbd8549a5366cb0f\", element=\"7647632f-24a4-465c-b49c-133a666e3b5f\")>,\n",
       " <selenium.webdriver.remote.webelement.WebElement (session=\"a926b8dd54c39cd4fbd8549a5366cb0f\", element=\"d7413a9e-8074-43cd-a9f3-88910a47e888\")>,\n",
       " <selenium.webdriver.remote.webelement.WebElement (session=\"a926b8dd54c39cd4fbd8549a5366cb0f\", element=\"157632bf-80aa-4b14-a4a3-2493f89fee45\")>,\n",
       " <selenium.webdriver.remote.webelement.WebElement (session=\"a926b8dd54c39cd4fbd8549a5366cb0f\", element=\"a3abce1c-01c1-4691-a32a-4561d225ca08\")>,\n",
       " <selenium.webdriver.remote.webelement.WebElement (session=\"a926b8dd54c39cd4fbd8549a5366cb0f\", element=\"5fbfe353-a6d9-4ceb-8ee9-2fa368d1ff7c\")>,\n",
       " <selenium.webdriver.remote.webelement.WebElement (session=\"a926b8dd54c39cd4fbd8549a5366cb0f\", element=\"ad1f09aa-726d-47c1-a72b-d30718705825\")>,\n",
       " <selenium.webdriver.remote.webelement.WebElement (session=\"a926b8dd54c39cd4fbd8549a5366cb0f\", element=\"18097355-6aee-4092-9ecd-0d7680a0d1c4\")>,\n",
       " <selenium.webdriver.remote.webelement.WebElement (session=\"a926b8dd54c39cd4fbd8549a5366cb0f\", element=\"7685e884-e936-4c53-8546-93b3a370c6e2\")>,\n",
       " <selenium.webdriver.remote.webelement.WebElement (session=\"a926b8dd54c39cd4fbd8549a5366cb0f\", element=\"342847f4-1ecf-476a-9207-77af69da4dd9\")>,\n",
       " <selenium.webdriver.remote.webelement.WebElement (session=\"a926b8dd54c39cd4fbd8549a5366cb0f\", element=\"8fd0d025-555a-4700-a85a-5d714c8d7e13\")>,\n",
       " <selenium.webdriver.remote.webelement.WebElement (session=\"a926b8dd54c39cd4fbd8549a5366cb0f\", element=\"b5c9b3b1-cca4-43b4-8b1d-e33e99bb13d1\")>,\n",
       " <selenium.webdriver.remote.webelement.WebElement (session=\"a926b8dd54c39cd4fbd8549a5366cb0f\", element=\"b026f89d-8e22-4bfb-ba79-54678ec630a7\")>,\n",
       " <selenium.webdriver.remote.webelement.WebElement (session=\"a926b8dd54c39cd4fbd8549a5366cb0f\", element=\"c845e3bf-e553-42ee-8cd5-175b885a0f44\")>,\n",
       " <selenium.webdriver.remote.webelement.WebElement (session=\"a926b8dd54c39cd4fbd8549a5366cb0f\", element=\"65747406-dd4a-4c64-ab91-07a7f947d3cf\")>,\n",
       " <selenium.webdriver.remote.webelement.WebElement (session=\"a926b8dd54c39cd4fbd8549a5366cb0f\", element=\"c972d4c1-8340-4623-82a7-5912465a8a28\")>]"
      ]
     },
     "execution_count": 42,
     "metadata": {},
     "output_type": "execute_result"
    }
   ],
   "source": [
    "titles_tags=driver.find_elements_by_xpath('//div[@class=\"_2WkVRV\"]')\n",
    "titles_tags"
   ]
  },
  {
   "cell_type": "code",
   "execution_count": 43,
   "id": "26997ca0",
   "metadata": {},
   "outputs": [
    {
     "data": {
      "text/plain": [
       "['aadi',\n",
       " 'SPARX',\n",
       " 'SCATCHITE',\n",
       " 'Navtrend',\n",
       " 'Robbie jones',\n",
       " 'ASIAN',\n",
       " 'EMPTILE',\n",
       " 'Strollin',\n",
       " 'BIRDE',\n",
       " 'aadi',\n",
       " 'WHITE WALKERS',\n",
       " 'BERSACHE',\n",
       " 'Stefano Rads',\n",
       " 'Arohi',\n",
       " 'RODDICK SHOES',\n",
       " 'Airland',\n",
       " 'Airland',\n",
       " 'Numenzo',\n",
       " 'Shoes Bank',\n",
       " 'Bacan',\n",
       " 'Kraasa',\n",
       " 'Robbie jones',\n",
       " 'MAFLO',\n",
       " 'RapidBox',\n",
       " 'LuvShus',\n",
       " 'bluemaker',\n",
       " 'Magnolia',\n",
       " 'Strollin',\n",
       " 'Echor',\n",
       " 'WHITE WALKERS',\n",
       " 'Navtrend',\n",
       " 'Numenzo',\n",
       " 'WHITE WALKERS',\n",
       " 'KNIGHT WALKERS',\n",
       " 'Kzaara',\n",
       " 'FEWROK',\n",
       " 'BIRDE',\n",
       " 'BRUTON',\n",
       " 'Rzisbo',\n",
       " 'Navtrend']"
      ]
     },
     "execution_count": 43,
     "metadata": {},
     "output_type": "execute_result"
    }
   ],
   "source": [
    "for i in titles_tags:\n",
    "    title=i.text\n",
    "    Brandsecond_titles.append(title)\n",
    "Brandsecond_titles"
   ]
  },
  {
   "cell_type": "code",
   "execution_count": 46,
   "id": "34e6bd7c",
   "metadata": {},
   "outputs": [
    {
     "data": {
      "text/plain": [
       "[<selenium.webdriver.remote.webelement.WebElement (session=\"a926b8dd54c39cd4fbd8549a5366cb0f\", element=\"e60d080e-49a8-4f20-b5db-1cdea62f1696\")>,\n",
       " <selenium.webdriver.remote.webelement.WebElement (session=\"a926b8dd54c39cd4fbd8549a5366cb0f\", element=\"c959b854-73d0-424f-9ad6-9ce78c8ecb51\")>,\n",
       " <selenium.webdriver.remote.webelement.WebElement (session=\"a926b8dd54c39cd4fbd8549a5366cb0f\", element=\"a4156e92-8efa-49b8-9d2d-f064d2485a10\")>,\n",
       " <selenium.webdriver.remote.webelement.WebElement (session=\"a926b8dd54c39cd4fbd8549a5366cb0f\", element=\"a3648f3a-59dc-463d-8c39-0b45c9ccefd5\")>,\n",
       " <selenium.webdriver.remote.webelement.WebElement (session=\"a926b8dd54c39cd4fbd8549a5366cb0f\", element=\"055b8a7d-0e3b-4fe2-817f-f0ea136a5ae8\")>,\n",
       " <selenium.webdriver.remote.webelement.WebElement (session=\"a926b8dd54c39cd4fbd8549a5366cb0f\", element=\"08873279-c696-4634-a077-618edaa91cd1\")>,\n",
       " <selenium.webdriver.remote.webelement.WebElement (session=\"a926b8dd54c39cd4fbd8549a5366cb0f\", element=\"b39499de-6b8a-48bf-9c5a-b9bf8db0c65c\")>,\n",
       " <selenium.webdriver.remote.webelement.WebElement (session=\"a926b8dd54c39cd4fbd8549a5366cb0f\", element=\"a26f9b9b-c581-462b-96e4-23c1ca520e4e\")>,\n",
       " <selenium.webdriver.remote.webelement.WebElement (session=\"a926b8dd54c39cd4fbd8549a5366cb0f\", element=\"cae8d635-50aa-4275-9c66-b84aca9a3380\")>,\n",
       " <selenium.webdriver.remote.webelement.WebElement (session=\"a926b8dd54c39cd4fbd8549a5366cb0f\", element=\"579e7594-8865-4f09-a0fb-6b358cb6276b\")>,\n",
       " <selenium.webdriver.remote.webelement.WebElement (session=\"a926b8dd54c39cd4fbd8549a5366cb0f\", element=\"04f7e90a-f5cd-45be-bf3b-f94ff4d73108\")>,\n",
       " <selenium.webdriver.remote.webelement.WebElement (session=\"a926b8dd54c39cd4fbd8549a5366cb0f\", element=\"347b433e-e951-4504-adda-d297b0c2ec09\")>,\n",
       " <selenium.webdriver.remote.webelement.WebElement (session=\"a926b8dd54c39cd4fbd8549a5366cb0f\", element=\"19ab2144-34bf-40d2-bc93-c24436414ffa\")>,\n",
       " <selenium.webdriver.remote.webelement.WebElement (session=\"a926b8dd54c39cd4fbd8549a5366cb0f\", element=\"72b847cb-3cfb-4b19-8fb4-3b8b4a5edfcb\")>,\n",
       " <selenium.webdriver.remote.webelement.WebElement (session=\"a926b8dd54c39cd4fbd8549a5366cb0f\", element=\"3befdaf3-9b88-4a53-974c-d82b7542121b\")>,\n",
       " <selenium.webdriver.remote.webelement.WebElement (session=\"a926b8dd54c39cd4fbd8549a5366cb0f\", element=\"7a96f9a5-3588-4d28-84fe-a68fffca18e3\")>,\n",
       " <selenium.webdriver.remote.webelement.WebElement (session=\"a926b8dd54c39cd4fbd8549a5366cb0f\", element=\"13fb9c1b-5070-40f3-9eb7-94eadb92d46d\")>,\n",
       " <selenium.webdriver.remote.webelement.WebElement (session=\"a926b8dd54c39cd4fbd8549a5366cb0f\", element=\"23344613-aba7-43f5-b99f-5febeab15bbd\")>,\n",
       " <selenium.webdriver.remote.webelement.WebElement (session=\"a926b8dd54c39cd4fbd8549a5366cb0f\", element=\"1e8e6343-9c17-49b5-975f-ac9780cb5800\")>,\n",
       " <selenium.webdriver.remote.webelement.WebElement (session=\"a926b8dd54c39cd4fbd8549a5366cb0f\", element=\"14c4d627-f493-4cff-a681-2467608ff583\")>,\n",
       " <selenium.webdriver.remote.webelement.WebElement (session=\"a926b8dd54c39cd4fbd8549a5366cb0f\", element=\"2c344896-f79b-411d-af1f-15c2471ce0d5\")>,\n",
       " <selenium.webdriver.remote.webelement.WebElement (session=\"a926b8dd54c39cd4fbd8549a5366cb0f\", element=\"4454cbe0-e1bb-46d7-a413-7684b21f96df\")>,\n",
       " <selenium.webdriver.remote.webelement.WebElement (session=\"a926b8dd54c39cd4fbd8549a5366cb0f\", element=\"5214849d-88cf-44d1-9502-8f9eff32110a\")>,\n",
       " <selenium.webdriver.remote.webelement.WebElement (session=\"a926b8dd54c39cd4fbd8549a5366cb0f\", element=\"5c8cdcf2-5a9e-4b43-92e6-40bb62329cd0\")>,\n",
       " <selenium.webdriver.remote.webelement.WebElement (session=\"a926b8dd54c39cd4fbd8549a5366cb0f\", element=\"69610a52-8dcb-44ea-bba8-f62035bd3e10\")>,\n",
       " <selenium.webdriver.remote.webelement.WebElement (session=\"a926b8dd54c39cd4fbd8549a5366cb0f\", element=\"688176b4-8348-4fe4-a8fb-a3b8e3fce206\")>,\n",
       " <selenium.webdriver.remote.webelement.WebElement (session=\"a926b8dd54c39cd4fbd8549a5366cb0f\", element=\"28efebed-bc65-46f5-9247-406dd8486b42\")>,\n",
       " <selenium.webdriver.remote.webelement.WebElement (session=\"a926b8dd54c39cd4fbd8549a5366cb0f\", element=\"92aa0115-d169-4f2b-97fb-a311e6953de7\")>,\n",
       " <selenium.webdriver.remote.webelement.WebElement (session=\"a926b8dd54c39cd4fbd8549a5366cb0f\", element=\"04822a8d-31a9-4800-899c-d1d42e790123\")>,\n",
       " <selenium.webdriver.remote.webelement.WebElement (session=\"a926b8dd54c39cd4fbd8549a5366cb0f\", element=\"a4adc9bf-bb48-40df-bc5e-bc5f77908730\")>,\n",
       " <selenium.webdriver.remote.webelement.WebElement (session=\"a926b8dd54c39cd4fbd8549a5366cb0f\", element=\"b8fe4801-3a06-49ff-8ad0-74fe01401d78\")>,\n",
       " <selenium.webdriver.remote.webelement.WebElement (session=\"a926b8dd54c39cd4fbd8549a5366cb0f\", element=\"3d983d1f-d038-4590-adab-e8be864cd0a1\")>,\n",
       " <selenium.webdriver.remote.webelement.WebElement (session=\"a926b8dd54c39cd4fbd8549a5366cb0f\", element=\"0dba756a-b49e-4f7a-a8bc-12cc07f1b812\")>,\n",
       " <selenium.webdriver.remote.webelement.WebElement (session=\"a926b8dd54c39cd4fbd8549a5366cb0f\", element=\"c074a0c4-2c2b-48df-b717-30729d55924f\")>]"
      ]
     },
     "execution_count": 46,
     "metadata": {},
     "output_type": "execute_result"
    }
   ],
   "source": [
    "description_titles=driver.find_elements_by_xpath('//a[@class=\"IRpwTa\"]')\n",
    "description_titles"
   ]
  },
  {
   "cell_type": "code",
   "execution_count": 47,
   "id": "5748aee3",
   "metadata": {},
   "outputs": [
    {
     "data": {
      "text/plain": [
       "['Sneakers For Men',\n",
       " 'Sneakers Sneakers For Men',\n",
       " 'Sneakers For Men',\n",
       " 'WATERPROOF-05cFULLWHITE Sneakers For Men',\n",
       " 'all white heartbeat casual shoe Sneakers For Men',\n",
       " 'Sneakers For Men',\n",
       " 'Stylish Comfortable Lightweight, Breathable Walking Sho...',\n",
       " 'Sneakers For Men',\n",
       " 'Stylish & Trending Outdoor Walking Comfortable Sneakers...',\n",
       " 'ORIFWSH-1183-Sneakers,Loafers,Sports Shoes Sneakers For...',\n",
       " 'Sneakers For Men',\n",
       " 'Fashion Outdoor Canvas Casual Light Weight Lace-up Even...',\n",
       " 'sneaker men red 1258 - 6 Sneakers For Men',\n",
       " 'Sneakers For Men',\n",
       " '411 Casual Sneakers For Men',\n",
       " \"White Sneaker For Men's/Boy's Sneakers For Men\",\n",
       " 'Sneakers For Men',\n",
       " 'Shark-41 Sneakers For Men',\n",
       " 'Sneakers For Men',\n",
       " 'Sneakers For Men',\n",
       " 'Men Casual Shoe New Trend With Fashion Panda Desgined L...',\n",
       " 'casual shoe for men Sneakers For Men',\n",
       " 'Sneakers For Men',\n",
       " 'Sneakers For Men',\n",
       " \"Men's Sneakers Fashion Lightweight Running Shoes Tennis...\",\n",
       " 'Stylish & Trending Outdoor Walking Comfortable Sneakers...',\n",
       " '411 Casual Sneakers For Men',\n",
       " 'Stylish & Trending Outdoor Walking Comfortable Sneakers...',\n",
       " 'Sneakers For Men',\n",
       " 'Sneakers For Men',\n",
       " 'Stylish Comfortable Lightweight, Breathable Walking Sho...',\n",
       " 'Lightweight Pack Of 1 Trendy Sneakers Sneakers Sneakers...',\n",
       " 'Sneakers For Men',\n",
       " 'Sneakers For Men']"
      ]
     },
     "execution_count": 47,
     "metadata": {},
     "output_type": "execute_result"
    }
   ],
   "source": [
    "for i in description_titles:\n",
    "    description=i.text\n",
    "    Productsecond_description.append(description)\n",
    "Productsecond_description"
   ]
  },
  {
   "cell_type": "code",
   "execution_count": 48,
   "id": "da19822e",
   "metadata": {},
   "outputs": [
    {
     "data": {
      "text/plain": [
       "[<selenium.webdriver.remote.webelement.WebElement (session=\"a926b8dd54c39cd4fbd8549a5366cb0f\", element=\"a758681e-40e5-4120-aeff-de5ac785db71\")>,\n",
       " <selenium.webdriver.remote.webelement.WebElement (session=\"a926b8dd54c39cd4fbd8549a5366cb0f\", element=\"43a3da22-bc83-4a5c-9698-3c794d5d09f9\")>,\n",
       " <selenium.webdriver.remote.webelement.WebElement (session=\"a926b8dd54c39cd4fbd8549a5366cb0f\", element=\"c3947508-804b-474e-aef2-91b2f1957e96\")>,\n",
       " <selenium.webdriver.remote.webelement.WebElement (session=\"a926b8dd54c39cd4fbd8549a5366cb0f\", element=\"87b41158-bc8d-4f80-a15e-e2d8ae48faf8\")>,\n",
       " <selenium.webdriver.remote.webelement.WebElement (session=\"a926b8dd54c39cd4fbd8549a5366cb0f\", element=\"782e0942-5bdd-45d3-979c-fee71788be59\")>,\n",
       " <selenium.webdriver.remote.webelement.WebElement (session=\"a926b8dd54c39cd4fbd8549a5366cb0f\", element=\"4dd9f665-4968-4a20-83b3-c90b5f4a82ad\")>,\n",
       " <selenium.webdriver.remote.webelement.WebElement (session=\"a926b8dd54c39cd4fbd8549a5366cb0f\", element=\"96a3229c-e005-476c-80d1-e2dc94e3d1ce\")>,\n",
       " <selenium.webdriver.remote.webelement.WebElement (session=\"a926b8dd54c39cd4fbd8549a5366cb0f\", element=\"ab72f7a9-df25-4312-bd8c-92944f6c24fd\")>,\n",
       " <selenium.webdriver.remote.webelement.WebElement (session=\"a926b8dd54c39cd4fbd8549a5366cb0f\", element=\"401eed31-d6ab-4889-8c60-e5aaa1382183\")>,\n",
       " <selenium.webdriver.remote.webelement.WebElement (session=\"a926b8dd54c39cd4fbd8549a5366cb0f\", element=\"9759e221-4269-4cb2-a10a-2e752bbfaa75\")>,\n",
       " <selenium.webdriver.remote.webelement.WebElement (session=\"a926b8dd54c39cd4fbd8549a5366cb0f\", element=\"b38e3c7d-1c00-456d-bb5c-6dbba76b5ae4\")>,\n",
       " <selenium.webdriver.remote.webelement.WebElement (session=\"a926b8dd54c39cd4fbd8549a5366cb0f\", element=\"50875063-1b96-4330-b069-2edea12ab06c\")>,\n",
       " <selenium.webdriver.remote.webelement.WebElement (session=\"a926b8dd54c39cd4fbd8549a5366cb0f\", element=\"94f30202-e520-4724-84fa-72ac0e153008\")>,\n",
       " <selenium.webdriver.remote.webelement.WebElement (session=\"a926b8dd54c39cd4fbd8549a5366cb0f\", element=\"2ad16468-9068-4012-85f7-d1391968e1f8\")>,\n",
       " <selenium.webdriver.remote.webelement.WebElement (session=\"a926b8dd54c39cd4fbd8549a5366cb0f\", element=\"8476c5ce-f01e-4522-9b2d-ec50d5b46f3c\")>,\n",
       " <selenium.webdriver.remote.webelement.WebElement (session=\"a926b8dd54c39cd4fbd8549a5366cb0f\", element=\"695cb887-0d6e-49cd-85fe-4b3cb455cefb\")>,\n",
       " <selenium.webdriver.remote.webelement.WebElement (session=\"a926b8dd54c39cd4fbd8549a5366cb0f\", element=\"52b78d48-ef04-415d-953b-bebf3b588d2f\")>,\n",
       " <selenium.webdriver.remote.webelement.WebElement (session=\"a926b8dd54c39cd4fbd8549a5366cb0f\", element=\"6de048e2-367f-43ee-88cb-eb89bf1915b3\")>,\n",
       " <selenium.webdriver.remote.webelement.WebElement (session=\"a926b8dd54c39cd4fbd8549a5366cb0f\", element=\"306c1812-a109-4808-b768-f818a163e2ef\")>,\n",
       " <selenium.webdriver.remote.webelement.WebElement (session=\"a926b8dd54c39cd4fbd8549a5366cb0f\", element=\"ca689222-e4be-49d7-9071-d3266c137e02\")>,\n",
       " <selenium.webdriver.remote.webelement.WebElement (session=\"a926b8dd54c39cd4fbd8549a5366cb0f\", element=\"98dd2719-dbf3-47f2-80bd-fcc181eeaee3\")>,\n",
       " <selenium.webdriver.remote.webelement.WebElement (session=\"a926b8dd54c39cd4fbd8549a5366cb0f\", element=\"7cbe2623-4431-44b4-8e57-df9c37b8a963\")>,\n",
       " <selenium.webdriver.remote.webelement.WebElement (session=\"a926b8dd54c39cd4fbd8549a5366cb0f\", element=\"d91ff3b0-620c-475c-b383-c01a84788d5d\")>,\n",
       " <selenium.webdriver.remote.webelement.WebElement (session=\"a926b8dd54c39cd4fbd8549a5366cb0f\", element=\"f405b273-1c16-4e9d-9348-07ee288a984c\")>,\n",
       " <selenium.webdriver.remote.webelement.WebElement (session=\"a926b8dd54c39cd4fbd8549a5366cb0f\", element=\"3ab4bf26-5f55-4474-80dd-66e8b6004e7b\")>,\n",
       " <selenium.webdriver.remote.webelement.WebElement (session=\"a926b8dd54c39cd4fbd8549a5366cb0f\", element=\"5858f12a-947c-4972-8a98-57a2760984c0\")>,\n",
       " <selenium.webdriver.remote.webelement.WebElement (session=\"a926b8dd54c39cd4fbd8549a5366cb0f\", element=\"ebc241b4-0962-4224-922c-ba1d4778bf24\")>,\n",
       " <selenium.webdriver.remote.webelement.WebElement (session=\"a926b8dd54c39cd4fbd8549a5366cb0f\", element=\"49224751-b442-4985-805f-d01b1e5c19bd\")>,\n",
       " <selenium.webdriver.remote.webelement.WebElement (session=\"a926b8dd54c39cd4fbd8549a5366cb0f\", element=\"a9e3f928-b690-4140-b153-7a306b152e6b\")>,\n",
       " <selenium.webdriver.remote.webelement.WebElement (session=\"a926b8dd54c39cd4fbd8549a5366cb0f\", element=\"a6e5591c-d34e-4890-aaf3-d0ea20dafec2\")>,\n",
       " <selenium.webdriver.remote.webelement.WebElement (session=\"a926b8dd54c39cd4fbd8549a5366cb0f\", element=\"918adba3-6860-4d9d-9a5f-d29958fbc8b8\")>,\n",
       " <selenium.webdriver.remote.webelement.WebElement (session=\"a926b8dd54c39cd4fbd8549a5366cb0f\", element=\"e4a47c34-ce50-4366-adb3-7cc92d7d473b\")>,\n",
       " <selenium.webdriver.remote.webelement.WebElement (session=\"a926b8dd54c39cd4fbd8549a5366cb0f\", element=\"e6849f48-302b-4e3d-980b-f90ca7680019\")>,\n",
       " <selenium.webdriver.remote.webelement.WebElement (session=\"a926b8dd54c39cd4fbd8549a5366cb0f\", element=\"51eeac67-eb1c-40c8-b2ae-9f02d1c1b30b\")>,\n",
       " <selenium.webdriver.remote.webelement.WebElement (session=\"a926b8dd54c39cd4fbd8549a5366cb0f\", element=\"ff5d340c-5565-49e6-8665-928bd1a2da9a\")>,\n",
       " <selenium.webdriver.remote.webelement.WebElement (session=\"a926b8dd54c39cd4fbd8549a5366cb0f\", element=\"e7f66482-3b59-4748-9df1-f5286e0dd94d\")>,\n",
       " <selenium.webdriver.remote.webelement.WebElement (session=\"a926b8dd54c39cd4fbd8549a5366cb0f\", element=\"4e27b89b-e47d-420a-86dd-5e2b9728aa91\")>,\n",
       " <selenium.webdriver.remote.webelement.WebElement (session=\"a926b8dd54c39cd4fbd8549a5366cb0f\", element=\"efb85389-bb86-4e4b-839d-92f57738cfb2\")>,\n",
       " <selenium.webdriver.remote.webelement.WebElement (session=\"a926b8dd54c39cd4fbd8549a5366cb0f\", element=\"f1614653-798c-4900-b7d5-41e6f023998e\")>,\n",
       " <selenium.webdriver.remote.webelement.WebElement (session=\"a926b8dd54c39cd4fbd8549a5366cb0f\", element=\"b1d7c4bb-be17-4ace-bc22-ec727aaf2b89\")>,\n",
       " <selenium.webdriver.remote.webelement.WebElement (session=\"a926b8dd54c39cd4fbd8549a5366cb0f\", element=\"c027fe6a-8fb6-4a9d-9f98-647baf400f5a\")>,\n",
       " <selenium.webdriver.remote.webelement.WebElement (session=\"a926b8dd54c39cd4fbd8549a5366cb0f\", element=\"b874db55-bb33-49d1-bbb6-3a13a1c9c0f1\")>,\n",
       " <selenium.webdriver.remote.webelement.WebElement (session=\"a926b8dd54c39cd4fbd8549a5366cb0f\", element=\"86902985-1c17-4667-a2d4-8d90aee97d3e\")>,\n",
       " <selenium.webdriver.remote.webelement.WebElement (session=\"a926b8dd54c39cd4fbd8549a5366cb0f\", element=\"1d4f3a6e-e45a-4873-9a64-eeb3eebf23f0\")>,\n",
       " <selenium.webdriver.remote.webelement.WebElement (session=\"a926b8dd54c39cd4fbd8549a5366cb0f\", element=\"62a2a2c5-c14d-403a-9edc-fd28b930e61a\")>]"
      ]
     },
     "execution_count": 48,
     "metadata": {},
     "output_type": "execute_result"
    }
   ],
   "source": [
    "titles_tags=driver.find_elements_by_xpath('//div[@class=\"_25b18c\"]')\n",
    "titles_tags"
   ]
  },
  {
   "cell_type": "code",
   "execution_count": 49,
   "id": "73febd17",
   "metadata": {},
   "outputs": [
    {
     "data": {
      "text/plain": [
       "['₹269₹99973% off',\n",
       " '₹714₹89920% off',\n",
       " '₹328₹99967% off',\n",
       " '₹599₹2,99980% off',\n",
       " '₹424₹99957% off',\n",
       " '₹549₹99945% off',\n",
       " '₹327₹99967% off',\n",
       " '₹449₹1,99977% off',\n",
       " '₹303₹99969% off',\n",
       " '₹346₹1,99982% off',\n",
       " '₹459₹1,19961% off',\n",
       " '₹515₹59914% off',\n",
       " '₹201₹69971% off',\n",
       " '₹379₹99962% off',\n",
       " '₹430₹99956% off',\n",
       " '₹183₹49963% off',\n",
       " '₹209₹49958% off',\n",
       " '₹449₹1,99977% off',\n",
       " '₹348₹99965% off',\n",
       " '₹449₹99955% off',\n",
       " '₹411₹99958% off',\n",
       " '₹424₹99957% off',\n",
       " '₹424₹1,29967% off',\n",
       " '₹630₹99936% off',\n",
       " '₹368₹99963% off',\n",
       " '₹399₹99960% off',\n",
       " '₹351₹99964% off',\n",
       " '₹379₹99962% off',\n",
       " '₹489₹99951% off',\n",
       " '₹459₹1,19961% off',\n",
       " '₹549₹2,99981% off',\n",
       " '₹449₹1,99977% off',\n",
       " '₹459₹1,19861% off',\n",
       " '₹598₹1,49960% off',\n",
       " '₹186₹99981% off',\n",
       " '₹369₹99963% off',\n",
       " '₹369₹99963% off',\n",
       " '₹177₹59970% off',\n",
       " '₹549₹99945% off',\n",
       " '₹400₹1,99979% off',\n",
       " '₹48951% off',\n",
       " '₹18363% off',\n",
       " '₹39960% off',\n",
       " '₹37462% off',\n",
       " '₹40079% off']"
      ]
     },
     "execution_count": 49,
     "metadata": {},
     "output_type": "execute_result"
    }
   ],
   "source": [
    "for i in titles_tags:\n",
    "    title=i.text\n",
    "    Pricesecond_titles.append(title)\n",
    "Pricesecond_titles"
   ]
  },
  {
   "cell_type": "code",
   "execution_count": 50,
   "id": "7e43188f",
   "metadata": {},
   "outputs": [],
   "source": [
    "search_button_next=driver.find_element_by_xpath('/html/body/div[1]/div/div[3]/div[1]/div[2]/div[12]/div/div/nav/a[12]/span')\n",
    "search_button_next.click()"
   ]
  },
  {
   "cell_type": "code",
   "execution_count": 51,
   "id": "b61f9894",
   "metadata": {},
   "outputs": [],
   "source": [
    "Brandthird_titles=[]\n",
    "Productthird_description=[]\n",
    "Pricethird_titles=[]\n"
   ]
  },
  {
   "cell_type": "code",
   "execution_count": 53,
   "id": "b325c91b",
   "metadata": {},
   "outputs": [
    {
     "data": {
      "text/plain": [
       "[<selenium.webdriver.remote.webelement.WebElement (session=\"a926b8dd54c39cd4fbd8549a5366cb0f\", element=\"040276de-bfbc-4fbd-9963-99a22a4df28b\")>,\n",
       " <selenium.webdriver.remote.webelement.WebElement (session=\"a926b8dd54c39cd4fbd8549a5366cb0f\", element=\"2f622a9d-34f2-49b9-bf80-9f205ac9b816\")>,\n",
       " <selenium.webdriver.remote.webelement.WebElement (session=\"a926b8dd54c39cd4fbd8549a5366cb0f\", element=\"9e5f6eeb-bc41-4451-98e2-c08467465215\")>,\n",
       " <selenium.webdriver.remote.webelement.WebElement (session=\"a926b8dd54c39cd4fbd8549a5366cb0f\", element=\"71458db5-fa8f-4dec-9d5c-84d7ed394d61\")>,\n",
       " <selenium.webdriver.remote.webelement.WebElement (session=\"a926b8dd54c39cd4fbd8549a5366cb0f\", element=\"66123f34-b09c-438d-9e88-2dcee0168c35\")>,\n",
       " <selenium.webdriver.remote.webelement.WebElement (session=\"a926b8dd54c39cd4fbd8549a5366cb0f\", element=\"3aa99ccd-a39a-46a4-bcdd-5c69c0f21158\")>,\n",
       " <selenium.webdriver.remote.webelement.WebElement (session=\"a926b8dd54c39cd4fbd8549a5366cb0f\", element=\"33656b85-e481-4f3f-8946-d63c432819f7\")>,\n",
       " <selenium.webdriver.remote.webelement.WebElement (session=\"a926b8dd54c39cd4fbd8549a5366cb0f\", element=\"51a0eec4-cff0-41eb-9ac8-2b624b82b6af\")>,\n",
       " <selenium.webdriver.remote.webelement.WebElement (session=\"a926b8dd54c39cd4fbd8549a5366cb0f\", element=\"f31ed5cc-0c5a-49a8-8540-6b683a0d497c\")>,\n",
       " <selenium.webdriver.remote.webelement.WebElement (session=\"a926b8dd54c39cd4fbd8549a5366cb0f\", element=\"560f1930-f017-4c2e-be2f-8cb1260e05b4\")>,\n",
       " <selenium.webdriver.remote.webelement.WebElement (session=\"a926b8dd54c39cd4fbd8549a5366cb0f\", element=\"51c56ff0-e9a3-4b64-a427-c162844d7653\")>,\n",
       " <selenium.webdriver.remote.webelement.WebElement (session=\"a926b8dd54c39cd4fbd8549a5366cb0f\", element=\"773b1fdf-9b59-4e64-b602-30281e5dda2e\")>,\n",
       " <selenium.webdriver.remote.webelement.WebElement (session=\"a926b8dd54c39cd4fbd8549a5366cb0f\", element=\"4e606570-c648-4858-ad00-35c9b4872d04\")>,\n",
       " <selenium.webdriver.remote.webelement.WebElement (session=\"a926b8dd54c39cd4fbd8549a5366cb0f\", element=\"506bfc70-d3ee-4000-955a-5ef00cd1ee37\")>,\n",
       " <selenium.webdriver.remote.webelement.WebElement (session=\"a926b8dd54c39cd4fbd8549a5366cb0f\", element=\"eb84ffa9-25ce-4fc7-b456-26f4bec58699\")>,\n",
       " <selenium.webdriver.remote.webelement.WebElement (session=\"a926b8dd54c39cd4fbd8549a5366cb0f\", element=\"d00c338c-36f4-438b-bd1e-68344568516f\")>,\n",
       " <selenium.webdriver.remote.webelement.WebElement (session=\"a926b8dd54c39cd4fbd8549a5366cb0f\", element=\"9aaa3f8a-2db0-4e09-92e6-6f6bcedac608\")>,\n",
       " <selenium.webdriver.remote.webelement.WebElement (session=\"a926b8dd54c39cd4fbd8549a5366cb0f\", element=\"f24cdccc-09e6-4c21-9af2-b95cd5db63a6\")>,\n",
       " <selenium.webdriver.remote.webelement.WebElement (session=\"a926b8dd54c39cd4fbd8549a5366cb0f\", element=\"f24e5a11-9a59-4f3b-a301-2e0cc4caa05d\")>,\n",
       " <selenium.webdriver.remote.webelement.WebElement (session=\"a926b8dd54c39cd4fbd8549a5366cb0f\", element=\"20aa6e49-969d-4924-99f7-4983a1e740a5\")>]"
      ]
     },
     "execution_count": 53,
     "metadata": {},
     "output_type": "execute_result"
    }
   ],
   "source": [
    "titles_tags=driver.find_elements_by_xpath('//div[@class=\"_2WkVRV\"]')\n",
    "titles_tags[0:20]"
   ]
  },
  {
   "cell_type": "code",
   "execution_count": 54,
   "id": "b992d814",
   "metadata": {},
   "outputs": [
    {
     "data": {
      "text/plain": [
       "['Dizzler',\n",
       " 'Kraasa',\n",
       " 'Chevit',\n",
       " 'Navtrend',\n",
       " 'Robbie jones',\n",
       " 'luxury fashion',\n",
       " 'Deals4you',\n",
       " 'BERSACHE',\n",
       " 'Layasa',\n",
       " 'BRUTON',\n",
       " 'CLYMB',\n",
       " 'RapidBox',\n",
       " 'BRUTON',\n",
       " 'RODDICK SHOES',\n",
       " 'Red Rose',\n",
       " 'CLYMB',\n",
       " 'Layasa',\n",
       " 'SPARX',\n",
       " 'Magnolia',\n",
       " 'Airland']"
      ]
     },
     "execution_count": 54,
     "metadata": {},
     "output_type": "execute_result"
    }
   ],
   "source": [
    "for i in titles_tags:\n",
    "    title=i.text\n",
    "    Brandthird_titles.append(title)\n",
    "Brandthird_titles[0:20]"
   ]
  },
  {
   "cell_type": "code",
   "execution_count": 55,
   "id": "3448d57e",
   "metadata": {},
   "outputs": [
    {
     "data": {
      "text/plain": [
       "[<selenium.webdriver.remote.webelement.WebElement (session=\"a926b8dd54c39cd4fbd8549a5366cb0f\", element=\"f6344030-750b-43be-a5cf-a6ef1350dc48\")>,\n",
       " <selenium.webdriver.remote.webelement.WebElement (session=\"a926b8dd54c39cd4fbd8549a5366cb0f\", element=\"94596f97-856b-4821-b2b0-cd9f68db1ead\")>,\n",
       " <selenium.webdriver.remote.webelement.WebElement (session=\"a926b8dd54c39cd4fbd8549a5366cb0f\", element=\"026d653e-f957-4908-b24a-c07d8379100a\")>,\n",
       " <selenium.webdriver.remote.webelement.WebElement (session=\"a926b8dd54c39cd4fbd8549a5366cb0f\", element=\"d6622db2-0808-4573-bed3-ebda4d8294e4\")>,\n",
       " <selenium.webdriver.remote.webelement.WebElement (session=\"a926b8dd54c39cd4fbd8549a5366cb0f\", element=\"9db92867-7461-4d82-9b7e-9352b1cdf060\")>,\n",
       " <selenium.webdriver.remote.webelement.WebElement (session=\"a926b8dd54c39cd4fbd8549a5366cb0f\", element=\"bfd97473-8d0f-47db-aa23-0e416032875a\")>,\n",
       " <selenium.webdriver.remote.webelement.WebElement (session=\"a926b8dd54c39cd4fbd8549a5366cb0f\", element=\"2f92c560-f37e-4413-bb0c-d6ee534a0ce8\")>,\n",
       " <selenium.webdriver.remote.webelement.WebElement (session=\"a926b8dd54c39cd4fbd8549a5366cb0f\", element=\"c99f136a-dcb4-4811-815c-1508ba194a6f\")>,\n",
       " <selenium.webdriver.remote.webelement.WebElement (session=\"a926b8dd54c39cd4fbd8549a5366cb0f\", element=\"02d4562d-0ced-430d-bcc6-50437d871cec\")>]"
      ]
     },
     "execution_count": 55,
     "metadata": {},
     "output_type": "execute_result"
    }
   ],
   "source": [
    "description_titles=driver.find_elements_by_xpath('//a[@class=\"IRpwTa _2-ICcC\"]')\n",
    "description_titles[0:20]"
   ]
  },
  {
   "cell_type": "code",
   "execution_count": 57,
   "id": "13ff4046",
   "metadata": {},
   "outputs": [
    {
     "data": {
      "text/plain": [
       "['Sneakers For Men',\n",
       " 'Sneakers For Men',\n",
       " 'Sneakers For Men',\n",
       " 'Sneakers For Men',\n",
       " '494 Perfect Sports Shoes for Running Training Hikking &...',\n",
       " 'Sneakers For Men',\n",
       " 'Sneakers For Men',\n",
       " 'Sneakers For Men',\n",
       " 'New Style Sneakers For Men']"
      ]
     },
     "execution_count": 57,
     "metadata": {},
     "output_type": "execute_result"
    }
   ],
   "source": [
    "for i in description_titles:\n",
    "    title=i.text\n",
    "    Productthird_description.append(title)\n",
    "Productthird_description[0:20]"
   ]
  },
  {
   "cell_type": "code",
   "execution_count": 59,
   "id": "8454bf04",
   "metadata": {},
   "outputs": [
    {
     "data": {
      "text/plain": [
       "[<selenium.webdriver.remote.webelement.WebElement (session=\"a926b8dd54c39cd4fbd8549a5366cb0f\", element=\"6f39f8e9-5955-4203-92af-d5bc3bb3c00f\")>,\n",
       " <selenium.webdriver.remote.webelement.WebElement (session=\"a926b8dd54c39cd4fbd8549a5366cb0f\", element=\"2e3c7f57-6a71-4108-91ea-1656f58d5f79\")>,\n",
       " <selenium.webdriver.remote.webelement.WebElement (session=\"a926b8dd54c39cd4fbd8549a5366cb0f\", element=\"34c9ab67-ea47-4be5-8ced-1f096c06cf61\")>,\n",
       " <selenium.webdriver.remote.webelement.WebElement (session=\"a926b8dd54c39cd4fbd8549a5366cb0f\", element=\"c3c6c0fd-2e64-47ff-9f4b-419d1ec7b633\")>,\n",
       " <selenium.webdriver.remote.webelement.WebElement (session=\"a926b8dd54c39cd4fbd8549a5366cb0f\", element=\"a7689e37-a552-49e3-acdd-1cfaa2595df2\")>,\n",
       " <selenium.webdriver.remote.webelement.WebElement (session=\"a926b8dd54c39cd4fbd8549a5366cb0f\", element=\"2a1742b3-ec65-4f8a-8ab7-4edebace4c15\")>,\n",
       " <selenium.webdriver.remote.webelement.WebElement (session=\"a926b8dd54c39cd4fbd8549a5366cb0f\", element=\"7212b8a9-8700-48b8-b72b-84eab1b0cdc0\")>,\n",
       " <selenium.webdriver.remote.webelement.WebElement (session=\"a926b8dd54c39cd4fbd8549a5366cb0f\", element=\"e0b8b902-39b8-4bef-acba-c5ec69954533\")>,\n",
       " <selenium.webdriver.remote.webelement.WebElement (session=\"a926b8dd54c39cd4fbd8549a5366cb0f\", element=\"6f26f173-23a4-4fea-9d86-3adebde7dfd9\")>,\n",
       " <selenium.webdriver.remote.webelement.WebElement (session=\"a926b8dd54c39cd4fbd8549a5366cb0f\", element=\"8c04522f-f64e-44e8-b384-55011186249e\")>,\n",
       " <selenium.webdriver.remote.webelement.WebElement (session=\"a926b8dd54c39cd4fbd8549a5366cb0f\", element=\"c4982a63-84ec-4dee-9fa8-3254062d91df\")>,\n",
       " <selenium.webdriver.remote.webelement.WebElement (session=\"a926b8dd54c39cd4fbd8549a5366cb0f\", element=\"1cff6789-d94d-4bee-ab2e-074b85542928\")>,\n",
       " <selenium.webdriver.remote.webelement.WebElement (session=\"a926b8dd54c39cd4fbd8549a5366cb0f\", element=\"003e7a6d-850e-4ee3-a21f-b6590edc72ac\")>,\n",
       " <selenium.webdriver.remote.webelement.WebElement (session=\"a926b8dd54c39cd4fbd8549a5366cb0f\", element=\"67dc7cf0-1e8d-425e-9d89-8f98b59bbd6f\")>,\n",
       " <selenium.webdriver.remote.webelement.WebElement (session=\"a926b8dd54c39cd4fbd8549a5366cb0f\", element=\"d24717fa-1f8f-4cb1-bfdb-a71eced61376\")>,\n",
       " <selenium.webdriver.remote.webelement.WebElement (session=\"a926b8dd54c39cd4fbd8549a5366cb0f\", element=\"4da5c870-a142-4b43-8b0b-630d41f4e36e\")>,\n",
       " <selenium.webdriver.remote.webelement.WebElement (session=\"a926b8dd54c39cd4fbd8549a5366cb0f\", element=\"bc8b133b-6827-4535-89ed-39a06eea0e45\")>,\n",
       " <selenium.webdriver.remote.webelement.WebElement (session=\"a926b8dd54c39cd4fbd8549a5366cb0f\", element=\"1168cb59-be43-4ef6-bdce-dbea52128bc2\")>,\n",
       " <selenium.webdriver.remote.webelement.WebElement (session=\"a926b8dd54c39cd4fbd8549a5366cb0f\", element=\"d2038a6a-8434-4f26-9fae-e58ab9f96130\")>,\n",
       " <selenium.webdriver.remote.webelement.WebElement (session=\"a926b8dd54c39cd4fbd8549a5366cb0f\", element=\"f7a166c8-e1be-4842-b6c1-ba37a564fc44\")>]"
      ]
     },
     "execution_count": 59,
     "metadata": {},
     "output_type": "execute_result"
    }
   ],
   "source": [
    "titles_tags=driver.find_elements_by_xpath('//div[@class=\"_25b18c\"]')\n",
    "titles_tags[0:20]"
   ]
  },
  {
   "cell_type": "code",
   "execution_count": 60,
   "id": "48de018a",
   "metadata": {},
   "outputs": [
    {
     "data": {
      "text/plain": [
       "['₹420₹71941% off',\n",
       " '₹410₹99958% off',\n",
       " '₹566₹1,49762% off',\n",
       " '₹599₹2,99980% off',\n",
       " '₹424₹99957% off',\n",
       " '₹399₹1,99980% off',\n",
       " '₹439₹1,49970% off',\n",
       " '₹515₹59914% off',\n",
       " '₹399₹99960% off',\n",
       " '₹610₹3,49982% off',\n",
       " '₹599₹1,49960% off',\n",
       " '₹630₹99936% off',\n",
       " '₹249₹1,29980% off',\n",
       " '₹430₹99956% off',\n",
       " '₹449₹99955% off',\n",
       " '₹239₹99976% off',\n",
       " '₹449₹99955% off',\n",
       " '₹1,049₹1,0994% off',\n",
       " '₹290₹99970% off',\n",
       " '₹183₹49963% off']"
      ]
     },
     "execution_count": 60,
     "metadata": {},
     "output_type": "execute_result"
    }
   ],
   "source": [
    "for i in titles_tags:\n",
    "    title=i.text\n",
    "    Pricethird_titles.append(title)\n",
    "Pricethird_titles[0:20]"
   ]
  },
  {
   "cell_type": "raw",
   "id": "e28d3fa7",
   "metadata": {},
   "source": [
    "IN THREE PHRASE FOUND THE 100 SNEAKERS  COMPLETED"
   ]
  },
  {
   "cell_type": "raw",
   "id": "62c6b971",
   "metadata": {},
   "source": [
    "Q7: Go to the link - https://www.myntra.com/shoes\n",
    "Set Price filter to “Rs. 7149 to Rs. 14099 ” , Color filter to “Black”, as shown inthe below image.\n",
    "And then scrape First 100 shoes data you get. The data should include “Brand” of the shoes , Short Shoe\n",
    "description, price of the shoe as shown in the below image"
   ]
  },
  {
   "cell_type": "code",
   "execution_count": 73,
   "id": "841193ce",
   "metadata": {},
   "outputs": [],
   "source": [
    "driver.get('http://www.myntra.com/shoes')"
   ]
  },
  {
   "cell_type": "code",
   "execution_count": 74,
   "id": "7ef2aca8",
   "metadata": {},
   "outputs": [],
   "source": [
    "Price_filter=[]\n",
    "Color_filter=[]\n"
   ]
  },
  {
   "cell_type": "code",
   "execution_count": 89,
   "id": "6adc35c4",
   "metadata": {},
   "outputs": [
    {
     "data": {
      "text/plain": [
       "[<selenium.webdriver.remote.webelement.WebElement (session=\"a926b8dd54c39cd4fbd8549a5366cb0f\", element=\"3bd66688-c4fe-44a1-8bb5-cc58a1c75429\")>,\n",
       " <selenium.webdriver.remote.webelement.WebElement (session=\"a926b8dd54c39cd4fbd8549a5366cb0f\", element=\"783cc339-9a2a-416f-a2d2-d7437d9aab3c\")>,\n",
       " <selenium.webdriver.remote.webelement.WebElement (session=\"a926b8dd54c39cd4fbd8549a5366cb0f\", element=\"58054e1d-fef7-4d10-b033-27449409a9de\")>,\n",
       " <selenium.webdriver.remote.webelement.WebElement (session=\"a926b8dd54c39cd4fbd8549a5366cb0f\", element=\"0fe44d9e-a649-42d9-b788-03c1353c16a8\")>]"
      ]
     },
     "execution_count": 89,
     "metadata": {},
     "output_type": "execute_result"
    }
   ],
   "source": [
    "filter_titles=driver.find_elements_by_xpath('//div[@class=\"vertical-filters-filters\"]')\n",
    "\n",
    "filter_titles\n"
   ]
  },
  {
   "cell_type": "code",
   "execution_count": 90,
   "id": "a9bbbb58",
   "metadata": {},
   "outputs": [
    {
     "data": {
      "text/plain": [
       "['',\n",
       " '',\n",
       " '',\n",
       " '',\n",
       " '',\n",
       " '',\n",
       " '',\n",
       " '',\n",
       " '',\n",
       " '',\n",
       " '',\n",
       " '',\n",
       " '',\n",
       " '',\n",
       " '',\n",
       " '',\n",
       " '',\n",
       " '',\n",
       " '',\n",
       " '',\n",
       " '',\n",
       " '',\n",
       " '',\n",
       " '',\n",
       " '',\n",
       " '',\n",
       " '',\n",
       " '',\n",
       " '',\n",
       " '',\n",
       " '',\n",
       " '',\n",
       " '',\n",
       " '',\n",
       " '',\n",
       " '(76924)',\n",
       " '(2362)',\n",
       " '(319)',\n",
       " '(16)',\n",
       " 'Men\\nWomen\\nBoys',\n",
       " 'PRICE\\nRs. 199 to Rs. 7149(76914)\\nRs. 7149 to Rs. 14099(2361)\\nRs. 14099 to Rs. 21049(319)\\nRs. 21049 to Rs. 27999(16)',\n",
       " 'COLOR\\nBlack (798)\\nWhite (348)\\nBrown (246)\\nBlue (135)\\nGrey (132)\\nNavy Blue (86)\\nBeige (77)\\n+ 34 more',\n",
       " 'DISCOUNT RANGE\\n10% and above\\n20% and above\\n30% and above\\n40% and above\\n50% and above']"
      ]
     },
     "execution_count": 90,
     "metadata": {},
     "output_type": "execute_result"
    }
   ],
   "source": [
    "for i in filter_titles:\n",
    "    title=i.text\n",
    "    Price_filter.append(title)\n",
    "Price_filter"
   ]
  },
  {
   "cell_type": "raw",
   "id": "fb9da57d",
   "metadata": {},
   "source": [
    "Q8: Go to webpage https://www.amazon.in/\n",
    "Enter “Laptop” in the search field and then click the search icon.\n",
    "Then set CPU Type filter to “Intel Core i7” and “Intel Core i9” as shown in the below image:\n",
    "    \n",
    "After setting the filters scrape first 10 laptops data. You have to scrape 3 attributesfor each laptop:\n",
    "1. Title\n",
    "2. Ratings\n",
    "3. Price\n",
    "As shown in the below image as the tick marked attributes."
   ]
  },
  {
   "cell_type": "code",
   "execution_count": 97,
   "id": "e3dddabc",
   "metadata": {},
   "outputs": [],
   "source": [
    "driver.get('https://www.amazon.in/')"
   ]
  },
  {
   "cell_type": "code",
   "execution_count": 101,
   "id": "8059ee72",
   "metadata": {},
   "outputs": [
    {
     "ename": "ElementNotInteractableException",
     "evalue": "Message: element not interactable\n  (Session info: chrome=100.0.4896.127)\nStacktrace:\nBacktrace:\n\tOrdinal0 [0x01157413+2389011]\n\tOrdinal0 [0x010E9F61+1941345]\n\tOrdinal0 [0x00FDC520+836896]\n\tOrdinal0 [0x010048E3+1001699]\n\tOrdinal0 [0x01003FBE+999358]\n\tOrdinal0 [0x0102414C+1130828]\n\tOrdinal0 [0x00FFF974+981364]\n\tOrdinal0 [0x01024364+1131364]\n\tOrdinal0 [0x01034302+1196802]\n\tOrdinal0 [0x01023F66+1130342]\n\tOrdinal0 [0x00FFE546+976198]\n\tOrdinal0 [0x00FFF456+980054]\n\tGetHandleVerifier [0x01309632+1727522]\n\tGetHandleVerifier [0x013BBA4D+2457661]\n\tGetHandleVerifier [0x011EEB81+569713]\n\tGetHandleVerifier [0x011EDD76+566118]\n\tOrdinal0 [0x010F0B2B+1968939]\n\tOrdinal0 [0x010F5988+1989000]\n\tOrdinal0 [0x010F5A75+1989237]\n\tOrdinal0 [0x010FECB1+2026673]\n\tBaseThreadInitThunk [0x76CF6739+25]\n\tRtlGetFullPathName_UEx [0x77618E7F+1215]\n\tRtlGetFullPathName_UEx [0x77618E4D+1165]\n",
     "output_type": "error",
     "traceback": [
      "\u001b[1;31m---------------------------------------------------------------------------\u001b[0m",
      "\u001b[1;31mElementNotInteractableException\u001b[0m           Traceback (most recent call last)",
      "\u001b[1;32m~\\AppData\\Local\\Temp/ipykernel_7996/2215785598.py\u001b[0m in \u001b[0;36m<module>\u001b[1;34m\u001b[0m\n\u001b[0;32m      1\u001b[0m \u001b[0msearch_field_laptop\u001b[0m\u001b[1;33m=\u001b[0m\u001b[0mdriver\u001b[0m\u001b[1;33m.\u001b[0m\u001b[0mfind_element_by_xpath\u001b[0m\u001b[1;33m(\u001b[0m\u001b[1;34m'/html/body/div[1]/header/div/div[1]/div[2]/div/form/div[2]/div[1]'\u001b[0m\u001b[1;33m)\u001b[0m\u001b[1;33m\u001b[0m\u001b[1;33m\u001b[0m\u001b[0m\n\u001b[1;32m----> 2\u001b[1;33m \u001b[0msearch_field_laptop\u001b[0m\u001b[1;33m.\u001b[0m\u001b[0msend_keys\u001b[0m\u001b[1;33m(\u001b[0m\u001b[1;34m'Laptop'\u001b[0m\u001b[1;33m)\u001b[0m\u001b[1;33m\u001b[0m\u001b[1;33m\u001b[0m\u001b[0m\n\u001b[0m",
      "\u001b[1;32m~\\anaconda3\\lib\\site-packages\\selenium\\webdriver\\remote\\webelement.py\u001b[0m in \u001b[0;36msend_keys\u001b[1;34m(self, *value)\u001b[0m\n\u001b[0;32m    538\u001b[0m                 \u001b[0mvalue\u001b[0m \u001b[1;33m=\u001b[0m \u001b[1;34m'\\n'\u001b[0m\u001b[1;33m.\u001b[0m\u001b[0mjoin\u001b[0m\u001b[1;33m(\u001b[0m\u001b[0mremote_files\u001b[0m\u001b[1;33m)\u001b[0m\u001b[1;33m\u001b[0m\u001b[1;33m\u001b[0m\u001b[0m\n\u001b[0;32m    539\u001b[0m \u001b[1;33m\u001b[0m\u001b[0m\n\u001b[1;32m--> 540\u001b[1;33m         self._execute(Command.SEND_KEYS_TO_ELEMENT,\n\u001b[0m\u001b[0;32m    541\u001b[0m                       {'text': \"\".join(keys_to_typing(value)),\n\u001b[0;32m    542\u001b[0m                        'value': keys_to_typing(value)})\n",
      "\u001b[1;32m~\\anaconda3\\lib\\site-packages\\selenium\\webdriver\\remote\\webelement.py\u001b[0m in \u001b[0;36m_execute\u001b[1;34m(self, command, params)\u001b[0m\n\u001b[0;32m    708\u001b[0m             \u001b[0mparams\u001b[0m \u001b[1;33m=\u001b[0m \u001b[1;33m{\u001b[0m\u001b[1;33m}\u001b[0m\u001b[1;33m\u001b[0m\u001b[1;33m\u001b[0m\u001b[0m\n\u001b[0;32m    709\u001b[0m         \u001b[0mparams\u001b[0m\u001b[1;33m[\u001b[0m\u001b[1;34m'id'\u001b[0m\u001b[1;33m]\u001b[0m \u001b[1;33m=\u001b[0m \u001b[0mself\u001b[0m\u001b[1;33m.\u001b[0m\u001b[0m_id\u001b[0m\u001b[1;33m\u001b[0m\u001b[1;33m\u001b[0m\u001b[0m\n\u001b[1;32m--> 710\u001b[1;33m         \u001b[1;32mreturn\u001b[0m \u001b[0mself\u001b[0m\u001b[1;33m.\u001b[0m\u001b[0m_parent\u001b[0m\u001b[1;33m.\u001b[0m\u001b[0mexecute\u001b[0m\u001b[1;33m(\u001b[0m\u001b[0mcommand\u001b[0m\u001b[1;33m,\u001b[0m \u001b[0mparams\u001b[0m\u001b[1;33m)\u001b[0m\u001b[1;33m\u001b[0m\u001b[1;33m\u001b[0m\u001b[0m\n\u001b[0m\u001b[0;32m    711\u001b[0m \u001b[1;33m\u001b[0m\u001b[0m\n\u001b[0;32m    712\u001b[0m     \u001b[1;32mdef\u001b[0m \u001b[0mfind_element\u001b[0m\u001b[1;33m(\u001b[0m\u001b[0mself\u001b[0m\u001b[1;33m,\u001b[0m \u001b[0mby\u001b[0m\u001b[1;33m=\u001b[0m\u001b[0mBy\u001b[0m\u001b[1;33m.\u001b[0m\u001b[0mID\u001b[0m\u001b[1;33m,\u001b[0m \u001b[0mvalue\u001b[0m\u001b[1;33m=\u001b[0m\u001b[1;32mNone\u001b[0m\u001b[1;33m)\u001b[0m\u001b[1;33m:\u001b[0m\u001b[1;33m\u001b[0m\u001b[1;33m\u001b[0m\u001b[0m\n",
      "\u001b[1;32m~\\anaconda3\\lib\\site-packages\\selenium\\webdriver\\remote\\webdriver.py\u001b[0m in \u001b[0;36mexecute\u001b[1;34m(self, driver_command, params)\u001b[0m\n\u001b[0;32m    423\u001b[0m         \u001b[0mresponse\u001b[0m \u001b[1;33m=\u001b[0m \u001b[0mself\u001b[0m\u001b[1;33m.\u001b[0m\u001b[0mcommand_executor\u001b[0m\u001b[1;33m.\u001b[0m\u001b[0mexecute\u001b[0m\u001b[1;33m(\u001b[0m\u001b[0mdriver_command\u001b[0m\u001b[1;33m,\u001b[0m \u001b[0mparams\u001b[0m\u001b[1;33m)\u001b[0m\u001b[1;33m\u001b[0m\u001b[1;33m\u001b[0m\u001b[0m\n\u001b[0;32m    424\u001b[0m         \u001b[1;32mif\u001b[0m \u001b[0mresponse\u001b[0m\u001b[1;33m:\u001b[0m\u001b[1;33m\u001b[0m\u001b[1;33m\u001b[0m\u001b[0m\n\u001b[1;32m--> 425\u001b[1;33m             \u001b[0mself\u001b[0m\u001b[1;33m.\u001b[0m\u001b[0merror_handler\u001b[0m\u001b[1;33m.\u001b[0m\u001b[0mcheck_response\u001b[0m\u001b[1;33m(\u001b[0m\u001b[0mresponse\u001b[0m\u001b[1;33m)\u001b[0m\u001b[1;33m\u001b[0m\u001b[1;33m\u001b[0m\u001b[0m\n\u001b[0m\u001b[0;32m    426\u001b[0m             response['value'] = self._unwrap_value(\n\u001b[0;32m    427\u001b[0m                 response.get('value', None))\n",
      "\u001b[1;32m~\\anaconda3\\lib\\site-packages\\selenium\\webdriver\\remote\\errorhandler.py\u001b[0m in \u001b[0;36mcheck_response\u001b[1;34m(self, response)\u001b[0m\n\u001b[0;32m    245\u001b[0m                 \u001b[0malert_text\u001b[0m \u001b[1;33m=\u001b[0m \u001b[0mvalue\u001b[0m\u001b[1;33m[\u001b[0m\u001b[1;34m'alert'\u001b[0m\u001b[1;33m]\u001b[0m\u001b[1;33m.\u001b[0m\u001b[0mget\u001b[0m\u001b[1;33m(\u001b[0m\u001b[1;34m'text'\u001b[0m\u001b[1;33m)\u001b[0m\u001b[1;33m\u001b[0m\u001b[1;33m\u001b[0m\u001b[0m\n\u001b[0;32m    246\u001b[0m             \u001b[1;32mraise\u001b[0m \u001b[0mexception_class\u001b[0m\u001b[1;33m(\u001b[0m\u001b[0mmessage\u001b[0m\u001b[1;33m,\u001b[0m \u001b[0mscreen\u001b[0m\u001b[1;33m,\u001b[0m \u001b[0mstacktrace\u001b[0m\u001b[1;33m,\u001b[0m \u001b[0malert_text\u001b[0m\u001b[1;33m)\u001b[0m  \u001b[1;31m# type: ignore[call-arg]  # mypy is not smart enough here\u001b[0m\u001b[1;33m\u001b[0m\u001b[1;33m\u001b[0m\u001b[0m\n\u001b[1;32m--> 247\u001b[1;33m         \u001b[1;32mraise\u001b[0m \u001b[0mexception_class\u001b[0m\u001b[1;33m(\u001b[0m\u001b[0mmessage\u001b[0m\u001b[1;33m,\u001b[0m \u001b[0mscreen\u001b[0m\u001b[1;33m,\u001b[0m \u001b[0mstacktrace\u001b[0m\u001b[1;33m)\u001b[0m\u001b[1;33m\u001b[0m\u001b[1;33m\u001b[0m\u001b[0m\n\u001b[0m\u001b[0;32m    248\u001b[0m \u001b[1;33m\u001b[0m\u001b[0m\n\u001b[0;32m    249\u001b[0m     \u001b[1;32mdef\u001b[0m \u001b[0m_value_or_default\u001b[0m\u001b[1;33m(\u001b[0m\u001b[0mself\u001b[0m\u001b[1;33m,\u001b[0m \u001b[0mobj\u001b[0m\u001b[1;33m:\u001b[0m \u001b[0mMapping\u001b[0m\u001b[1;33m[\u001b[0m\u001b[0m_KT\u001b[0m\u001b[1;33m,\u001b[0m \u001b[0m_VT\u001b[0m\u001b[1;33m]\u001b[0m\u001b[1;33m,\u001b[0m \u001b[0mkey\u001b[0m\u001b[1;33m:\u001b[0m \u001b[0m_KT\u001b[0m\u001b[1;33m,\u001b[0m \u001b[0mdefault\u001b[0m\u001b[1;33m:\u001b[0m \u001b[0m_VT\u001b[0m\u001b[1;33m)\u001b[0m \u001b[1;33m->\u001b[0m \u001b[0m_VT\u001b[0m\u001b[1;33m:\u001b[0m\u001b[1;33m\u001b[0m\u001b[1;33m\u001b[0m\u001b[0m\n",
      "\u001b[1;31mElementNotInteractableException\u001b[0m: Message: element not interactable\n  (Session info: chrome=100.0.4896.127)\nStacktrace:\nBacktrace:\n\tOrdinal0 [0x01157413+2389011]\n\tOrdinal0 [0x010E9F61+1941345]\n\tOrdinal0 [0x00FDC520+836896]\n\tOrdinal0 [0x010048E3+1001699]\n\tOrdinal0 [0x01003FBE+999358]\n\tOrdinal0 [0x0102414C+1130828]\n\tOrdinal0 [0x00FFF974+981364]\n\tOrdinal0 [0x01024364+1131364]\n\tOrdinal0 [0x01034302+1196802]\n\tOrdinal0 [0x01023F66+1130342]\n\tOrdinal0 [0x00FFE546+976198]\n\tOrdinal0 [0x00FFF456+980054]\n\tGetHandleVerifier [0x01309632+1727522]\n\tGetHandleVerifier [0x013BBA4D+2457661]\n\tGetHandleVerifier [0x011EEB81+569713]\n\tGetHandleVerifier [0x011EDD76+566118]\n\tOrdinal0 [0x010F0B2B+1968939]\n\tOrdinal0 [0x010F5988+1989000]\n\tOrdinal0 [0x010F5A75+1989237]\n\tOrdinal0 [0x010FECB1+2026673]\n\tBaseThreadInitThunk [0x76CF6739+25]\n\tRtlGetFullPathName_UEx [0x77618E7F+1215]\n\tRtlGetFullPathName_UEx [0x77618E4D+1165]\n"
     ]
    }
   ],
   "source": [
    "search_field_laptop=driver.find_element_by_xpath('/html/body/div[1]/header/div/div[1]/div[2]/div/form/div[2]/div[1]')\n",
    "search_field_laptop.send_keys('Laptop')"
   ]
  },
  {
   "cell_type": "raw",
   "id": "3d152e61",
   "metadata": {},
   "source": [
    "Q9: Write a python program to scrape data for first 10 job results for Data Scientist Designation in Noida\n",
    "location. You have to scrape company name, No. of days ago when job was posted, Rating of the company.\n",
    "This task will be done in following steps:\n",
    "1. First get the webpage https://www.ambitionbox.com/\n",
    "2. Click on the Job option as shown in the image\n",
    "\n",
    "3. After reaching to the next webpage, In place of “Search by Designations, Companies, Skills” enter\n",
    "“Data Scientist” and click on search button.\n",
    "\n",
    "4. You will reach to the following web page click on location and in place of “Search location” enter\n",
    "“Noida” and select location “Noida”.\n",
    "5. Then scrape the data for the first 10 jobs results you get on the above shown page.\n",
    "6. Finally create a dataframe of the scraped data.\n"
   ]
  },
  {
   "cell_type": "code",
   "execution_count": 133,
   "id": "eb5fe916",
   "metadata": {},
   "outputs": [],
   "source": [
    "driver.get(' https://www.ambitionbox.com/')"
   ]
  },
  {
   "cell_type": "code",
   "execution_count": 135,
   "id": "545ad58a",
   "metadata": {},
   "outputs": [],
   "source": [
    "search_field_designation=driver.find_element_by_xpath('/html/body/div/div/div/div[2]/div[1]/div[1]/div/div/div/div/span/input')\n",
    "search_field_designation.send_keys('Data Scientist')"
   ]
  },
  {
   "cell_type": "code",
   "execution_count": 136,
   "id": "a1a78a4a",
   "metadata": {},
   "outputs": [],
   "source": [
    "search_button=driver.find_element_by_xpath('/html/body/div/div/div/div[2]/div[1]/div[1]/div/div/div/button')\n",
    "search_button.click()"
   ]
  },
  {
   "cell_type": "code",
   "execution_count": 137,
   "id": "44416e31",
   "metadata": {},
   "outputs": [],
   "source": [
    "search_field_location=driver.find_element_by_xpath('/html/body/div/div/div/div[2]/div[1]/div[2]/div[1]/div/div/div/div[2]/div[2]/div/div[2]/input')\n",
    "search_field_location.send_keys('Noida')"
   ]
  },
  {
   "cell_type": "code",
   "execution_count": 138,
   "id": "adbc87d2",
   "metadata": {},
   "outputs": [],
   "source": [
    "search_button=driver.find_element_by_xpath('/html/body/div/div/div/div[2]/div[1]/div[2]/div[1]/div/div/div/div[2]/div[2]/div/div[2]/i')\n",
    "search_button.click()"
   ]
  },
  {
   "cell_type": "code",
   "execution_count": 143,
   "id": "2fdbdc92",
   "metadata": {},
   "outputs": [],
   "source": [
    "Job_titles=[]\n",
    "Job_posted=[]\n",
    "Company_name=[]\n",
    "Company_rating=[]\n",
    "\n"
   ]
  },
  {
   "cell_type": "code",
   "execution_count": 160,
   "id": "479861af",
   "metadata": {},
   "outputs": [
    {
     "data": {
      "text/plain": [
       "[<selenium.webdriver.remote.webelement.WebElement (session=\"9547cb5dafc7157f6c86fa9d7a7a4e25\", element=\"5f2cc759-04c5-45c8-9c20-44775a97e52a\")>,\n",
       " <selenium.webdriver.remote.webelement.WebElement (session=\"9547cb5dafc7157f6c86fa9d7a7a4e25\", element=\"766d74b9-5523-407e-9daa-1ba9e377355c\")>,\n",
       " <selenium.webdriver.remote.webelement.WebElement (session=\"9547cb5dafc7157f6c86fa9d7a7a4e25\", element=\"6f8f31a6-55f9-40e4-afbc-c1959141b3ce\")>,\n",
       " <selenium.webdriver.remote.webelement.WebElement (session=\"9547cb5dafc7157f6c86fa9d7a7a4e25\", element=\"9f36ae36-6636-422f-b5c4-87d20bd13d0e\")>,\n",
       " <selenium.webdriver.remote.webelement.WebElement (session=\"9547cb5dafc7157f6c86fa9d7a7a4e25\", element=\"b94ce135-d2d5-435e-9faa-0e1ee4b1d986\")>,\n",
       " <selenium.webdriver.remote.webelement.WebElement (session=\"9547cb5dafc7157f6c86fa9d7a7a4e25\", element=\"70739a69-44cb-46fe-bb01-4c7d383314c7\")>,\n",
       " <selenium.webdriver.remote.webelement.WebElement (session=\"9547cb5dafc7157f6c86fa9d7a7a4e25\", element=\"baf440d5-4c71-44f8-83e6-7d1afc459667\")>,\n",
       " <selenium.webdriver.remote.webelement.WebElement (session=\"9547cb5dafc7157f6c86fa9d7a7a4e25\", element=\"7c1ff24f-ac87-4481-8857-6babe61c6a33\")>,\n",
       " <selenium.webdriver.remote.webelement.WebElement (session=\"9547cb5dafc7157f6c86fa9d7a7a4e25\", element=\"e3198b1f-36a0-4c30-8b25-fbe0b46a0197\")>,\n",
       " <selenium.webdriver.remote.webelement.WebElement (session=\"9547cb5dafc7157f6c86fa9d7a7a4e25\", element=\"03bf1eec-313e-4373-ab83-64a58225792b\")>]"
      ]
     },
     "execution_count": 160,
     "metadata": {},
     "output_type": "execute_result"
    }
   ],
   "source": [
    "titles_tags=driver.find_elements_by_xpath('//a[@class=\"title noclick\"]')\n",
    "titles_tags[0:10]"
   ]
  },
  {
   "cell_type": "code",
   "execution_count": 162,
   "id": "4b1a67aa",
   "metadata": {},
   "outputs": [
    {
     "data": {
      "text/plain": [
       "['7-10 years',\n",
       " 'Not Disclosed',\n",
       " 'Gurgaon/Gurugram, Noida',\n",
       " '7-10 Yrs',\n",
       " 'Not Disclosed',\n",
       " 'Gurgaon/Gurugram, Noida',\n",
       " 'deep learning, nlp, Natural Language Processing +2 more',\n",
       " '7-12 Yrs',\n",
       " 'Not Disclosed',\n",
       " 'Bengaluru/Bangalore, Hyderabad/Secunderabad, Gurgaon/Gurugram +1 more']"
      ]
     },
     "execution_count": 162,
     "metadata": {},
     "output_type": "execute_result"
    }
   ],
   "source": [
    "for i in titles_tags:\n",
    "    title=i.text\n",
    "    Job_titles.append(title)\n",
    "Job_titles[0:10]"
   ]
  },
  {
   "cell_type": "code",
   "execution_count": 163,
   "id": "dca23a24",
   "metadata": {},
   "outputs": [
    {
     "data": {
      "text/plain": [
       "[<selenium.webdriver.remote.webelement.WebElement (session=\"9547cb5dafc7157f6c86fa9d7a7a4e25\", element=\"a9148b40-5c9f-4ac1-86bf-d460346c9696\")>,\n",
       " <selenium.webdriver.remote.webelement.WebElement (session=\"9547cb5dafc7157f6c86fa9d7a7a4e25\", element=\"0b080c1d-4402-44fd-9a2c-af00fffc5690\")>,\n",
       " <selenium.webdriver.remote.webelement.WebElement (session=\"9547cb5dafc7157f6c86fa9d7a7a4e25\", element=\"9d42d1c6-684a-40f9-8a7f-ebf6ccf66c3c\")>,\n",
       " <selenium.webdriver.remote.webelement.WebElement (session=\"9547cb5dafc7157f6c86fa9d7a7a4e25\", element=\"99523fd4-f140-41a7-a1a1-98b58994a49a\")>,\n",
       " <selenium.webdriver.remote.webelement.WebElement (session=\"9547cb5dafc7157f6c86fa9d7a7a4e25\", element=\"23935e76-2ee9-44e4-bc35-6002e3ed1018\")>,\n",
       " <selenium.webdriver.remote.webelement.WebElement (session=\"9547cb5dafc7157f6c86fa9d7a7a4e25\", element=\"2efd70b3-a7ae-425b-91ab-5f39cbc41925\")>,\n",
       " <selenium.webdriver.remote.webelement.WebElement (session=\"9547cb5dafc7157f6c86fa9d7a7a4e25\", element=\"275be034-8141-402a-8300-600861ebab54\")>,\n",
       " <selenium.webdriver.remote.webelement.WebElement (session=\"9547cb5dafc7157f6c86fa9d7a7a4e25\", element=\"9af8013b-9fc0-4e7e-9c29-1e45c2f58852\")>,\n",
       " <selenium.webdriver.remote.webelement.WebElement (session=\"9547cb5dafc7157f6c86fa9d7a7a4e25\", element=\"3ef98e16-9f40-4273-878f-614f61cd0d11\")>,\n",
       " <selenium.webdriver.remote.webelement.WebElement (session=\"9547cb5dafc7157f6c86fa9d7a7a4e25\", element=\"b87ecfb1-3ce6-46a3-a61f-53c30f47d339\")>]"
      ]
     },
     "execution_count": 163,
     "metadata": {},
     "output_type": "execute_result"
    }
   ],
   "source": [
    "posted_titles=driver.find_elements_by_xpath('//span[@class=\"body-small-l\"]')\n",
    "posted_titles[0:10]"
   ]
  },
  {
   "cell_type": "code",
   "execution_count": 164,
   "id": "22bf2ff2",
   "metadata": {},
   "outputs": [
    {
     "data": {
      "text/plain": [
       "['7d ago',\n",
       " 'via naukri.com',\n",
       " '12d ago',\n",
       " 'via naukri.com',\n",
       " '26d ago',\n",
       " 'via naukri.com',\n",
       " '29d ago',\n",
       " 'via naukri.com',\n",
       " '7d ago',\n",
       " 'via naukri.com']"
      ]
     },
     "execution_count": 164,
     "metadata": {},
     "output_type": "execute_result"
    }
   ],
   "source": [
    "for i in posted_titles:\n",
    "    title=i.text\n",
    "    Job_posted.append(title)\n",
    "Job_posted[0:10]"
   ]
  },
  {
   "cell_type": "code",
   "execution_count": 168,
   "id": "f0744b0b",
   "metadata": {},
   "outputs": [
    {
     "data": {
      "text/plain": [
       "[<selenium.webdriver.remote.webelement.WebElement (session=\"9547cb5dafc7157f6c86fa9d7a7a4e25\", element=\"4b1b0f6c-aba9-41da-a4e1-6cc720670a82\")>,\n",
       " <selenium.webdriver.remote.webelement.WebElement (session=\"9547cb5dafc7157f6c86fa9d7a7a4e25\", element=\"fb9aba47-fa57-46dd-9366-c60a8e94774b\")>,\n",
       " <selenium.webdriver.remote.webelement.WebElement (session=\"9547cb5dafc7157f6c86fa9d7a7a4e25\", element=\"e060bafd-48ef-4cc4-ba4f-bf15ae68a16e\")>,\n",
       " <selenium.webdriver.remote.webelement.WebElement (session=\"9547cb5dafc7157f6c86fa9d7a7a4e25\", element=\"af13bc86-0577-4357-999e-fa25e1da4282\")>,\n",
       " <selenium.webdriver.remote.webelement.WebElement (session=\"9547cb5dafc7157f6c86fa9d7a7a4e25\", element=\"e840685a-a943-4420-8ee1-bb9aa5a498a3\")>,\n",
       " <selenium.webdriver.remote.webelement.WebElement (session=\"9547cb5dafc7157f6c86fa9d7a7a4e25\", element=\"ef24f3e3-8e17-4df5-823c-302311176092\")>,\n",
       " <selenium.webdriver.remote.webelement.WebElement (session=\"9547cb5dafc7157f6c86fa9d7a7a4e25\", element=\"6fe89bb5-cd7e-4f11-893d-83f176060753\")>,\n",
       " <selenium.webdriver.remote.webelement.WebElement (session=\"9547cb5dafc7157f6c86fa9d7a7a4e25\", element=\"5a00c13b-c343-44e1-97ed-5e715bf77153\")>,\n",
       " <selenium.webdriver.remote.webelement.WebElement (session=\"9547cb5dafc7157f6c86fa9d7a7a4e25\", element=\"b9ad0bd0-068e-488a-9d84-ac9a1da1457d\")>,\n",
       " <selenium.webdriver.remote.webelement.WebElement (session=\"9547cb5dafc7157f6c86fa9d7a7a4e25\", element=\"be863daa-17f4-4334-915e-5794d1b0bce6\")>]"
      ]
     },
     "execution_count": 168,
     "metadata": {},
     "output_type": "execute_result"
    }
   ],
   "source": [
    "name_titles=driver.find_elements_by_xpath('//p[@class=\"company body-medium\"]')\n",
    "name_titles[0:10]"
   ]
  },
  {
   "cell_type": "code",
   "execution_count": 169,
   "id": "4efe22ed",
   "metadata": {},
   "outputs": [
    {
     "data": {
      "text/plain": [
       "['GENPACT India Private Limited',\n",
       " 'GENPACT India Private Limited',\n",
       " 'GENPACT India Private Limited',\n",
       " 'Tech Mahindra Ltd',\n",
       " 'GENPACT India Private Limited',\n",
       " 'Bristlecone India Limited',\n",
       " 'Zyoin',\n",
       " 'Newgen Software Technologies Ltd.',\n",
       " 'Pitney Bowes India Pvt Ltd',\n",
       " 'JK Technosoft Ltd']"
      ]
     },
     "execution_count": 169,
     "metadata": {},
     "output_type": "execute_result"
    }
   ],
   "source": [
    "for i in name_titles:\n",
    "    title=i.text\n",
    "    Company_name.append(title)\n",
    "Company_name[0:10]"
   ]
  },
  {
   "cell_type": "code",
   "execution_count": 170,
   "id": "774c0445",
   "metadata": {},
   "outputs": [
    {
     "data": {
      "text/plain": [
       "[<selenium.webdriver.remote.webelement.WebElement (session=\"9547cb5dafc7157f6c86fa9d7a7a4e25\", element=\"829c98bb-19fe-4f55-a268-fd34dcfb8064\")>,\n",
       " <selenium.webdriver.remote.webelement.WebElement (session=\"9547cb5dafc7157f6c86fa9d7a7a4e25\", element=\"178f5953-79a2-4764-af9f-4b5c1bc7454c\")>,\n",
       " <selenium.webdriver.remote.webelement.WebElement (session=\"9547cb5dafc7157f6c86fa9d7a7a4e25\", element=\"154ec58c-3326-4468-9ee4-da503c45ec12\")>,\n",
       " <selenium.webdriver.remote.webelement.WebElement (session=\"9547cb5dafc7157f6c86fa9d7a7a4e25\", element=\"e0a746c0-9d0d-451c-abb6-f16e54e3bdaa\")>,\n",
       " <selenium.webdriver.remote.webelement.WebElement (session=\"9547cb5dafc7157f6c86fa9d7a7a4e25\", element=\"45e1960d-3355-4c75-83e9-f24d8fc5352a\")>,\n",
       " <selenium.webdriver.remote.webelement.WebElement (session=\"9547cb5dafc7157f6c86fa9d7a7a4e25\", element=\"6b0755bd-457f-404c-bbcf-165bcb4a3e7d\")>,\n",
       " <selenium.webdriver.remote.webelement.WebElement (session=\"9547cb5dafc7157f6c86fa9d7a7a4e25\", element=\"479ffa7b-6617-4d34-ba20-9cda5ce923c8\")>,\n",
       " <selenium.webdriver.remote.webelement.WebElement (session=\"9547cb5dafc7157f6c86fa9d7a7a4e25\", element=\"16b47923-40fb-4034-b6a7-6991facb1a81\")>,\n",
       " <selenium.webdriver.remote.webelement.WebElement (session=\"9547cb5dafc7157f6c86fa9d7a7a4e25\", element=\"4dd2a85c-30d3-449d-a89e-0724a4eaee82\")>,\n",
       " <selenium.webdriver.remote.webelement.WebElement (session=\"9547cb5dafc7157f6c86fa9d7a7a4e25\", element=\"4b007eb2-d2f1-4e6c-b4a5-db792dca42c6\")>]"
      ]
     },
     "execution_count": 170,
     "metadata": {},
     "output_type": "execute_result"
    }
   ],
   "source": [
    "rating_titles=driver.find_elements_by_xpath('//div[@class=\"rating-wrapper\"]')\n",
    "rating_titles[0:10]"
   ]
  },
  {
   "cell_type": "code",
   "execution_count": 171,
   "id": "70a7ab13",
   "metadata": {},
   "outputs": [
    {
     "data": {
      "text/plain": [
       "['',\n",
       " '',\n",
       " '',\n",
       " '4.0\\nbased on 17.1k Reviews',\n",
       " '4.0\\n(17.1k Reviews)',\n",
       " '4.0\\n(17.1k Reviews)',\n",
       " '3.7\\n(17.2k Reviews)',\n",
       " '4.0\\n(17.1k Reviews)',\n",
       " '3.9\\n(271 Reviews)',\n",
       " '4.1\\n(75 Reviews)']"
      ]
     },
     "execution_count": 171,
     "metadata": {},
     "output_type": "execute_result"
    }
   ],
   "source": [
    "for i in rating_titles:\n",
    "    title=i.text\n",
    "    Company_rating.append(title)\n",
    "Company_rating[0:10]"
   ]
  },
  {
   "cell_type": "code",
   "execution_count": null,
   "id": "47d19e5d",
   "metadata": {},
   "outputs": [],
   "source": []
  }
 ],
 "metadata": {
  "kernelspec": {
   "display_name": "Python 3 (ipykernel)",
   "language": "python",
   "name": "python3"
  },
  "language_info": {
   "codemirror_mode": {
    "name": "ipython",
    "version": 3
   },
   "file_extension": ".py",
   "mimetype": "text/x-python",
   "name": "python",
   "nbconvert_exporter": "python",
   "pygments_lexer": "ipython3",
   "version": "3.9.7"
  }
 },
 "nbformat": 4,
 "nbformat_minor": 5
}
